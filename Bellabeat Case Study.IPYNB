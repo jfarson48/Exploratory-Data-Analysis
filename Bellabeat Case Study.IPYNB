{
 "cells": [
  {
   "cell_type": "markdown",
   "id": "59e95321-c3f4-4a20-8d5d-64b5d3228dfa",
   "metadata": {},
   "source": [
    "# Bellabeat Fitness Data Case Study"
   ]
  },
  {
   "cell_type": "markdown",
   "id": "931a993c-11c0-42e5-af9d-79ce1dca884e",
   "metadata": {},
   "source": [
    "### By: Julia Farson"
   ]
  },
  {
   "cell_type": "code",
   "execution_count": 2,
   "id": "1449f3ba-5a4f-42e0-9cbf-f33b2db0976c",
   "metadata": {
    "tags": []
   },
   "outputs": [
    {
     "ename": "ERROR",
     "evalue": "Error in parse(text = x, srcfile = src): <text>:1:2: unexpected '['\n1: ![\n     ^\n",
     "output_type": "error",
     "traceback": [
      "Error in parse(text = x, srcfile = src): <text>:1:2: unexpected '['\n1: ![\n     ^\nTraceback:\n"
     ]
    }
   ],
   "source": [
    "![Bellabeat](Bellabeat.png)"
   ]
  },
  {
   "cell_type": "markdown",
   "id": "469f61aa-5282-4327-99b6-0b928949eab0",
   "metadata": {
    "tags": []
   },
   "source": [
    "# 1. Introduction"
   ]
  },
  {
   "cell_type": "markdown",
   "id": "d3be3b82-345c-4fcc-8c43-b7f66980faaa",
   "metadata": {
    "tags": []
   },
   "source": [
    "### About Bellabeat"
   ]
  },
  {
   "cell_type": "markdown",
   "id": "59f3f232-850b-4682-96a4-e60d870bc5a9",
   "metadata": {},
   "source": [
    "Bellabeat is a high-tech manufacturer of health-focused products for women. Bellabeat products collect data on the user's sleep, stress, activity, and reproductive health to empower women with knowledge on their own health and wellness. Bellabeat's co-founders, Urška Sršen and Sando Mur, would like to analyze daily habits of consumers of other smart devices in order to identify trends and guide Bellabeat marketing strategies. "
   ]
  },
  {
   "cell_type": "markdown",
   "id": "8bab8d9b-5dd8-47f6-b07f-e026a1f525b3",
   "metadata": {},
   "source": [
    "### Business task\n",
    "Analyzing smart device data trends in order to make high level recommendations to guide Bellabeat marketing strategies.\n",
    "\n",
    "### Key stakeholders:\n",
    "Cofounders Urška Sršen, Sando Mur, and the rest of the Bellabeat marketing team."
   ]
  },
  {
   "cell_type": "markdown",
   "id": "aeb0c49c-90fd-4b0c-9658-eea8584ca0c8",
   "metadata": {},
   "source": [
    "# 2. Data Prep / Preprocessing"
   ]
  },
  {
   "cell_type": "markdown",
   "id": "d4633d50-ddcf-4610-8f9c-b762f6ad6393",
   "metadata": {
    "tags": []
   },
   "source": [
    "## Key Objectives:\n",
    "\n",
    "### Determining credibility of the data\n",
    "Sršen has asked for data from FitBit Fitness Tracker to be analyzed. The data provided is open source data from Fitbit Fitness Tracker. The data is stored in Kaggle and made available by Mobius. The data sets were created from a survey provided by Amazon Mechanical Turk. The survey included thirty FitBit users' personal tracking data over the course of two months between 03.12.2016 and 05.12.2016.\n",
    "\n",
    "Limitations to this data include the limited sample size and lack of demographic information indicating that the sample may not be an accurate representation of FitBit users as whole. The dataset is also outdated. If Bellabeat was a real client, I would explain the limitations with the data set provided and suggest alternative, more reliable data. Since the case study asks for the Fitbit Fitness Tracker data to be analyzed, I continued my analysis with the data provided. \n",
    "\n",
    "### Sorting and filtering the data\n",
    "To sort and filter the data, I began by installing and downloading the tidyverse and lubridate package in order to upload the csv files and view the data sets containing the Fitbit Fitness Tracker data. I also installed packages I would need for the data cleaning and visualization process."
   ]
  },
  {
   "cell_type": "code",
   "execution_count": 56,
   "id": "fc79de28-7331-44f2-a14b-1db2b30c7a75",
   "metadata": {
    "tags": []
   },
   "outputs": [
    {
     "name": "stderr",
     "output_type": "stream",
     "text": [
      "Warning message:\n",
      "\"package 'tidyverse' is in use and will not be installed\"\n",
      "Warning message:\n",
      "\"package 'lubridate' is in use and will not be installed\"\n",
      "Warning message:\n",
      "\"package 'dplyr' is in use and will not be installed\"\n",
      "Warning message:\n",
      "\"package 'ggplot2' is in use and will not be installed\"\n",
      "Warning message:\n",
      "\"package 'tidyr' is in use and will not be installed\"\n",
      "Warning message:\n",
      "\"package 'skimr' is in use and will not be installed\"\n",
      "Warning message:\n",
      "\"package 'janitor' is in use and will not be installed\"\n",
      "Warning message:\n",
      "\"package 'here' is in use and will not be installed\"\n",
      "Warning message:\n",
      "\"package 'ggpubr' is in use and will not be installed\"\n",
      "Warning message:\n",
      "\"package 'ggrepel' is in use and will not be installed\"\n"
     ]
    }
   ],
   "source": [
    "install.packages(\"tidyverse\")\n",
    "library(tidyverse)\n",
    "install.packages(\"lubridate\")\n",
    "library(lubridate)\n",
    "install.packages(\"dplyr\")\n",
    "library(dplyr)\n",
    "install.packages(\"ggplot2\")\n",
    "library(ggplot2)\n",
    "install.packages(\"tidyr\")\n",
    "library(tidyr)\n",
    "install.packages(\"skimr\")\n",
    "library(skimr)\n",
    "install.packages(\"janitor\")\n",
    "library(janitor)\n",
    "install.packages(\"here\")\n",
    "library(here)\n",
    "install.packages(\"ggpubr\")\n",
    "library(ggpubr)\n",
    "install.packages(\"ggrepel\")\n",
    "library(ggrepel)"
   ]
  },
  {
   "cell_type": "markdown",
   "id": "3d89c832-3895-4c16-b628-4abe3d81362e",
   "metadata": {},
   "source": [
    "Next, I uploaded the data sets using the read.csv function through the tidyverse package."
   ]
  },
  {
   "cell_type": "code",
   "execution_count": 57,
   "id": "053b3d64-2a4c-4b78-849f-1e1f547d559d",
   "metadata": {},
   "outputs": [],
   "source": [
    "activity <- read.csv(\"dailyActivity_merged.csv\")\n",
    "intensity <- read.csv(\"hourlyIntensities_merged.csv\")\n",
    "calories <- read.csv(\"hourlyCalories_merged.csv\")\n",
    "sleep <- read.csv(\"sleepDay_merged.csv\")\n",
    "weight <- read.csv(\"weightLogInfo_merged.csv\")"
   ]
  },
  {
   "cell_type": "markdown",
   "id": "5f55dee9-9c12-450c-8aa4-9da6b2fc59d1",
   "metadata": {},
   "source": [
    "After uploading the data, I previewed my data frames to review the summary of each column through the head function."
   ]
  },
  {
   "cell_type": "code",
   "execution_count": 58,
   "id": "bbe335a7-e0c9-4a04-9b68-9b325ee2f0b3",
   "metadata": {},
   "outputs": [
    {
     "data": {
      "text/html": [
       "<table class=\"dataframe\">\n",
       "<caption>A data.frame: 6 × 15</caption>\n",
       "<thead>\n",
       "\t<tr><th></th><th scope=col>Id</th><th scope=col>ActivityDate</th><th scope=col>TotalSteps</th><th scope=col>TotalDistance</th><th scope=col>TrackerDistance</th><th scope=col>LoggedActivitiesDistance</th><th scope=col>VeryActiveDistance</th><th scope=col>ModeratelyActiveDistance</th><th scope=col>LightActiveDistance</th><th scope=col>SedentaryActiveDistance</th><th scope=col>VeryActiveMinutes</th><th scope=col>FairlyActiveMinutes</th><th scope=col>LightlyActiveMinutes</th><th scope=col>SedentaryMinutes</th><th scope=col>Calories</th></tr>\n",
       "\t<tr><th></th><th scope=col>&lt;dbl&gt;</th><th scope=col>&lt;chr&gt;</th><th scope=col>&lt;int&gt;</th><th scope=col>&lt;dbl&gt;</th><th scope=col>&lt;dbl&gt;</th><th scope=col>&lt;dbl&gt;</th><th scope=col>&lt;dbl&gt;</th><th scope=col>&lt;dbl&gt;</th><th scope=col>&lt;dbl&gt;</th><th scope=col>&lt;dbl&gt;</th><th scope=col>&lt;int&gt;</th><th scope=col>&lt;int&gt;</th><th scope=col>&lt;int&gt;</th><th scope=col>&lt;int&gt;</th><th scope=col>&lt;int&gt;</th></tr>\n",
       "</thead>\n",
       "<tbody>\n",
       "\t<tr><th scope=row>1</th><td>1503960366</td><td>4/12/2016</td><td>13162</td><td>8.50</td><td>8.50</td><td>0</td><td>1.88</td><td>0.55</td><td>6.06</td><td>0</td><td>25</td><td>13</td><td>328</td><td> 728</td><td>1985</td></tr>\n",
       "\t<tr><th scope=row>2</th><td>1503960366</td><td>4/13/2016</td><td>10735</td><td>6.97</td><td>6.97</td><td>0</td><td>1.57</td><td>0.69</td><td>4.71</td><td>0</td><td>21</td><td>19</td><td>217</td><td> 776</td><td>1797</td></tr>\n",
       "\t<tr><th scope=row>3</th><td>1503960366</td><td>4/14/2016</td><td>10460</td><td>6.74</td><td>6.74</td><td>0</td><td>2.44</td><td>0.40</td><td>3.91</td><td>0</td><td>30</td><td>11</td><td>181</td><td>1218</td><td>1776</td></tr>\n",
       "\t<tr><th scope=row>4</th><td>1503960366</td><td>4/15/2016</td><td> 9762</td><td>6.28</td><td>6.28</td><td>0</td><td>2.14</td><td>1.26</td><td>2.83</td><td>0</td><td>29</td><td>34</td><td>209</td><td> 726</td><td>1745</td></tr>\n",
       "\t<tr><th scope=row>5</th><td>1503960366</td><td>4/16/2016</td><td>12669</td><td>8.16</td><td>8.16</td><td>0</td><td>2.71</td><td>0.41</td><td>5.04</td><td>0</td><td>36</td><td>10</td><td>221</td><td> 773</td><td>1863</td></tr>\n",
       "\t<tr><th scope=row>6</th><td>1503960366</td><td>4/17/2016</td><td> 9705</td><td>6.48</td><td>6.48</td><td>0</td><td>3.19</td><td>0.78</td><td>2.51</td><td>0</td><td>38</td><td>20</td><td>164</td><td> 539</td><td>1728</td></tr>\n",
       "</tbody>\n",
       "</table>\n"
      ],
      "text/latex": [
       "A data.frame: 6 × 15\n",
       "\\begin{tabular}{r|lllllllllllllll}\n",
       "  & Id & ActivityDate & TotalSteps & TotalDistance & TrackerDistance & LoggedActivitiesDistance & VeryActiveDistance & ModeratelyActiveDistance & LightActiveDistance & SedentaryActiveDistance & VeryActiveMinutes & FairlyActiveMinutes & LightlyActiveMinutes & SedentaryMinutes & Calories\\\\\n",
       "  & <dbl> & <chr> & <int> & <dbl> & <dbl> & <dbl> & <dbl> & <dbl> & <dbl> & <dbl> & <int> & <int> & <int> & <int> & <int>\\\\\n",
       "\\hline\n",
       "\t1 & 1503960366 & 4/12/2016 & 13162 & 8.50 & 8.50 & 0 & 1.88 & 0.55 & 6.06 & 0 & 25 & 13 & 328 &  728 & 1985\\\\\n",
       "\t2 & 1503960366 & 4/13/2016 & 10735 & 6.97 & 6.97 & 0 & 1.57 & 0.69 & 4.71 & 0 & 21 & 19 & 217 &  776 & 1797\\\\\n",
       "\t3 & 1503960366 & 4/14/2016 & 10460 & 6.74 & 6.74 & 0 & 2.44 & 0.40 & 3.91 & 0 & 30 & 11 & 181 & 1218 & 1776\\\\\n",
       "\t4 & 1503960366 & 4/15/2016 &  9762 & 6.28 & 6.28 & 0 & 2.14 & 1.26 & 2.83 & 0 & 29 & 34 & 209 &  726 & 1745\\\\\n",
       "\t5 & 1503960366 & 4/16/2016 & 12669 & 8.16 & 8.16 & 0 & 2.71 & 0.41 & 5.04 & 0 & 36 & 10 & 221 &  773 & 1863\\\\\n",
       "\t6 & 1503960366 & 4/17/2016 &  9705 & 6.48 & 6.48 & 0 & 3.19 & 0.78 & 2.51 & 0 & 38 & 20 & 164 &  539 & 1728\\\\\n",
       "\\end{tabular}\n"
      ],
      "text/markdown": [
       "\n",
       "A data.frame: 6 × 15\n",
       "\n",
       "| <!--/--> | Id &lt;dbl&gt; | ActivityDate &lt;chr&gt; | TotalSteps &lt;int&gt; | TotalDistance &lt;dbl&gt; | TrackerDistance &lt;dbl&gt; | LoggedActivitiesDistance &lt;dbl&gt; | VeryActiveDistance &lt;dbl&gt; | ModeratelyActiveDistance &lt;dbl&gt; | LightActiveDistance &lt;dbl&gt; | SedentaryActiveDistance &lt;dbl&gt; | VeryActiveMinutes &lt;int&gt; | FairlyActiveMinutes &lt;int&gt; | LightlyActiveMinutes &lt;int&gt; | SedentaryMinutes &lt;int&gt; | Calories &lt;int&gt; |\n",
       "|---|---|---|---|---|---|---|---|---|---|---|---|---|---|---|---|\n",
       "| 1 | 1503960366 | 4/12/2016 | 13162 | 8.50 | 8.50 | 0 | 1.88 | 0.55 | 6.06 | 0 | 25 | 13 | 328 |  728 | 1985 |\n",
       "| 2 | 1503960366 | 4/13/2016 | 10735 | 6.97 | 6.97 | 0 | 1.57 | 0.69 | 4.71 | 0 | 21 | 19 | 217 |  776 | 1797 |\n",
       "| 3 | 1503960366 | 4/14/2016 | 10460 | 6.74 | 6.74 | 0 | 2.44 | 0.40 | 3.91 | 0 | 30 | 11 | 181 | 1218 | 1776 |\n",
       "| 4 | 1503960366 | 4/15/2016 |  9762 | 6.28 | 6.28 | 0 | 2.14 | 1.26 | 2.83 | 0 | 29 | 34 | 209 |  726 | 1745 |\n",
       "| 5 | 1503960366 | 4/16/2016 | 12669 | 8.16 | 8.16 | 0 | 2.71 | 0.41 | 5.04 | 0 | 36 | 10 | 221 |  773 | 1863 |\n",
       "| 6 | 1503960366 | 4/17/2016 |  9705 | 6.48 | 6.48 | 0 | 3.19 | 0.78 | 2.51 | 0 | 38 | 20 | 164 |  539 | 1728 |\n",
       "\n"
      ],
      "text/plain": [
       "  Id         ActivityDate TotalSteps TotalDistance TrackerDistance\n",
       "1 1503960366 4/12/2016    13162      8.50          8.50           \n",
       "2 1503960366 4/13/2016    10735      6.97          6.97           \n",
       "3 1503960366 4/14/2016    10460      6.74          6.74           \n",
       "4 1503960366 4/15/2016     9762      6.28          6.28           \n",
       "5 1503960366 4/16/2016    12669      8.16          8.16           \n",
       "6 1503960366 4/17/2016     9705      6.48          6.48           \n",
       "  LoggedActivitiesDistance VeryActiveDistance ModeratelyActiveDistance\n",
       "1 0                        1.88               0.55                    \n",
       "2 0                        1.57               0.69                    \n",
       "3 0                        2.44               0.40                    \n",
       "4 0                        2.14               1.26                    \n",
       "5 0                        2.71               0.41                    \n",
       "6 0                        3.19               0.78                    \n",
       "  LightActiveDistance SedentaryActiveDistance VeryActiveMinutes\n",
       "1 6.06                0                       25               \n",
       "2 4.71                0                       21               \n",
       "3 3.91                0                       30               \n",
       "4 2.83                0                       29               \n",
       "5 5.04                0                       36               \n",
       "6 2.51                0                       38               \n",
       "  FairlyActiveMinutes LightlyActiveMinutes SedentaryMinutes Calories\n",
       "1 13                  328                   728             1985    \n",
       "2 19                  217                   776             1797    \n",
       "3 11                  181                  1218             1776    \n",
       "4 34                  209                   726             1745    \n",
       "5 10                  221                   773             1863    \n",
       "6 20                  164                   539             1728    "
      ]
     },
     "metadata": {},
     "output_type": "display_data"
    },
    {
     "data": {
      "text/html": [
       "<table class=\"dataframe\">\n",
       "<caption>A data.frame: 6 × 4</caption>\n",
       "<thead>\n",
       "\t<tr><th></th><th scope=col>Id</th><th scope=col>ActivityHour</th><th scope=col>TotalIntensity</th><th scope=col>AverageIntensity</th></tr>\n",
       "\t<tr><th></th><th scope=col>&lt;dbl&gt;</th><th scope=col>&lt;chr&gt;</th><th scope=col>&lt;int&gt;</th><th scope=col>&lt;dbl&gt;</th></tr>\n",
       "</thead>\n",
       "<tbody>\n",
       "\t<tr><th scope=row>1</th><td>1503960366</td><td>4/12/2016 12:00:00 AM</td><td>20</td><td>0.333333</td></tr>\n",
       "\t<tr><th scope=row>2</th><td>1503960366</td><td>4/12/2016 1:00:00 AM </td><td> 8</td><td>0.133333</td></tr>\n",
       "\t<tr><th scope=row>3</th><td>1503960366</td><td>4/12/2016 2:00:00 AM </td><td> 7</td><td>0.116667</td></tr>\n",
       "\t<tr><th scope=row>4</th><td>1503960366</td><td>4/12/2016 3:00:00 AM </td><td> 0</td><td>0.000000</td></tr>\n",
       "\t<tr><th scope=row>5</th><td>1503960366</td><td>4/12/2016 4:00:00 AM </td><td> 0</td><td>0.000000</td></tr>\n",
       "\t<tr><th scope=row>6</th><td>1503960366</td><td>4/12/2016 5:00:00 AM </td><td> 0</td><td>0.000000</td></tr>\n",
       "</tbody>\n",
       "</table>\n"
      ],
      "text/latex": [
       "A data.frame: 6 × 4\n",
       "\\begin{tabular}{r|llll}\n",
       "  & Id & ActivityHour & TotalIntensity & AverageIntensity\\\\\n",
       "  & <dbl> & <chr> & <int> & <dbl>\\\\\n",
       "\\hline\n",
       "\t1 & 1503960366 & 4/12/2016 12:00:00 AM & 20 & 0.333333\\\\\n",
       "\t2 & 1503960366 & 4/12/2016 1:00:00 AM  &  8 & 0.133333\\\\\n",
       "\t3 & 1503960366 & 4/12/2016 2:00:00 AM  &  7 & 0.116667\\\\\n",
       "\t4 & 1503960366 & 4/12/2016 3:00:00 AM  &  0 & 0.000000\\\\\n",
       "\t5 & 1503960366 & 4/12/2016 4:00:00 AM  &  0 & 0.000000\\\\\n",
       "\t6 & 1503960366 & 4/12/2016 5:00:00 AM  &  0 & 0.000000\\\\\n",
       "\\end{tabular}\n"
      ],
      "text/markdown": [
       "\n",
       "A data.frame: 6 × 4\n",
       "\n",
       "| <!--/--> | Id &lt;dbl&gt; | ActivityHour &lt;chr&gt; | TotalIntensity &lt;int&gt; | AverageIntensity &lt;dbl&gt; |\n",
       "|---|---|---|---|---|\n",
       "| 1 | 1503960366 | 4/12/2016 12:00:00 AM | 20 | 0.333333 |\n",
       "| 2 | 1503960366 | 4/12/2016 1:00:00 AM  |  8 | 0.133333 |\n",
       "| 3 | 1503960366 | 4/12/2016 2:00:00 AM  |  7 | 0.116667 |\n",
       "| 4 | 1503960366 | 4/12/2016 3:00:00 AM  |  0 | 0.000000 |\n",
       "| 5 | 1503960366 | 4/12/2016 4:00:00 AM  |  0 | 0.000000 |\n",
       "| 6 | 1503960366 | 4/12/2016 5:00:00 AM  |  0 | 0.000000 |\n",
       "\n"
      ],
      "text/plain": [
       "  Id         ActivityHour          TotalIntensity AverageIntensity\n",
       "1 1503960366 4/12/2016 12:00:00 AM 20             0.333333        \n",
       "2 1503960366 4/12/2016 1:00:00 AM   8             0.133333        \n",
       "3 1503960366 4/12/2016 2:00:00 AM   7             0.116667        \n",
       "4 1503960366 4/12/2016 3:00:00 AM   0             0.000000        \n",
       "5 1503960366 4/12/2016 4:00:00 AM   0             0.000000        \n",
       "6 1503960366 4/12/2016 5:00:00 AM   0             0.000000        "
      ]
     },
     "metadata": {},
     "output_type": "display_data"
    },
    {
     "data": {
      "text/html": [
       "<table class=\"dataframe\">\n",
       "<caption>A data.frame: 6 × 3</caption>\n",
       "<thead>\n",
       "\t<tr><th></th><th scope=col>Id</th><th scope=col>ActivityHour</th><th scope=col>Calories</th></tr>\n",
       "\t<tr><th></th><th scope=col>&lt;dbl&gt;</th><th scope=col>&lt;chr&gt;</th><th scope=col>&lt;int&gt;</th></tr>\n",
       "</thead>\n",
       "<tbody>\n",
       "\t<tr><th scope=row>1</th><td>1503960366</td><td>4/12/2016 12:00:00 AM</td><td>81</td></tr>\n",
       "\t<tr><th scope=row>2</th><td>1503960366</td><td>4/12/2016 1:00:00 AM </td><td>61</td></tr>\n",
       "\t<tr><th scope=row>3</th><td>1503960366</td><td>4/12/2016 2:00:00 AM </td><td>59</td></tr>\n",
       "\t<tr><th scope=row>4</th><td>1503960366</td><td>4/12/2016 3:00:00 AM </td><td>47</td></tr>\n",
       "\t<tr><th scope=row>5</th><td>1503960366</td><td>4/12/2016 4:00:00 AM </td><td>48</td></tr>\n",
       "\t<tr><th scope=row>6</th><td>1503960366</td><td>4/12/2016 5:00:00 AM </td><td>48</td></tr>\n",
       "</tbody>\n",
       "</table>\n"
      ],
      "text/latex": [
       "A data.frame: 6 × 3\n",
       "\\begin{tabular}{r|lll}\n",
       "  & Id & ActivityHour & Calories\\\\\n",
       "  & <dbl> & <chr> & <int>\\\\\n",
       "\\hline\n",
       "\t1 & 1503960366 & 4/12/2016 12:00:00 AM & 81\\\\\n",
       "\t2 & 1503960366 & 4/12/2016 1:00:00 AM  & 61\\\\\n",
       "\t3 & 1503960366 & 4/12/2016 2:00:00 AM  & 59\\\\\n",
       "\t4 & 1503960366 & 4/12/2016 3:00:00 AM  & 47\\\\\n",
       "\t5 & 1503960366 & 4/12/2016 4:00:00 AM  & 48\\\\\n",
       "\t6 & 1503960366 & 4/12/2016 5:00:00 AM  & 48\\\\\n",
       "\\end{tabular}\n"
      ],
      "text/markdown": [
       "\n",
       "A data.frame: 6 × 3\n",
       "\n",
       "| <!--/--> | Id &lt;dbl&gt; | ActivityHour &lt;chr&gt; | Calories &lt;int&gt; |\n",
       "|---|---|---|---|\n",
       "| 1 | 1503960366 | 4/12/2016 12:00:00 AM | 81 |\n",
       "| 2 | 1503960366 | 4/12/2016 1:00:00 AM  | 61 |\n",
       "| 3 | 1503960366 | 4/12/2016 2:00:00 AM  | 59 |\n",
       "| 4 | 1503960366 | 4/12/2016 3:00:00 AM  | 47 |\n",
       "| 5 | 1503960366 | 4/12/2016 4:00:00 AM  | 48 |\n",
       "| 6 | 1503960366 | 4/12/2016 5:00:00 AM  | 48 |\n",
       "\n"
      ],
      "text/plain": [
       "  Id         ActivityHour          Calories\n",
       "1 1503960366 4/12/2016 12:00:00 AM 81      \n",
       "2 1503960366 4/12/2016 1:00:00 AM  61      \n",
       "3 1503960366 4/12/2016 2:00:00 AM  59      \n",
       "4 1503960366 4/12/2016 3:00:00 AM  47      \n",
       "5 1503960366 4/12/2016 4:00:00 AM  48      \n",
       "6 1503960366 4/12/2016 5:00:00 AM  48      "
      ]
     },
     "metadata": {},
     "output_type": "display_data"
    },
    {
     "data": {
      "text/html": [
       "<table class=\"dataframe\">\n",
       "<caption>A data.frame: 6 × 5</caption>\n",
       "<thead>\n",
       "\t<tr><th></th><th scope=col>Id</th><th scope=col>SleepDay</th><th scope=col>TotalSleepRecords</th><th scope=col>TotalMinutesAsleep</th><th scope=col>TotalTimeInBed</th></tr>\n",
       "\t<tr><th></th><th scope=col>&lt;dbl&gt;</th><th scope=col>&lt;chr&gt;</th><th scope=col>&lt;int&gt;</th><th scope=col>&lt;int&gt;</th><th scope=col>&lt;int&gt;</th></tr>\n",
       "</thead>\n",
       "<tbody>\n",
       "\t<tr><th scope=row>1</th><td>1503960366</td><td>4/12/2016 12:00:00 AM</td><td>1</td><td>327</td><td>346</td></tr>\n",
       "\t<tr><th scope=row>2</th><td>1503960366</td><td>4/13/2016 12:00:00 AM</td><td>2</td><td>384</td><td>407</td></tr>\n",
       "\t<tr><th scope=row>3</th><td>1503960366</td><td>4/15/2016 12:00:00 AM</td><td>1</td><td>412</td><td>442</td></tr>\n",
       "\t<tr><th scope=row>4</th><td>1503960366</td><td>4/16/2016 12:00:00 AM</td><td>2</td><td>340</td><td>367</td></tr>\n",
       "\t<tr><th scope=row>5</th><td>1503960366</td><td>4/17/2016 12:00:00 AM</td><td>1</td><td>700</td><td>712</td></tr>\n",
       "\t<tr><th scope=row>6</th><td>1503960366</td><td>4/19/2016 12:00:00 AM</td><td>1</td><td>304</td><td>320</td></tr>\n",
       "</tbody>\n",
       "</table>\n"
      ],
      "text/latex": [
       "A data.frame: 6 × 5\n",
       "\\begin{tabular}{r|lllll}\n",
       "  & Id & SleepDay & TotalSleepRecords & TotalMinutesAsleep & TotalTimeInBed\\\\\n",
       "  & <dbl> & <chr> & <int> & <int> & <int>\\\\\n",
       "\\hline\n",
       "\t1 & 1503960366 & 4/12/2016 12:00:00 AM & 1 & 327 & 346\\\\\n",
       "\t2 & 1503960366 & 4/13/2016 12:00:00 AM & 2 & 384 & 407\\\\\n",
       "\t3 & 1503960366 & 4/15/2016 12:00:00 AM & 1 & 412 & 442\\\\\n",
       "\t4 & 1503960366 & 4/16/2016 12:00:00 AM & 2 & 340 & 367\\\\\n",
       "\t5 & 1503960366 & 4/17/2016 12:00:00 AM & 1 & 700 & 712\\\\\n",
       "\t6 & 1503960366 & 4/19/2016 12:00:00 AM & 1 & 304 & 320\\\\\n",
       "\\end{tabular}\n"
      ],
      "text/markdown": [
       "\n",
       "A data.frame: 6 × 5\n",
       "\n",
       "| <!--/--> | Id &lt;dbl&gt; | SleepDay &lt;chr&gt; | TotalSleepRecords &lt;int&gt; | TotalMinutesAsleep &lt;int&gt; | TotalTimeInBed &lt;int&gt; |\n",
       "|---|---|---|---|---|---|\n",
       "| 1 | 1503960366 | 4/12/2016 12:00:00 AM | 1 | 327 | 346 |\n",
       "| 2 | 1503960366 | 4/13/2016 12:00:00 AM | 2 | 384 | 407 |\n",
       "| 3 | 1503960366 | 4/15/2016 12:00:00 AM | 1 | 412 | 442 |\n",
       "| 4 | 1503960366 | 4/16/2016 12:00:00 AM | 2 | 340 | 367 |\n",
       "| 5 | 1503960366 | 4/17/2016 12:00:00 AM | 1 | 700 | 712 |\n",
       "| 6 | 1503960366 | 4/19/2016 12:00:00 AM | 1 | 304 | 320 |\n",
       "\n"
      ],
      "text/plain": [
       "  Id         SleepDay              TotalSleepRecords TotalMinutesAsleep\n",
       "1 1503960366 4/12/2016 12:00:00 AM 1                 327               \n",
       "2 1503960366 4/13/2016 12:00:00 AM 2                 384               \n",
       "3 1503960366 4/15/2016 12:00:00 AM 1                 412               \n",
       "4 1503960366 4/16/2016 12:00:00 AM 2                 340               \n",
       "5 1503960366 4/17/2016 12:00:00 AM 1                 700               \n",
       "6 1503960366 4/19/2016 12:00:00 AM 1                 304               \n",
       "  TotalTimeInBed\n",
       "1 346           \n",
       "2 407           \n",
       "3 442           \n",
       "4 367           \n",
       "5 712           \n",
       "6 320           "
      ]
     },
     "metadata": {},
     "output_type": "display_data"
    },
    {
     "data": {
      "text/html": [
       "<table class=\"dataframe\">\n",
       "<caption>A data.frame: 6 × 8</caption>\n",
       "<thead>\n",
       "\t<tr><th></th><th scope=col>Id</th><th scope=col>Date</th><th scope=col>WeightKg</th><th scope=col>WeightPounds</th><th scope=col>Fat</th><th scope=col>BMI</th><th scope=col>IsManualReport</th><th scope=col>LogId</th></tr>\n",
       "\t<tr><th></th><th scope=col>&lt;dbl&gt;</th><th scope=col>&lt;chr&gt;</th><th scope=col>&lt;dbl&gt;</th><th scope=col>&lt;dbl&gt;</th><th scope=col>&lt;int&gt;</th><th scope=col>&lt;dbl&gt;</th><th scope=col>&lt;chr&gt;</th><th scope=col>&lt;dbl&gt;</th></tr>\n",
       "</thead>\n",
       "<tbody>\n",
       "\t<tr><th scope=row>1</th><td>1503960366</td><td>5/2/2016 11:59:59 PM </td><td> 52.6</td><td>115.9631</td><td>22</td><td>22.65</td><td>True </td><td>1.462234e+12</td></tr>\n",
       "\t<tr><th scope=row>2</th><td>1503960366</td><td>5/3/2016 11:59:59 PM </td><td> 52.6</td><td>115.9631</td><td>NA</td><td>22.65</td><td>True </td><td>1.462320e+12</td></tr>\n",
       "\t<tr><th scope=row>3</th><td>1927972279</td><td>4/13/2016 1:08:52 AM </td><td>133.5</td><td>294.3171</td><td>NA</td><td>47.54</td><td>False</td><td>1.460510e+12</td></tr>\n",
       "\t<tr><th scope=row>4</th><td>2873212765</td><td>4/21/2016 11:59:59 PM</td><td> 56.7</td><td>125.0021</td><td>NA</td><td>21.45</td><td>True </td><td>1.461283e+12</td></tr>\n",
       "\t<tr><th scope=row>5</th><td>2873212765</td><td>5/12/2016 11:59:59 PM</td><td> 57.3</td><td>126.3249</td><td>NA</td><td>21.69</td><td>True </td><td>1.463098e+12</td></tr>\n",
       "\t<tr><th scope=row>6</th><td>4319703577</td><td>4/17/2016 11:59:59 PM</td><td> 72.4</td><td>159.6147</td><td>25</td><td>27.45</td><td>True </td><td>1.460938e+12</td></tr>\n",
       "</tbody>\n",
       "</table>\n"
      ],
      "text/latex": [
       "A data.frame: 6 × 8\n",
       "\\begin{tabular}{r|llllllll}\n",
       "  & Id & Date & WeightKg & WeightPounds & Fat & BMI & IsManualReport & LogId\\\\\n",
       "  & <dbl> & <chr> & <dbl> & <dbl> & <int> & <dbl> & <chr> & <dbl>\\\\\n",
       "\\hline\n",
       "\t1 & 1503960366 & 5/2/2016 11:59:59 PM  &  52.6 & 115.9631 & 22 & 22.65 & True  & 1.462234e+12\\\\\n",
       "\t2 & 1503960366 & 5/3/2016 11:59:59 PM  &  52.6 & 115.9631 & NA & 22.65 & True  & 1.462320e+12\\\\\n",
       "\t3 & 1927972279 & 4/13/2016 1:08:52 AM  & 133.5 & 294.3171 & NA & 47.54 & False & 1.460510e+12\\\\\n",
       "\t4 & 2873212765 & 4/21/2016 11:59:59 PM &  56.7 & 125.0021 & NA & 21.45 & True  & 1.461283e+12\\\\\n",
       "\t5 & 2873212765 & 5/12/2016 11:59:59 PM &  57.3 & 126.3249 & NA & 21.69 & True  & 1.463098e+12\\\\\n",
       "\t6 & 4319703577 & 4/17/2016 11:59:59 PM &  72.4 & 159.6147 & 25 & 27.45 & True  & 1.460938e+12\\\\\n",
       "\\end{tabular}\n"
      ],
      "text/markdown": [
       "\n",
       "A data.frame: 6 × 8\n",
       "\n",
       "| <!--/--> | Id &lt;dbl&gt; | Date &lt;chr&gt; | WeightKg &lt;dbl&gt; | WeightPounds &lt;dbl&gt; | Fat &lt;int&gt; | BMI &lt;dbl&gt; | IsManualReport &lt;chr&gt; | LogId &lt;dbl&gt; |\n",
       "|---|---|---|---|---|---|---|---|---|\n",
       "| 1 | 1503960366 | 5/2/2016 11:59:59 PM  |  52.6 | 115.9631 | 22 | 22.65 | True  | 1.462234e+12 |\n",
       "| 2 | 1503960366 | 5/3/2016 11:59:59 PM  |  52.6 | 115.9631 | NA | 22.65 | True  | 1.462320e+12 |\n",
       "| 3 | 1927972279 | 4/13/2016 1:08:52 AM  | 133.5 | 294.3171 | NA | 47.54 | False | 1.460510e+12 |\n",
       "| 4 | 2873212765 | 4/21/2016 11:59:59 PM |  56.7 | 125.0021 | NA | 21.45 | True  | 1.461283e+12 |\n",
       "| 5 | 2873212765 | 5/12/2016 11:59:59 PM |  57.3 | 126.3249 | NA | 21.69 | True  | 1.463098e+12 |\n",
       "| 6 | 4319703577 | 4/17/2016 11:59:59 PM |  72.4 | 159.6147 | 25 | 27.45 | True  | 1.460938e+12 |\n",
       "\n"
      ],
      "text/plain": [
       "  Id         Date                  WeightKg WeightPounds Fat BMI  \n",
       "1 1503960366 5/2/2016 11:59:59 PM   52.6    115.9631     22  22.65\n",
       "2 1503960366 5/3/2016 11:59:59 PM   52.6    115.9631     NA  22.65\n",
       "3 1927972279 4/13/2016 1:08:52 AM  133.5    294.3171     NA  47.54\n",
       "4 2873212765 4/21/2016 11:59:59 PM  56.7    125.0021     NA  21.45\n",
       "5 2873212765 5/12/2016 11:59:59 PM  57.3    126.3249     NA  21.69\n",
       "6 4319703577 4/17/2016 11:59:59 PM  72.4    159.6147     25  27.45\n",
       "  IsManualReport LogId       \n",
       "1 True           1.462234e+12\n",
       "2 True           1.462320e+12\n",
       "3 False          1.460510e+12\n",
       "4 True           1.461283e+12\n",
       "5 True           1.463098e+12\n",
       "6 True           1.460938e+12"
      ]
     },
     "metadata": {},
     "output_type": "display_data"
    }
   ],
   "source": [
    "head(activity)\n",
    "head(intensity)\n",
    "head(calories)\n",
    "head(sleep)\n",
    "head(weight)"
   ]
  },
  {
   "cell_type": "markdown",
   "id": "0330470b-e923-4fd8-bbb9-a96b917c1786",
   "metadata": {},
   "source": [
    "# 3. Processing Data"
   ]
  },
  {
   "cell_type": "markdown",
   "id": "e0136301-c252-48ef-bab0-70c4507ab18d",
   "metadata": {
    "tags": []
   },
   "source": [
    "## Key Objectives:\n",
    "* Checking data for errors\n",
    "*  Documenting cleaning process"
   ]
  },
  {
   "cell_type": "markdown",
   "id": "3fc5db7a-4f92-4d3b-864e-895c1e0cdb05",
   "metadata": {},
   "source": [
    "I started my data cleaning process by checking the amount of users per data frame. "
   ]
  },
  {
   "cell_type": "code",
   "execution_count": 59,
   "id": "3fcaa348-96b5-4dea-ab9b-b9cd7af36b6c",
   "metadata": {},
   "outputs": [
    {
     "data": {
      "text/html": [
       "33"
      ],
      "text/latex": [
       "33"
      ],
      "text/markdown": [
       "33"
      ],
      "text/plain": [
       "[1] 33"
      ]
     },
     "metadata": {},
     "output_type": "display_data"
    },
    {
     "data": {
      "text/html": [
       "33"
      ],
      "text/latex": [
       "33"
      ],
      "text/markdown": [
       "33"
      ],
      "text/plain": [
       "[1] 33"
      ]
     },
     "metadata": {},
     "output_type": "display_data"
    },
    {
     "data": {
      "text/html": [
       "33"
      ],
      "text/latex": [
       "33"
      ],
      "text/markdown": [
       "33"
      ],
      "text/plain": [
       "[1] 33"
      ]
     },
     "metadata": {},
     "output_type": "display_data"
    },
    {
     "data": {
      "text/html": [
       "24"
      ],
      "text/latex": [
       "24"
      ],
      "text/markdown": [
       "24"
      ],
      "text/plain": [
       "[1] 24"
      ]
     },
     "metadata": {},
     "output_type": "display_data"
    },
    {
     "data": {
      "text/html": [
       "8"
      ],
      "text/latex": [
       "8"
      ],
      "text/markdown": [
       "8"
      ],
      "text/plain": [
       "[1] 8"
      ]
     },
     "metadata": {},
     "output_type": "display_data"
    }
   ],
   "source": [
    "n_distinct(activity$Id)\n",
    "n_distinct(intensity$Id)\n",
    "n_distinct(calories$Id)\n",
    "n_distinct(sleep$Id)\n",
    "n_distinct(weight$Id)"
   ]
  },
  {
   "cell_type": "markdown",
   "id": "e84292ea-5641-458d-a3e1-f1f6d0abd4d2",
   "metadata": {},
   "source": [
    "The data frames \"activity\", \"intensity\", and \"calories\" contained 33 users. The data frame \"sleep\" contained 24 users. The data frame \"weight\" only contained 8 users which is not a sufficient enough sample size to make decisions based on this data.\n",
    "\n",
    "\n",
    "Next I checked for duplicate values using the sum and duplicated function to count the amount of duplicate values in each data frame."
   ]
  },
  {
   "cell_type": "code",
   "execution_count": 60,
   "id": "934f91bc-0c23-410f-9671-6519881ceff2",
   "metadata": {},
   "outputs": [
    {
     "data": {
      "text/html": [
       "0"
      ],
      "text/latex": [
       "0"
      ],
      "text/markdown": [
       "0"
      ],
      "text/plain": [
       "[1] 0"
      ]
     },
     "metadata": {},
     "output_type": "display_data"
    },
    {
     "data": {
      "text/html": [
       "0"
      ],
      "text/latex": [
       "0"
      ],
      "text/markdown": [
       "0"
      ],
      "text/plain": [
       "[1] 0"
      ]
     },
     "metadata": {},
     "output_type": "display_data"
    },
    {
     "data": {
      "text/html": [
       "0"
      ],
      "text/latex": [
       "0"
      ],
      "text/markdown": [
       "0"
      ],
      "text/plain": [
       "[1] 0"
      ]
     },
     "metadata": {},
     "output_type": "display_data"
    },
    {
     "data": {
      "text/html": [
       "3"
      ],
      "text/latex": [
       "3"
      ],
      "text/markdown": [
       "3"
      ],
      "text/plain": [
       "[1] 3"
      ]
     },
     "metadata": {},
     "output_type": "display_data"
    }
   ],
   "source": [
    "sum(duplicated(activity))\n",
    "sum(duplicated(intensity))\n",
    "sum(duplicated(calories))\n",
    "sum(duplicated(sleep))"
   ]
  },
  {
   "cell_type": "markdown",
   "id": "ad01ace5-4228-43f9-8fee-3916943d73b9",
   "metadata": {},
   "source": [
    "The results showed that the \"sleep\" data frame contained 3 duplicate entries. \n",
    "\n",
    "Next I checked for null values in each data frame."
   ]
  },
  {
   "cell_type": "code",
   "execution_count": 61,
   "id": "60acf56d-591d-43ed-b098-c9f1fab13052",
   "metadata": {},
   "outputs": [
    {
     "data": {
      "text/html": [
       "<style>\n",
       ".dl-inline {width: auto; margin:0; padding: 0}\n",
       ".dl-inline>dt, .dl-inline>dd {float: none; width: auto; display: inline-block}\n",
       ".dl-inline>dt::after {content: \":\\0020\"; padding-right: .5ex}\n",
       ".dl-inline>dt:not(:first-of-type) {padding-left: .5ex}\n",
       "</style><dl class=dl-inline><dt>Id</dt><dd>0</dd><dt>ActivityDate</dt><dd>0</dd><dt>TotalSteps</dt><dd>0</dd><dt>TotalDistance</dt><dd>0</dd><dt>TrackerDistance</dt><dd>0</dd><dt>LoggedActivitiesDistance</dt><dd>0</dd><dt>VeryActiveDistance</dt><dd>0</dd><dt>ModeratelyActiveDistance</dt><dd>0</dd><dt>LightActiveDistance</dt><dd>0</dd><dt>SedentaryActiveDistance</dt><dd>0</dd><dt>VeryActiveMinutes</dt><dd>0</dd><dt>FairlyActiveMinutes</dt><dd>0</dd><dt>LightlyActiveMinutes</dt><dd>0</dd><dt>SedentaryMinutes</dt><dd>0</dd><dt>Calories</dt><dd>0</dd></dl>\n"
      ],
      "text/latex": [
       "\\begin{description*}\n",
       "\\item[Id] 0\n",
       "\\item[ActivityDate] 0\n",
       "\\item[TotalSteps] 0\n",
       "\\item[TotalDistance] 0\n",
       "\\item[TrackerDistance] 0\n",
       "\\item[LoggedActivitiesDistance] 0\n",
       "\\item[VeryActiveDistance] 0\n",
       "\\item[ModeratelyActiveDistance] 0\n",
       "\\item[LightActiveDistance] 0\n",
       "\\item[SedentaryActiveDistance] 0\n",
       "\\item[VeryActiveMinutes] 0\n",
       "\\item[FairlyActiveMinutes] 0\n",
       "\\item[LightlyActiveMinutes] 0\n",
       "\\item[SedentaryMinutes] 0\n",
       "\\item[Calories] 0\n",
       "\\end{description*}\n"
      ],
      "text/markdown": [
       "Id\n",
       ":   0ActivityDate\n",
       ":   0TotalSteps\n",
       ":   0TotalDistance\n",
       ":   0TrackerDistance\n",
       ":   0LoggedActivitiesDistance\n",
       ":   0VeryActiveDistance\n",
       ":   0ModeratelyActiveDistance\n",
       ":   0LightActiveDistance\n",
       ":   0SedentaryActiveDistance\n",
       ":   0VeryActiveMinutes\n",
       ":   0FairlyActiveMinutes\n",
       ":   0LightlyActiveMinutes\n",
       ":   0SedentaryMinutes\n",
       ":   0Calories\n",
       ":   0\n",
       "\n"
      ],
      "text/plain": [
       "                      Id             ActivityDate               TotalSteps \n",
       "                       0                        0                        0 \n",
       "           TotalDistance          TrackerDistance LoggedActivitiesDistance \n",
       "                       0                        0                        0 \n",
       "      VeryActiveDistance ModeratelyActiveDistance      LightActiveDistance \n",
       "                       0                        0                        0 \n",
       " SedentaryActiveDistance        VeryActiveMinutes      FairlyActiveMinutes \n",
       "                       0                        0                        0 \n",
       "    LightlyActiveMinutes         SedentaryMinutes                 Calories \n",
       "                       0                        0                        0 "
      ]
     },
     "metadata": {},
     "output_type": "display_data"
    },
    {
     "data": {
      "text/html": [
       "<style>\n",
       ".dl-inline {width: auto; margin:0; padding: 0}\n",
       ".dl-inline>dt, .dl-inline>dd {float: none; width: auto; display: inline-block}\n",
       ".dl-inline>dt::after {content: \":\\0020\"; padding-right: .5ex}\n",
       ".dl-inline>dt:not(:first-of-type) {padding-left: .5ex}\n",
       "</style><dl class=dl-inline><dt>Id</dt><dd>0</dd><dt>ActivityHour</dt><dd>0</dd><dt>TotalIntensity</dt><dd>0</dd><dt>AverageIntensity</dt><dd>0</dd></dl>\n"
      ],
      "text/latex": [
       "\\begin{description*}\n",
       "\\item[Id] 0\n",
       "\\item[ActivityHour] 0\n",
       "\\item[TotalIntensity] 0\n",
       "\\item[AverageIntensity] 0\n",
       "\\end{description*}\n"
      ],
      "text/markdown": [
       "Id\n",
       ":   0ActivityHour\n",
       ":   0TotalIntensity\n",
       ":   0AverageIntensity\n",
       ":   0\n",
       "\n"
      ],
      "text/plain": [
       "              Id     ActivityHour   TotalIntensity AverageIntensity \n",
       "               0                0                0                0 "
      ]
     },
     "metadata": {},
     "output_type": "display_data"
    },
    {
     "data": {
      "text/html": [
       "<style>\n",
       ".dl-inline {width: auto; margin:0; padding: 0}\n",
       ".dl-inline>dt, .dl-inline>dd {float: none; width: auto; display: inline-block}\n",
       ".dl-inline>dt::after {content: \":\\0020\"; padding-right: .5ex}\n",
       ".dl-inline>dt:not(:first-of-type) {padding-left: .5ex}\n",
       "</style><dl class=dl-inline><dt>Id</dt><dd>0</dd><dt>ActivityHour</dt><dd>0</dd><dt>Calories</dt><dd>0</dd></dl>\n"
      ],
      "text/latex": [
       "\\begin{description*}\n",
       "\\item[Id] 0\n",
       "\\item[ActivityHour] 0\n",
       "\\item[Calories] 0\n",
       "\\end{description*}\n"
      ],
      "text/markdown": [
       "Id\n",
       ":   0ActivityHour\n",
       ":   0Calories\n",
       ":   0\n",
       "\n"
      ],
      "text/plain": [
       "          Id ActivityHour     Calories \n",
       "           0            0            0 "
      ]
     },
     "metadata": {},
     "output_type": "display_data"
    },
    {
     "data": {
      "text/html": [
       "<style>\n",
       ".dl-inline {width: auto; margin:0; padding: 0}\n",
       ".dl-inline>dt, .dl-inline>dd {float: none; width: auto; display: inline-block}\n",
       ".dl-inline>dt::after {content: \":\\0020\"; padding-right: .5ex}\n",
       ".dl-inline>dt:not(:first-of-type) {padding-left: .5ex}\n",
       "</style><dl class=dl-inline><dt>Id</dt><dd>0</dd><dt>SleepDay</dt><dd>0</dd><dt>TotalSleepRecords</dt><dd>0</dd><dt>TotalMinutesAsleep</dt><dd>0</dd><dt>TotalTimeInBed</dt><dd>0</dd></dl>\n"
      ],
      "text/latex": [
       "\\begin{description*}\n",
       "\\item[Id] 0\n",
       "\\item[SleepDay] 0\n",
       "\\item[TotalSleepRecords] 0\n",
       "\\item[TotalMinutesAsleep] 0\n",
       "\\item[TotalTimeInBed] 0\n",
       "\\end{description*}\n"
      ],
      "text/markdown": [
       "Id\n",
       ":   0SleepDay\n",
       ":   0TotalSleepRecords\n",
       ":   0TotalMinutesAsleep\n",
       ":   0TotalTimeInBed\n",
       ":   0\n",
       "\n"
      ],
      "text/plain": [
       "                Id           SleepDay  TotalSleepRecords TotalMinutesAsleep \n",
       "                 0                  0                  0                  0 \n",
       "    TotalTimeInBed \n",
       "                 0 "
      ]
     },
     "metadata": {},
     "output_type": "display_data"
    }
   ],
   "source": [
    "colSums(is.na(activity))\n",
    "colSums(is.na(intensity))\n",
    "colSums(is.na(calories))\n",
    "colSums(is.na(sleep))"
   ]
  },
  {
   "cell_type": "markdown",
   "id": "f2446caa-fb58-4eed-b04d-b94c7d1654b2",
   "metadata": {},
   "source": [
    "The results showed that there were no null values in the data frames. I removed the duplicates found in the \"sleep\" data frame."
   ]
  },
  {
   "cell_type": "code",
   "execution_count": 62,
   "id": "671ad92f-833f-42b0-9568-9928f8494302",
   "metadata": {},
   "outputs": [],
   "source": [
    "sleep <- sleep %>% \n",
    "  distinct()"
   ]
  },
  {
   "cell_type": "markdown",
   "id": "67963a5e-8683-4122-9b13-26f5582eb7c5",
   "metadata": {},
   "source": [
    "I double checked that the duplicate values were removed. "
   ]
  },
  {
   "cell_type": "code",
   "execution_count": 63,
   "id": "ac25a210-422d-4a7e-b53c-eb66850a4520",
   "metadata": {},
   "outputs": [
    {
     "data": {
      "text/html": [
       "0"
      ],
      "text/latex": [
       "0"
      ],
      "text/markdown": [
       "0"
      ],
      "text/plain": [
       "[1] 0"
      ]
     },
     "metadata": {},
     "output_type": "display_data"
    }
   ],
   "source": [
    "sum(duplicated(sleep))"
   ]
  },
  {
   "cell_type": "markdown",
   "id": "be474a98-1f20-4a62-94db-6f08c818c7ba",
   "metadata": {},
   "source": [
    "Next, I checked the column names to ensure proper and consistent formatting which will be important when merging data frames."
   ]
  },
  {
   "cell_type": "code",
   "execution_count": 64,
   "id": "34419219-f674-4f2e-852e-6fbe7cee4888",
   "metadata": {},
   "outputs": [
    {
     "data": {
      "text/html": [
       "<table class=\"dataframe\">\n",
       "<caption>A data.frame: 940 × 15</caption>\n",
       "<thead>\n",
       "\t<tr><th scope=col>id</th><th scope=col>activity_date</th><th scope=col>total_steps</th><th scope=col>total_distance</th><th scope=col>tracker_distance</th><th scope=col>logged_activities_distance</th><th scope=col>very_active_distance</th><th scope=col>moderately_active_distance</th><th scope=col>light_active_distance</th><th scope=col>sedentary_active_distance</th><th scope=col>very_active_minutes</th><th scope=col>fairly_active_minutes</th><th scope=col>lightly_active_minutes</th><th scope=col>sedentary_minutes</th><th scope=col>calories</th></tr>\n",
       "\t<tr><th scope=col>&lt;dbl&gt;</th><th scope=col>&lt;chr&gt;</th><th scope=col>&lt;int&gt;</th><th scope=col>&lt;dbl&gt;</th><th scope=col>&lt;dbl&gt;</th><th scope=col>&lt;dbl&gt;</th><th scope=col>&lt;dbl&gt;</th><th scope=col>&lt;dbl&gt;</th><th scope=col>&lt;dbl&gt;</th><th scope=col>&lt;dbl&gt;</th><th scope=col>&lt;int&gt;</th><th scope=col>&lt;int&gt;</th><th scope=col>&lt;int&gt;</th><th scope=col>&lt;int&gt;</th><th scope=col>&lt;int&gt;</th></tr>\n",
       "</thead>\n",
       "<tbody>\n",
       "\t<tr><td>1503960366</td><td>4/12/2016</td><td>13162</td><td> 8.50</td><td> 8.50</td><td>0</td><td>1.88</td><td>0.55</td><td>6.06</td><td>0</td><td>25</td><td>13</td><td>328</td><td> 728</td><td>1985</td></tr>\n",
       "\t<tr><td>1503960366</td><td>4/13/2016</td><td>10735</td><td> 6.97</td><td> 6.97</td><td>0</td><td>1.57</td><td>0.69</td><td>4.71</td><td>0</td><td>21</td><td>19</td><td>217</td><td> 776</td><td>1797</td></tr>\n",
       "\t<tr><td>1503960366</td><td>4/14/2016</td><td>10460</td><td> 6.74</td><td> 6.74</td><td>0</td><td>2.44</td><td>0.40</td><td>3.91</td><td>0</td><td>30</td><td>11</td><td>181</td><td>1218</td><td>1776</td></tr>\n",
       "\t<tr><td>1503960366</td><td>4/15/2016</td><td> 9762</td><td> 6.28</td><td> 6.28</td><td>0</td><td>2.14</td><td>1.26</td><td>2.83</td><td>0</td><td>29</td><td>34</td><td>209</td><td> 726</td><td>1745</td></tr>\n",
       "\t<tr><td>1503960366</td><td>4/16/2016</td><td>12669</td><td> 8.16</td><td> 8.16</td><td>0</td><td>2.71</td><td>0.41</td><td>5.04</td><td>0</td><td>36</td><td>10</td><td>221</td><td> 773</td><td>1863</td></tr>\n",
       "\t<tr><td>1503960366</td><td>4/17/2016</td><td> 9705</td><td> 6.48</td><td> 6.48</td><td>0</td><td>3.19</td><td>0.78</td><td>2.51</td><td>0</td><td>38</td><td>20</td><td>164</td><td> 539</td><td>1728</td></tr>\n",
       "\t<tr><td>1503960366</td><td>4/18/2016</td><td>13019</td><td> 8.59</td><td> 8.59</td><td>0</td><td>3.25</td><td>0.64</td><td>4.71</td><td>0</td><td>42</td><td>16</td><td>233</td><td>1149</td><td>1921</td></tr>\n",
       "\t<tr><td>1503960366</td><td>4/19/2016</td><td>15506</td><td> 9.88</td><td> 9.88</td><td>0</td><td>3.53</td><td>1.32</td><td>5.03</td><td>0</td><td>50</td><td>31</td><td>264</td><td> 775</td><td>2035</td></tr>\n",
       "\t<tr><td>1503960366</td><td>4/20/2016</td><td>10544</td><td> 6.68</td><td> 6.68</td><td>0</td><td>1.96</td><td>0.48</td><td>4.24</td><td>0</td><td>28</td><td>12</td><td>205</td><td> 818</td><td>1786</td></tr>\n",
       "\t<tr><td>1503960366</td><td>4/21/2016</td><td> 9819</td><td> 6.34</td><td> 6.34</td><td>0</td><td>1.34</td><td>0.35</td><td>4.65</td><td>0</td><td>19</td><td> 8</td><td>211</td><td> 838</td><td>1775</td></tr>\n",
       "\t<tr><td>1503960366</td><td>4/22/2016</td><td>12764</td><td> 8.13</td><td> 8.13</td><td>0</td><td>4.76</td><td>1.12</td><td>2.24</td><td>0</td><td>66</td><td>27</td><td>130</td><td>1217</td><td>1827</td></tr>\n",
       "\t<tr><td>1503960366</td><td>4/23/2016</td><td>14371</td><td> 9.04</td><td> 9.04</td><td>0</td><td>2.81</td><td>0.87</td><td>5.36</td><td>0</td><td>41</td><td>21</td><td>262</td><td> 732</td><td>1949</td></tr>\n",
       "\t<tr><td>1503960366</td><td>4/24/2016</td><td>10039</td><td> 6.41</td><td> 6.41</td><td>0</td><td>2.92</td><td>0.21</td><td>3.28</td><td>0</td><td>39</td><td> 5</td><td>238</td><td> 709</td><td>1788</td></tr>\n",
       "\t<tr><td>1503960366</td><td>4/25/2016</td><td>15355</td><td> 9.80</td><td> 9.80</td><td>0</td><td>5.29</td><td>0.57</td><td>3.94</td><td>0</td><td>73</td><td>14</td><td>216</td><td> 814</td><td>2013</td></tr>\n",
       "\t<tr><td>1503960366</td><td>4/26/2016</td><td>13755</td><td> 8.79</td><td> 8.79</td><td>0</td><td>2.33</td><td>0.92</td><td>5.54</td><td>0</td><td>31</td><td>23</td><td>279</td><td> 833</td><td>1970</td></tr>\n",
       "\t<tr><td>1503960366</td><td>4/27/2016</td><td>18134</td><td>12.21</td><td>12.21</td><td>0</td><td>6.40</td><td>0.41</td><td>5.41</td><td>0</td><td>78</td><td>11</td><td>243</td><td>1108</td><td>2159</td></tr>\n",
       "\t<tr><td>1503960366</td><td>4/28/2016</td><td>13154</td><td> 8.53</td><td> 8.53</td><td>0</td><td>3.54</td><td>1.16</td><td>3.79</td><td>0</td><td>48</td><td>28</td><td>189</td><td> 782</td><td>1898</td></tr>\n",
       "\t<tr><td>1503960366</td><td>4/29/2016</td><td>11181</td><td> 7.15</td><td> 7.15</td><td>0</td><td>1.06</td><td>0.50</td><td>5.58</td><td>0</td><td>16</td><td>12</td><td>243</td><td> 815</td><td>1837</td></tr>\n",
       "\t<tr><td>1503960366</td><td>4/30/2016</td><td>14673</td><td> 9.25</td><td> 9.25</td><td>0</td><td>3.56</td><td>1.42</td><td>4.27</td><td>0</td><td>52</td><td>34</td><td>217</td><td> 712</td><td>1947</td></tr>\n",
       "\t<tr><td>1503960366</td><td>5/1/2016 </td><td>10602</td><td> 6.81</td><td> 6.81</td><td>0</td><td>2.29</td><td>1.60</td><td>2.92</td><td>0</td><td>33</td><td>35</td><td>246</td><td> 730</td><td>1820</td></tr>\n",
       "\t<tr><td>1503960366</td><td>5/2/2016 </td><td>14727</td><td> 9.71</td><td> 9.71</td><td>0</td><td>3.21</td><td>0.57</td><td>5.92</td><td>0</td><td>41</td><td>15</td><td>277</td><td> 798</td><td>2004</td></tr>\n",
       "\t<tr><td>1503960366</td><td>5/3/2016 </td><td>15103</td><td> 9.66</td><td> 9.66</td><td>0</td><td>3.73</td><td>1.05</td><td>4.88</td><td>0</td><td>50</td><td>24</td><td>254</td><td> 816</td><td>1990</td></tr>\n",
       "\t<tr><td>1503960366</td><td>5/4/2016 </td><td>11100</td><td> 7.15</td><td> 7.15</td><td>0</td><td>2.46</td><td>0.87</td><td>3.82</td><td>0</td><td>36</td><td>22</td><td>203</td><td>1179</td><td>1819</td></tr>\n",
       "\t<tr><td>1503960366</td><td>5/5/2016 </td><td>14070</td><td> 8.90</td><td> 8.90</td><td>0</td><td>2.92</td><td>1.08</td><td>4.88</td><td>0</td><td>45</td><td>24</td><td>250</td><td> 857</td><td>1959</td></tr>\n",
       "\t<tr><td>1503960366</td><td>5/6/2016 </td><td>12159</td><td> 8.03</td><td> 8.03</td><td>0</td><td>1.97</td><td>0.25</td><td>5.81</td><td>0</td><td>24</td><td> 6</td><td>289</td><td> 754</td><td>1896</td></tr>\n",
       "\t<tr><td>1503960366</td><td>5/7/2016 </td><td>11992</td><td> 7.71</td><td> 7.71</td><td>0</td><td>2.46</td><td>2.12</td><td>3.13</td><td>0</td><td>37</td><td>46</td><td>175</td><td> 833</td><td>1821</td></tr>\n",
       "\t<tr><td>1503960366</td><td>5/8/2016 </td><td>10060</td><td> 6.58</td><td> 6.58</td><td>0</td><td>3.53</td><td>0.32</td><td>2.73</td><td>0</td><td>44</td><td> 8</td><td>203</td><td> 574</td><td>1740</td></tr>\n",
       "\t<tr><td>1503960366</td><td>5/9/2016 </td><td>12022</td><td> 7.72</td><td> 7.72</td><td>0</td><td>3.45</td><td>0.53</td><td>3.74</td><td>0</td><td>46</td><td>11</td><td>206</td><td> 835</td><td>1819</td></tr>\n",
       "\t<tr><td>1503960366</td><td>5/10/2016</td><td>12207</td><td> 7.77</td><td> 7.77</td><td>0</td><td>3.35</td><td>1.16</td><td>3.26</td><td>0</td><td>46</td><td>31</td><td>214</td><td> 746</td><td>1859</td></tr>\n",
       "\t<tr><td>1503960366</td><td>5/11/2016</td><td>12770</td><td> 8.13</td><td> 8.13</td><td>0</td><td>2.56</td><td>1.01</td><td>4.55</td><td>0</td><td>36</td><td>23</td><td>251</td><td> 669</td><td>1783</td></tr>\n",
       "\t<tr><td>⋮</td><td>⋮</td><td>⋮</td><td>⋮</td><td>⋮</td><td>⋮</td><td>⋮</td><td>⋮</td><td>⋮</td><td>⋮</td><td>⋮</td><td>⋮</td><td>⋮</td><td>⋮</td><td>⋮</td></tr>\n",
       "\t<tr><td>8877689391</td><td>4/13/2016</td><td>15337</td><td> 9.58</td><td> 9.58</td><td>0</td><td> 3.55</td><td>0.38</td><td> 5.64</td><td>0.00</td><td>108</td><td>18</td><td>216</td><td>1098</td><td>3566</td></tr>\n",
       "\t<tr><td>8877689391</td><td>4/14/2016</td><td>21129</td><td>18.98</td><td>18.98</td><td>0</td><td>10.55</td><td>0.59</td><td> 7.75</td><td>0.02</td><td> 68</td><td>13</td><td>298</td><td>1061</td><td>3793</td></tr>\n",
       "\t<tr><td>8877689391</td><td>4/15/2016</td><td>13422</td><td> 7.17</td><td> 7.17</td><td>0</td><td> 0.05</td><td>0.05</td><td> 7.01</td><td>0.01</td><td>106</td><td> 1</td><td>281</td><td>1052</td><td>3934</td></tr>\n",
       "\t<tr><td>8877689391</td><td>4/16/2016</td><td>29326</td><td>25.29</td><td>25.29</td><td>0</td><td>13.24</td><td>1.21</td><td>10.71</td><td>0.00</td><td> 94</td><td>29</td><td>429</td><td> 888</td><td>4547</td></tr>\n",
       "\t<tr><td>8877689391</td><td>4/17/2016</td><td>15118</td><td> 8.87</td><td> 8.87</td><td>0</td><td> 0.00</td><td>0.07</td><td> 8.79</td><td>0.00</td><td> 58</td><td>15</td><td>307</td><td>1060</td><td>3545</td></tr>\n",
       "\t<tr><td>8877689391</td><td>4/18/2016</td><td>11423</td><td> 8.67</td><td> 8.67</td><td>0</td><td> 2.44</td><td>0.27</td><td> 5.94</td><td>0.00</td><td> 29</td><td> 5</td><td>191</td><td>1215</td><td>2761</td></tr>\n",
       "\t<tr><td>8877689391</td><td>4/19/2016</td><td>18785</td><td>17.40</td><td>17.40</td><td>0</td><td>12.15</td><td>0.18</td><td> 5.03</td><td>0.00</td><td> 82</td><td>13</td><td>214</td><td>1131</td><td>3676</td></tr>\n",
       "\t<tr><td>8877689391</td><td>4/20/2016</td><td>19948</td><td>18.11</td><td>18.11</td><td>0</td><td>11.02</td><td>0.69</td><td> 6.34</td><td>0.00</td><td> 73</td><td>19</td><td>225</td><td>1123</td><td>3679</td></tr>\n",
       "\t<tr><td>8877689391</td><td>4/21/2016</td><td>19377</td><td>17.62</td><td>17.62</td><td>0</td><td>12.29</td><td>0.42</td><td> 4.89</td><td>0.00</td><td> 82</td><td>13</td><td>226</td><td>1119</td><td>3659</td></tr>\n",
       "\t<tr><td>8877689391</td><td>4/22/2016</td><td>18258</td><td>16.31</td><td>16.31</td><td>0</td><td>10.23</td><td>0.03</td><td> 5.97</td><td>0.05</td><td> 61</td><td> 2</td><td>236</td><td>1141</td><td>3427</td></tr>\n",
       "\t<tr><td>8877689391</td><td>4/23/2016</td><td>11200</td><td> 7.43</td><td> 7.43</td><td>0</td><td> 0.00</td><td>0.00</td><td> 7.40</td><td>0.01</td><td>102</td><td> 6</td><td>300</td><td>1032</td><td>3891</td></tr>\n",
       "\t<tr><td>8877689391</td><td>4/24/2016</td><td>16674</td><td>15.74</td><td>15.74</td><td>0</td><td>11.01</td><td>0.01</td><td> 4.69</td><td>0.00</td><td> 64</td><td> 1</td><td>227</td><td>1148</td><td>3455</td></tr>\n",
       "\t<tr><td>8877689391</td><td>4/25/2016</td><td>12986</td><td> 8.74</td><td> 8.74</td><td>0</td><td> 2.37</td><td>0.07</td><td> 6.27</td><td>0.01</td><td>113</td><td> 8</td><td>218</td><td>1101</td><td>3802</td></tr>\n",
       "\t<tr><td>8877689391</td><td>4/26/2016</td><td>11101</td><td> 8.43</td><td> 8.43</td><td>0</td><td> 1.76</td><td>0.13</td><td> 6.50</td><td>0.00</td><td> 22</td><td> 3</td><td>258</td><td>1157</td><td>2860</td></tr>\n",
       "\t<tr><td>8877689391</td><td>4/27/2016</td><td>23629</td><td>20.65</td><td>20.65</td><td>0</td><td>13.07</td><td>0.44</td><td> 7.10</td><td>0.00</td><td> 93</td><td> 8</td><td>235</td><td>1104</td><td>3808</td></tr>\n",
       "\t<tr><td>8877689391</td><td>4/28/2016</td><td>14890</td><td>11.30</td><td>11.30</td><td>0</td><td> 4.93</td><td>0.38</td><td> 5.97</td><td>0.00</td><td> 58</td><td> 8</td><td>231</td><td>1143</td><td>3060</td></tr>\n",
       "\t<tr><td>8877689391</td><td>4/29/2016</td><td> 9733</td><td> 7.39</td><td> 7.39</td><td>0</td><td> 1.38</td><td>0.17</td><td> 5.79</td><td>0.00</td><td> 18</td><td> 5</td><td>210</td><td>1207</td><td>2698</td></tr>\n",
       "\t<tr><td>8877689391</td><td>4/30/2016</td><td>27745</td><td>26.72</td><td>26.72</td><td>0</td><td>21.66</td><td>0.08</td><td> 4.93</td><td>0.00</td><td>124</td><td> 4</td><td>223</td><td>1089</td><td>4398</td></tr>\n",
       "\t<tr><td>8877689391</td><td>5/1/2016 </td><td>10930</td><td> 8.32</td><td> 8.32</td><td>0</td><td> 3.13</td><td>0.57</td><td> 4.57</td><td>0.00</td><td> 36</td><td>12</td><td>166</td><td>1226</td><td>2786</td></tr>\n",
       "\t<tr><td>8877689391</td><td>5/2/2016 </td><td> 4790</td><td> 3.64</td><td> 3.64</td><td>0</td><td> 0.00</td><td>0.00</td><td> 3.56</td><td>0.00</td><td>  0</td><td> 0</td><td>105</td><td>1335</td><td>2189</td></tr>\n",
       "\t<tr><td>8877689391</td><td>5/3/2016 </td><td>10818</td><td> 8.21</td><td> 8.21</td><td>0</td><td> 1.39</td><td>0.10</td><td> 6.67</td><td>0.01</td><td> 19</td><td> 3</td><td>229</td><td>1189</td><td>2817</td></tr>\n",
       "\t<tr><td>8877689391</td><td>5/4/2016 </td><td>18193</td><td>16.30</td><td>16.30</td><td>0</td><td>10.42</td><td>0.31</td><td> 5.53</td><td>0.00</td><td> 66</td><td> 8</td><td>212</td><td>1154</td><td>3477</td></tr>\n",
       "\t<tr><td>8877689391</td><td>5/5/2016 </td><td>14055</td><td>10.67</td><td>10.67</td><td>0</td><td> 5.46</td><td>0.82</td><td> 4.37</td><td>0.00</td><td> 67</td><td>15</td><td>188</td><td>1170</td><td>3052</td></tr>\n",
       "\t<tr><td>8877689391</td><td>5/6/2016 </td><td>21727</td><td>19.34</td><td>19.34</td><td>0</td><td>12.79</td><td>0.29</td><td> 6.16</td><td>0.00</td><td> 96</td><td>17</td><td>232</td><td>1095</td><td>4015</td></tr>\n",
       "\t<tr><td>8877689391</td><td>5/7/2016 </td><td>12332</td><td> 8.13</td><td> 8.13</td><td>0</td><td> 0.08</td><td>0.96</td><td> 6.99</td><td>0.00</td><td>105</td><td>28</td><td>271</td><td>1036</td><td>4142</td></tr>\n",
       "\t<tr><td>8877689391</td><td>5/8/2016 </td><td>10686</td><td> 8.11</td><td> 8.11</td><td>0</td><td> 1.08</td><td>0.20</td><td> 6.80</td><td>0.00</td><td> 17</td><td> 4</td><td>245</td><td>1174</td><td>2847</td></tr>\n",
       "\t<tr><td>8877689391</td><td>5/9/2016 </td><td>20226</td><td>18.25</td><td>18.25</td><td>0</td><td>11.10</td><td>0.80</td><td> 6.24</td><td>0.05</td><td> 73</td><td>19</td><td>217</td><td>1131</td><td>3710</td></tr>\n",
       "\t<tr><td>8877689391</td><td>5/10/2016</td><td>10733</td><td> 8.15</td><td> 8.15</td><td>0</td><td> 1.35</td><td>0.46</td><td> 6.28</td><td>0.00</td><td> 18</td><td>11</td><td>224</td><td>1187</td><td>2832</td></tr>\n",
       "\t<tr><td>8877689391</td><td>5/11/2016</td><td>21420</td><td>19.56</td><td>19.56</td><td>0</td><td>13.22</td><td>0.41</td><td> 5.89</td><td>0.00</td><td> 88</td><td>12</td><td>213</td><td>1127</td><td>3832</td></tr>\n",
       "\t<tr><td>8877689391</td><td>5/12/2016</td><td> 8064</td><td> 6.12</td><td> 6.12</td><td>0</td><td> 1.82</td><td>0.04</td><td> 4.25</td><td>0.00</td><td> 23</td><td> 1</td><td>137</td><td> 770</td><td>1849</td></tr>\n",
       "</tbody>\n",
       "</table>\n"
      ],
      "text/latex": [
       "A data.frame: 940 × 15\n",
       "\\begin{tabular}{lllllllllllllll}\n",
       " id & activity\\_date & total\\_steps & total\\_distance & tracker\\_distance & logged\\_activities\\_distance & very\\_active\\_distance & moderately\\_active\\_distance & light\\_active\\_distance & sedentary\\_active\\_distance & very\\_active\\_minutes & fairly\\_active\\_minutes & lightly\\_active\\_minutes & sedentary\\_minutes & calories\\\\\n",
       " <dbl> & <chr> & <int> & <dbl> & <dbl> & <dbl> & <dbl> & <dbl> & <dbl> & <dbl> & <int> & <int> & <int> & <int> & <int>\\\\\n",
       "\\hline\n",
       "\t 1503960366 & 4/12/2016 & 13162 &  8.50 &  8.50 & 0 & 1.88 & 0.55 & 6.06 & 0 & 25 & 13 & 328 &  728 & 1985\\\\\n",
       "\t 1503960366 & 4/13/2016 & 10735 &  6.97 &  6.97 & 0 & 1.57 & 0.69 & 4.71 & 0 & 21 & 19 & 217 &  776 & 1797\\\\\n",
       "\t 1503960366 & 4/14/2016 & 10460 &  6.74 &  6.74 & 0 & 2.44 & 0.40 & 3.91 & 0 & 30 & 11 & 181 & 1218 & 1776\\\\\n",
       "\t 1503960366 & 4/15/2016 &  9762 &  6.28 &  6.28 & 0 & 2.14 & 1.26 & 2.83 & 0 & 29 & 34 & 209 &  726 & 1745\\\\\n",
       "\t 1503960366 & 4/16/2016 & 12669 &  8.16 &  8.16 & 0 & 2.71 & 0.41 & 5.04 & 0 & 36 & 10 & 221 &  773 & 1863\\\\\n",
       "\t 1503960366 & 4/17/2016 &  9705 &  6.48 &  6.48 & 0 & 3.19 & 0.78 & 2.51 & 0 & 38 & 20 & 164 &  539 & 1728\\\\\n",
       "\t 1503960366 & 4/18/2016 & 13019 &  8.59 &  8.59 & 0 & 3.25 & 0.64 & 4.71 & 0 & 42 & 16 & 233 & 1149 & 1921\\\\\n",
       "\t 1503960366 & 4/19/2016 & 15506 &  9.88 &  9.88 & 0 & 3.53 & 1.32 & 5.03 & 0 & 50 & 31 & 264 &  775 & 2035\\\\\n",
       "\t 1503960366 & 4/20/2016 & 10544 &  6.68 &  6.68 & 0 & 1.96 & 0.48 & 4.24 & 0 & 28 & 12 & 205 &  818 & 1786\\\\\n",
       "\t 1503960366 & 4/21/2016 &  9819 &  6.34 &  6.34 & 0 & 1.34 & 0.35 & 4.65 & 0 & 19 &  8 & 211 &  838 & 1775\\\\\n",
       "\t 1503960366 & 4/22/2016 & 12764 &  8.13 &  8.13 & 0 & 4.76 & 1.12 & 2.24 & 0 & 66 & 27 & 130 & 1217 & 1827\\\\\n",
       "\t 1503960366 & 4/23/2016 & 14371 &  9.04 &  9.04 & 0 & 2.81 & 0.87 & 5.36 & 0 & 41 & 21 & 262 &  732 & 1949\\\\\n",
       "\t 1503960366 & 4/24/2016 & 10039 &  6.41 &  6.41 & 0 & 2.92 & 0.21 & 3.28 & 0 & 39 &  5 & 238 &  709 & 1788\\\\\n",
       "\t 1503960366 & 4/25/2016 & 15355 &  9.80 &  9.80 & 0 & 5.29 & 0.57 & 3.94 & 0 & 73 & 14 & 216 &  814 & 2013\\\\\n",
       "\t 1503960366 & 4/26/2016 & 13755 &  8.79 &  8.79 & 0 & 2.33 & 0.92 & 5.54 & 0 & 31 & 23 & 279 &  833 & 1970\\\\\n",
       "\t 1503960366 & 4/27/2016 & 18134 & 12.21 & 12.21 & 0 & 6.40 & 0.41 & 5.41 & 0 & 78 & 11 & 243 & 1108 & 2159\\\\\n",
       "\t 1503960366 & 4/28/2016 & 13154 &  8.53 &  8.53 & 0 & 3.54 & 1.16 & 3.79 & 0 & 48 & 28 & 189 &  782 & 1898\\\\\n",
       "\t 1503960366 & 4/29/2016 & 11181 &  7.15 &  7.15 & 0 & 1.06 & 0.50 & 5.58 & 0 & 16 & 12 & 243 &  815 & 1837\\\\\n",
       "\t 1503960366 & 4/30/2016 & 14673 &  9.25 &  9.25 & 0 & 3.56 & 1.42 & 4.27 & 0 & 52 & 34 & 217 &  712 & 1947\\\\\n",
       "\t 1503960366 & 5/1/2016  & 10602 &  6.81 &  6.81 & 0 & 2.29 & 1.60 & 2.92 & 0 & 33 & 35 & 246 &  730 & 1820\\\\\n",
       "\t 1503960366 & 5/2/2016  & 14727 &  9.71 &  9.71 & 0 & 3.21 & 0.57 & 5.92 & 0 & 41 & 15 & 277 &  798 & 2004\\\\\n",
       "\t 1503960366 & 5/3/2016  & 15103 &  9.66 &  9.66 & 0 & 3.73 & 1.05 & 4.88 & 0 & 50 & 24 & 254 &  816 & 1990\\\\\n",
       "\t 1503960366 & 5/4/2016  & 11100 &  7.15 &  7.15 & 0 & 2.46 & 0.87 & 3.82 & 0 & 36 & 22 & 203 & 1179 & 1819\\\\\n",
       "\t 1503960366 & 5/5/2016  & 14070 &  8.90 &  8.90 & 0 & 2.92 & 1.08 & 4.88 & 0 & 45 & 24 & 250 &  857 & 1959\\\\\n",
       "\t 1503960366 & 5/6/2016  & 12159 &  8.03 &  8.03 & 0 & 1.97 & 0.25 & 5.81 & 0 & 24 &  6 & 289 &  754 & 1896\\\\\n",
       "\t 1503960366 & 5/7/2016  & 11992 &  7.71 &  7.71 & 0 & 2.46 & 2.12 & 3.13 & 0 & 37 & 46 & 175 &  833 & 1821\\\\\n",
       "\t 1503960366 & 5/8/2016  & 10060 &  6.58 &  6.58 & 0 & 3.53 & 0.32 & 2.73 & 0 & 44 &  8 & 203 &  574 & 1740\\\\\n",
       "\t 1503960366 & 5/9/2016  & 12022 &  7.72 &  7.72 & 0 & 3.45 & 0.53 & 3.74 & 0 & 46 & 11 & 206 &  835 & 1819\\\\\n",
       "\t 1503960366 & 5/10/2016 & 12207 &  7.77 &  7.77 & 0 & 3.35 & 1.16 & 3.26 & 0 & 46 & 31 & 214 &  746 & 1859\\\\\n",
       "\t 1503960366 & 5/11/2016 & 12770 &  8.13 &  8.13 & 0 & 2.56 & 1.01 & 4.55 & 0 & 36 & 23 & 251 &  669 & 1783\\\\\n",
       "\t ⋮ & ⋮ & ⋮ & ⋮ & ⋮ & ⋮ & ⋮ & ⋮ & ⋮ & ⋮ & ⋮ & ⋮ & ⋮ & ⋮ & ⋮\\\\\n",
       "\t 8877689391 & 4/13/2016 & 15337 &  9.58 &  9.58 & 0 &  3.55 & 0.38 &  5.64 & 0.00 & 108 & 18 & 216 & 1098 & 3566\\\\\n",
       "\t 8877689391 & 4/14/2016 & 21129 & 18.98 & 18.98 & 0 & 10.55 & 0.59 &  7.75 & 0.02 &  68 & 13 & 298 & 1061 & 3793\\\\\n",
       "\t 8877689391 & 4/15/2016 & 13422 &  7.17 &  7.17 & 0 &  0.05 & 0.05 &  7.01 & 0.01 & 106 &  1 & 281 & 1052 & 3934\\\\\n",
       "\t 8877689391 & 4/16/2016 & 29326 & 25.29 & 25.29 & 0 & 13.24 & 1.21 & 10.71 & 0.00 &  94 & 29 & 429 &  888 & 4547\\\\\n",
       "\t 8877689391 & 4/17/2016 & 15118 &  8.87 &  8.87 & 0 &  0.00 & 0.07 &  8.79 & 0.00 &  58 & 15 & 307 & 1060 & 3545\\\\\n",
       "\t 8877689391 & 4/18/2016 & 11423 &  8.67 &  8.67 & 0 &  2.44 & 0.27 &  5.94 & 0.00 &  29 &  5 & 191 & 1215 & 2761\\\\\n",
       "\t 8877689391 & 4/19/2016 & 18785 & 17.40 & 17.40 & 0 & 12.15 & 0.18 &  5.03 & 0.00 &  82 & 13 & 214 & 1131 & 3676\\\\\n",
       "\t 8877689391 & 4/20/2016 & 19948 & 18.11 & 18.11 & 0 & 11.02 & 0.69 &  6.34 & 0.00 &  73 & 19 & 225 & 1123 & 3679\\\\\n",
       "\t 8877689391 & 4/21/2016 & 19377 & 17.62 & 17.62 & 0 & 12.29 & 0.42 &  4.89 & 0.00 &  82 & 13 & 226 & 1119 & 3659\\\\\n",
       "\t 8877689391 & 4/22/2016 & 18258 & 16.31 & 16.31 & 0 & 10.23 & 0.03 &  5.97 & 0.05 &  61 &  2 & 236 & 1141 & 3427\\\\\n",
       "\t 8877689391 & 4/23/2016 & 11200 &  7.43 &  7.43 & 0 &  0.00 & 0.00 &  7.40 & 0.01 & 102 &  6 & 300 & 1032 & 3891\\\\\n",
       "\t 8877689391 & 4/24/2016 & 16674 & 15.74 & 15.74 & 0 & 11.01 & 0.01 &  4.69 & 0.00 &  64 &  1 & 227 & 1148 & 3455\\\\\n",
       "\t 8877689391 & 4/25/2016 & 12986 &  8.74 &  8.74 & 0 &  2.37 & 0.07 &  6.27 & 0.01 & 113 &  8 & 218 & 1101 & 3802\\\\\n",
       "\t 8877689391 & 4/26/2016 & 11101 &  8.43 &  8.43 & 0 &  1.76 & 0.13 &  6.50 & 0.00 &  22 &  3 & 258 & 1157 & 2860\\\\\n",
       "\t 8877689391 & 4/27/2016 & 23629 & 20.65 & 20.65 & 0 & 13.07 & 0.44 &  7.10 & 0.00 &  93 &  8 & 235 & 1104 & 3808\\\\\n",
       "\t 8877689391 & 4/28/2016 & 14890 & 11.30 & 11.30 & 0 &  4.93 & 0.38 &  5.97 & 0.00 &  58 &  8 & 231 & 1143 & 3060\\\\\n",
       "\t 8877689391 & 4/29/2016 &  9733 &  7.39 &  7.39 & 0 &  1.38 & 0.17 &  5.79 & 0.00 &  18 &  5 & 210 & 1207 & 2698\\\\\n",
       "\t 8877689391 & 4/30/2016 & 27745 & 26.72 & 26.72 & 0 & 21.66 & 0.08 &  4.93 & 0.00 & 124 &  4 & 223 & 1089 & 4398\\\\\n",
       "\t 8877689391 & 5/1/2016  & 10930 &  8.32 &  8.32 & 0 &  3.13 & 0.57 &  4.57 & 0.00 &  36 & 12 & 166 & 1226 & 2786\\\\\n",
       "\t 8877689391 & 5/2/2016  &  4790 &  3.64 &  3.64 & 0 &  0.00 & 0.00 &  3.56 & 0.00 &   0 &  0 & 105 & 1335 & 2189\\\\\n",
       "\t 8877689391 & 5/3/2016  & 10818 &  8.21 &  8.21 & 0 &  1.39 & 0.10 &  6.67 & 0.01 &  19 &  3 & 229 & 1189 & 2817\\\\\n",
       "\t 8877689391 & 5/4/2016  & 18193 & 16.30 & 16.30 & 0 & 10.42 & 0.31 &  5.53 & 0.00 &  66 &  8 & 212 & 1154 & 3477\\\\\n",
       "\t 8877689391 & 5/5/2016  & 14055 & 10.67 & 10.67 & 0 &  5.46 & 0.82 &  4.37 & 0.00 &  67 & 15 & 188 & 1170 & 3052\\\\\n",
       "\t 8877689391 & 5/6/2016  & 21727 & 19.34 & 19.34 & 0 & 12.79 & 0.29 &  6.16 & 0.00 &  96 & 17 & 232 & 1095 & 4015\\\\\n",
       "\t 8877689391 & 5/7/2016  & 12332 &  8.13 &  8.13 & 0 &  0.08 & 0.96 &  6.99 & 0.00 & 105 & 28 & 271 & 1036 & 4142\\\\\n",
       "\t 8877689391 & 5/8/2016  & 10686 &  8.11 &  8.11 & 0 &  1.08 & 0.20 &  6.80 & 0.00 &  17 &  4 & 245 & 1174 & 2847\\\\\n",
       "\t 8877689391 & 5/9/2016  & 20226 & 18.25 & 18.25 & 0 & 11.10 & 0.80 &  6.24 & 0.05 &  73 & 19 & 217 & 1131 & 3710\\\\\n",
       "\t 8877689391 & 5/10/2016 & 10733 &  8.15 &  8.15 & 0 &  1.35 & 0.46 &  6.28 & 0.00 &  18 & 11 & 224 & 1187 & 2832\\\\\n",
       "\t 8877689391 & 5/11/2016 & 21420 & 19.56 & 19.56 & 0 & 13.22 & 0.41 &  5.89 & 0.00 &  88 & 12 & 213 & 1127 & 3832\\\\\n",
       "\t 8877689391 & 5/12/2016 &  8064 &  6.12 &  6.12 & 0 &  1.82 & 0.04 &  4.25 & 0.00 &  23 &  1 & 137 &  770 & 1849\\\\\n",
       "\\end{tabular}\n"
      ],
      "text/markdown": [
       "\n",
       "A data.frame: 940 × 15\n",
       "\n",
       "| id &lt;dbl&gt; | activity_date &lt;chr&gt; | total_steps &lt;int&gt; | total_distance &lt;dbl&gt; | tracker_distance &lt;dbl&gt; | logged_activities_distance &lt;dbl&gt; | very_active_distance &lt;dbl&gt; | moderately_active_distance &lt;dbl&gt; | light_active_distance &lt;dbl&gt; | sedentary_active_distance &lt;dbl&gt; | very_active_minutes &lt;int&gt; | fairly_active_minutes &lt;int&gt; | lightly_active_minutes &lt;int&gt; | sedentary_minutes &lt;int&gt; | calories &lt;int&gt; |\n",
       "|---|---|---|---|---|---|---|---|---|---|---|---|---|---|---|\n",
       "| 1503960366 | 4/12/2016 | 13162 |  8.50 |  8.50 | 0 | 1.88 | 0.55 | 6.06 | 0 | 25 | 13 | 328 |  728 | 1985 |\n",
       "| 1503960366 | 4/13/2016 | 10735 |  6.97 |  6.97 | 0 | 1.57 | 0.69 | 4.71 | 0 | 21 | 19 | 217 |  776 | 1797 |\n",
       "| 1503960366 | 4/14/2016 | 10460 |  6.74 |  6.74 | 0 | 2.44 | 0.40 | 3.91 | 0 | 30 | 11 | 181 | 1218 | 1776 |\n",
       "| 1503960366 | 4/15/2016 |  9762 |  6.28 |  6.28 | 0 | 2.14 | 1.26 | 2.83 | 0 | 29 | 34 | 209 |  726 | 1745 |\n",
       "| 1503960366 | 4/16/2016 | 12669 |  8.16 |  8.16 | 0 | 2.71 | 0.41 | 5.04 | 0 | 36 | 10 | 221 |  773 | 1863 |\n",
       "| 1503960366 | 4/17/2016 |  9705 |  6.48 |  6.48 | 0 | 3.19 | 0.78 | 2.51 | 0 | 38 | 20 | 164 |  539 | 1728 |\n",
       "| 1503960366 | 4/18/2016 | 13019 |  8.59 |  8.59 | 0 | 3.25 | 0.64 | 4.71 | 0 | 42 | 16 | 233 | 1149 | 1921 |\n",
       "| 1503960366 | 4/19/2016 | 15506 |  9.88 |  9.88 | 0 | 3.53 | 1.32 | 5.03 | 0 | 50 | 31 | 264 |  775 | 2035 |\n",
       "| 1503960366 | 4/20/2016 | 10544 |  6.68 |  6.68 | 0 | 1.96 | 0.48 | 4.24 | 0 | 28 | 12 | 205 |  818 | 1786 |\n",
       "| 1503960366 | 4/21/2016 |  9819 |  6.34 |  6.34 | 0 | 1.34 | 0.35 | 4.65 | 0 | 19 |  8 | 211 |  838 | 1775 |\n",
       "| 1503960366 | 4/22/2016 | 12764 |  8.13 |  8.13 | 0 | 4.76 | 1.12 | 2.24 | 0 | 66 | 27 | 130 | 1217 | 1827 |\n",
       "| 1503960366 | 4/23/2016 | 14371 |  9.04 |  9.04 | 0 | 2.81 | 0.87 | 5.36 | 0 | 41 | 21 | 262 |  732 | 1949 |\n",
       "| 1503960366 | 4/24/2016 | 10039 |  6.41 |  6.41 | 0 | 2.92 | 0.21 | 3.28 | 0 | 39 |  5 | 238 |  709 | 1788 |\n",
       "| 1503960366 | 4/25/2016 | 15355 |  9.80 |  9.80 | 0 | 5.29 | 0.57 | 3.94 | 0 | 73 | 14 | 216 |  814 | 2013 |\n",
       "| 1503960366 | 4/26/2016 | 13755 |  8.79 |  8.79 | 0 | 2.33 | 0.92 | 5.54 | 0 | 31 | 23 | 279 |  833 | 1970 |\n",
       "| 1503960366 | 4/27/2016 | 18134 | 12.21 | 12.21 | 0 | 6.40 | 0.41 | 5.41 | 0 | 78 | 11 | 243 | 1108 | 2159 |\n",
       "| 1503960366 | 4/28/2016 | 13154 |  8.53 |  8.53 | 0 | 3.54 | 1.16 | 3.79 | 0 | 48 | 28 | 189 |  782 | 1898 |\n",
       "| 1503960366 | 4/29/2016 | 11181 |  7.15 |  7.15 | 0 | 1.06 | 0.50 | 5.58 | 0 | 16 | 12 | 243 |  815 | 1837 |\n",
       "| 1503960366 | 4/30/2016 | 14673 |  9.25 |  9.25 | 0 | 3.56 | 1.42 | 4.27 | 0 | 52 | 34 | 217 |  712 | 1947 |\n",
       "| 1503960366 | 5/1/2016  | 10602 |  6.81 |  6.81 | 0 | 2.29 | 1.60 | 2.92 | 0 | 33 | 35 | 246 |  730 | 1820 |\n",
       "| 1503960366 | 5/2/2016  | 14727 |  9.71 |  9.71 | 0 | 3.21 | 0.57 | 5.92 | 0 | 41 | 15 | 277 |  798 | 2004 |\n",
       "| 1503960366 | 5/3/2016  | 15103 |  9.66 |  9.66 | 0 | 3.73 | 1.05 | 4.88 | 0 | 50 | 24 | 254 |  816 | 1990 |\n",
       "| 1503960366 | 5/4/2016  | 11100 |  7.15 |  7.15 | 0 | 2.46 | 0.87 | 3.82 | 0 | 36 | 22 | 203 | 1179 | 1819 |\n",
       "| 1503960366 | 5/5/2016  | 14070 |  8.90 |  8.90 | 0 | 2.92 | 1.08 | 4.88 | 0 | 45 | 24 | 250 |  857 | 1959 |\n",
       "| 1503960366 | 5/6/2016  | 12159 |  8.03 |  8.03 | 0 | 1.97 | 0.25 | 5.81 | 0 | 24 |  6 | 289 |  754 | 1896 |\n",
       "| 1503960366 | 5/7/2016  | 11992 |  7.71 |  7.71 | 0 | 2.46 | 2.12 | 3.13 | 0 | 37 | 46 | 175 |  833 | 1821 |\n",
       "| 1503960366 | 5/8/2016  | 10060 |  6.58 |  6.58 | 0 | 3.53 | 0.32 | 2.73 | 0 | 44 |  8 | 203 |  574 | 1740 |\n",
       "| 1503960366 | 5/9/2016  | 12022 |  7.72 |  7.72 | 0 | 3.45 | 0.53 | 3.74 | 0 | 46 | 11 | 206 |  835 | 1819 |\n",
       "| 1503960366 | 5/10/2016 | 12207 |  7.77 |  7.77 | 0 | 3.35 | 1.16 | 3.26 | 0 | 46 | 31 | 214 |  746 | 1859 |\n",
       "| 1503960366 | 5/11/2016 | 12770 |  8.13 |  8.13 | 0 | 2.56 | 1.01 | 4.55 | 0 | 36 | 23 | 251 |  669 | 1783 |\n",
       "| ⋮ | ⋮ | ⋮ | ⋮ | ⋮ | ⋮ | ⋮ | ⋮ | ⋮ | ⋮ | ⋮ | ⋮ | ⋮ | ⋮ | ⋮ |\n",
       "| 8877689391 | 4/13/2016 | 15337 |  9.58 |  9.58 | 0 |  3.55 | 0.38 |  5.64 | 0.00 | 108 | 18 | 216 | 1098 | 3566 |\n",
       "| 8877689391 | 4/14/2016 | 21129 | 18.98 | 18.98 | 0 | 10.55 | 0.59 |  7.75 | 0.02 |  68 | 13 | 298 | 1061 | 3793 |\n",
       "| 8877689391 | 4/15/2016 | 13422 |  7.17 |  7.17 | 0 |  0.05 | 0.05 |  7.01 | 0.01 | 106 |  1 | 281 | 1052 | 3934 |\n",
       "| 8877689391 | 4/16/2016 | 29326 | 25.29 | 25.29 | 0 | 13.24 | 1.21 | 10.71 | 0.00 |  94 | 29 | 429 |  888 | 4547 |\n",
       "| 8877689391 | 4/17/2016 | 15118 |  8.87 |  8.87 | 0 |  0.00 | 0.07 |  8.79 | 0.00 |  58 | 15 | 307 | 1060 | 3545 |\n",
       "| 8877689391 | 4/18/2016 | 11423 |  8.67 |  8.67 | 0 |  2.44 | 0.27 |  5.94 | 0.00 |  29 |  5 | 191 | 1215 | 2761 |\n",
       "| 8877689391 | 4/19/2016 | 18785 | 17.40 | 17.40 | 0 | 12.15 | 0.18 |  5.03 | 0.00 |  82 | 13 | 214 | 1131 | 3676 |\n",
       "| 8877689391 | 4/20/2016 | 19948 | 18.11 | 18.11 | 0 | 11.02 | 0.69 |  6.34 | 0.00 |  73 | 19 | 225 | 1123 | 3679 |\n",
       "| 8877689391 | 4/21/2016 | 19377 | 17.62 | 17.62 | 0 | 12.29 | 0.42 |  4.89 | 0.00 |  82 | 13 | 226 | 1119 | 3659 |\n",
       "| 8877689391 | 4/22/2016 | 18258 | 16.31 | 16.31 | 0 | 10.23 | 0.03 |  5.97 | 0.05 |  61 |  2 | 236 | 1141 | 3427 |\n",
       "| 8877689391 | 4/23/2016 | 11200 |  7.43 |  7.43 | 0 |  0.00 | 0.00 |  7.40 | 0.01 | 102 |  6 | 300 | 1032 | 3891 |\n",
       "| 8877689391 | 4/24/2016 | 16674 | 15.74 | 15.74 | 0 | 11.01 | 0.01 |  4.69 | 0.00 |  64 |  1 | 227 | 1148 | 3455 |\n",
       "| 8877689391 | 4/25/2016 | 12986 |  8.74 |  8.74 | 0 |  2.37 | 0.07 |  6.27 | 0.01 | 113 |  8 | 218 | 1101 | 3802 |\n",
       "| 8877689391 | 4/26/2016 | 11101 |  8.43 |  8.43 | 0 |  1.76 | 0.13 |  6.50 | 0.00 |  22 |  3 | 258 | 1157 | 2860 |\n",
       "| 8877689391 | 4/27/2016 | 23629 | 20.65 | 20.65 | 0 | 13.07 | 0.44 |  7.10 | 0.00 |  93 |  8 | 235 | 1104 | 3808 |\n",
       "| 8877689391 | 4/28/2016 | 14890 | 11.30 | 11.30 | 0 |  4.93 | 0.38 |  5.97 | 0.00 |  58 |  8 | 231 | 1143 | 3060 |\n",
       "| 8877689391 | 4/29/2016 |  9733 |  7.39 |  7.39 | 0 |  1.38 | 0.17 |  5.79 | 0.00 |  18 |  5 | 210 | 1207 | 2698 |\n",
       "| 8877689391 | 4/30/2016 | 27745 | 26.72 | 26.72 | 0 | 21.66 | 0.08 |  4.93 | 0.00 | 124 |  4 | 223 | 1089 | 4398 |\n",
       "| 8877689391 | 5/1/2016  | 10930 |  8.32 |  8.32 | 0 |  3.13 | 0.57 |  4.57 | 0.00 |  36 | 12 | 166 | 1226 | 2786 |\n",
       "| 8877689391 | 5/2/2016  |  4790 |  3.64 |  3.64 | 0 |  0.00 | 0.00 |  3.56 | 0.00 |   0 |  0 | 105 | 1335 | 2189 |\n",
       "| 8877689391 | 5/3/2016  | 10818 |  8.21 |  8.21 | 0 |  1.39 | 0.10 |  6.67 | 0.01 |  19 |  3 | 229 | 1189 | 2817 |\n",
       "| 8877689391 | 5/4/2016  | 18193 | 16.30 | 16.30 | 0 | 10.42 | 0.31 |  5.53 | 0.00 |  66 |  8 | 212 | 1154 | 3477 |\n",
       "| 8877689391 | 5/5/2016  | 14055 | 10.67 | 10.67 | 0 |  5.46 | 0.82 |  4.37 | 0.00 |  67 | 15 | 188 | 1170 | 3052 |\n",
       "| 8877689391 | 5/6/2016  | 21727 | 19.34 | 19.34 | 0 | 12.79 | 0.29 |  6.16 | 0.00 |  96 | 17 | 232 | 1095 | 4015 |\n",
       "| 8877689391 | 5/7/2016  | 12332 |  8.13 |  8.13 | 0 |  0.08 | 0.96 |  6.99 | 0.00 | 105 | 28 | 271 | 1036 | 4142 |\n",
       "| 8877689391 | 5/8/2016  | 10686 |  8.11 |  8.11 | 0 |  1.08 | 0.20 |  6.80 | 0.00 |  17 |  4 | 245 | 1174 | 2847 |\n",
       "| 8877689391 | 5/9/2016  | 20226 | 18.25 | 18.25 | 0 | 11.10 | 0.80 |  6.24 | 0.05 |  73 | 19 | 217 | 1131 | 3710 |\n",
       "| 8877689391 | 5/10/2016 | 10733 |  8.15 |  8.15 | 0 |  1.35 | 0.46 |  6.28 | 0.00 |  18 | 11 | 224 | 1187 | 2832 |\n",
       "| 8877689391 | 5/11/2016 | 21420 | 19.56 | 19.56 | 0 | 13.22 | 0.41 |  5.89 | 0.00 |  88 | 12 | 213 | 1127 | 3832 |\n",
       "| 8877689391 | 5/12/2016 |  8064 |  6.12 |  6.12 | 0 |  1.82 | 0.04 |  4.25 | 0.00 |  23 |  1 | 137 |  770 | 1849 |\n",
       "\n"
      ],
      "text/plain": [
       "    id         activity_date total_steps total_distance tracker_distance\n",
       "1   1503960366 4/12/2016     13162        8.50           8.50           \n",
       "2   1503960366 4/13/2016     10735        6.97           6.97           \n",
       "3   1503960366 4/14/2016     10460        6.74           6.74           \n",
       "4   1503960366 4/15/2016      9762        6.28           6.28           \n",
       "5   1503960366 4/16/2016     12669        8.16           8.16           \n",
       "6   1503960366 4/17/2016      9705        6.48           6.48           \n",
       "7   1503960366 4/18/2016     13019        8.59           8.59           \n",
       "8   1503960366 4/19/2016     15506        9.88           9.88           \n",
       "9   1503960366 4/20/2016     10544        6.68           6.68           \n",
       "10  1503960366 4/21/2016      9819        6.34           6.34           \n",
       "11  1503960366 4/22/2016     12764        8.13           8.13           \n",
       "12  1503960366 4/23/2016     14371        9.04           9.04           \n",
       "13  1503960366 4/24/2016     10039        6.41           6.41           \n",
       "14  1503960366 4/25/2016     15355        9.80           9.80           \n",
       "15  1503960366 4/26/2016     13755        8.79           8.79           \n",
       "16  1503960366 4/27/2016     18134       12.21          12.21           \n",
       "17  1503960366 4/28/2016     13154        8.53           8.53           \n",
       "18  1503960366 4/29/2016     11181        7.15           7.15           \n",
       "19  1503960366 4/30/2016     14673        9.25           9.25           \n",
       "20  1503960366 5/1/2016      10602        6.81           6.81           \n",
       "21  1503960366 5/2/2016      14727        9.71           9.71           \n",
       "22  1503960366 5/3/2016      15103        9.66           9.66           \n",
       "23  1503960366 5/4/2016      11100        7.15           7.15           \n",
       "24  1503960366 5/5/2016      14070        8.90           8.90           \n",
       "25  1503960366 5/6/2016      12159        8.03           8.03           \n",
       "26  1503960366 5/7/2016      11992        7.71           7.71           \n",
       "27  1503960366 5/8/2016      10060        6.58           6.58           \n",
       "28  1503960366 5/9/2016      12022        7.72           7.72           \n",
       "29  1503960366 5/10/2016     12207        7.77           7.77           \n",
       "30  1503960366 5/11/2016     12770        8.13           8.13           \n",
       "⋮   ⋮          ⋮             ⋮           ⋮              ⋮               \n",
       "911 8877689391 4/13/2016     15337        9.58           9.58           \n",
       "912 8877689391 4/14/2016     21129       18.98          18.98           \n",
       "913 8877689391 4/15/2016     13422        7.17           7.17           \n",
       "914 8877689391 4/16/2016     29326       25.29          25.29           \n",
       "915 8877689391 4/17/2016     15118        8.87           8.87           \n",
       "916 8877689391 4/18/2016     11423        8.67           8.67           \n",
       "917 8877689391 4/19/2016     18785       17.40          17.40           \n",
       "918 8877689391 4/20/2016     19948       18.11          18.11           \n",
       "919 8877689391 4/21/2016     19377       17.62          17.62           \n",
       "920 8877689391 4/22/2016     18258       16.31          16.31           \n",
       "921 8877689391 4/23/2016     11200        7.43           7.43           \n",
       "922 8877689391 4/24/2016     16674       15.74          15.74           \n",
       "923 8877689391 4/25/2016     12986        8.74           8.74           \n",
       "924 8877689391 4/26/2016     11101        8.43           8.43           \n",
       "925 8877689391 4/27/2016     23629       20.65          20.65           \n",
       "926 8877689391 4/28/2016     14890       11.30          11.30           \n",
       "927 8877689391 4/29/2016      9733        7.39           7.39           \n",
       "928 8877689391 4/30/2016     27745       26.72          26.72           \n",
       "929 8877689391 5/1/2016      10930        8.32           8.32           \n",
       "930 8877689391 5/2/2016       4790        3.64           3.64           \n",
       "931 8877689391 5/3/2016      10818        8.21           8.21           \n",
       "932 8877689391 5/4/2016      18193       16.30          16.30           \n",
       "933 8877689391 5/5/2016      14055       10.67          10.67           \n",
       "934 8877689391 5/6/2016      21727       19.34          19.34           \n",
       "935 8877689391 5/7/2016      12332        8.13           8.13           \n",
       "936 8877689391 5/8/2016      10686        8.11           8.11           \n",
       "937 8877689391 5/9/2016      20226       18.25          18.25           \n",
       "938 8877689391 5/10/2016     10733        8.15           8.15           \n",
       "939 8877689391 5/11/2016     21420       19.56          19.56           \n",
       "940 8877689391 5/12/2016      8064        6.12           6.12           \n",
       "    logged_activities_distance very_active_distance moderately_active_distance\n",
       "1   0                          1.88                 0.55                      \n",
       "2   0                          1.57                 0.69                      \n",
       "3   0                          2.44                 0.40                      \n",
       "4   0                          2.14                 1.26                      \n",
       "5   0                          2.71                 0.41                      \n",
       "6   0                          3.19                 0.78                      \n",
       "7   0                          3.25                 0.64                      \n",
       "8   0                          3.53                 1.32                      \n",
       "9   0                          1.96                 0.48                      \n",
       "10  0                          1.34                 0.35                      \n",
       "11  0                          4.76                 1.12                      \n",
       "12  0                          2.81                 0.87                      \n",
       "13  0                          2.92                 0.21                      \n",
       "14  0                          5.29                 0.57                      \n",
       "15  0                          2.33                 0.92                      \n",
       "16  0                          6.40                 0.41                      \n",
       "17  0                          3.54                 1.16                      \n",
       "18  0                          1.06                 0.50                      \n",
       "19  0                          3.56                 1.42                      \n",
       "20  0                          2.29                 1.60                      \n",
       "21  0                          3.21                 0.57                      \n",
       "22  0                          3.73                 1.05                      \n",
       "23  0                          2.46                 0.87                      \n",
       "24  0                          2.92                 1.08                      \n",
       "25  0                          1.97                 0.25                      \n",
       "26  0                          2.46                 2.12                      \n",
       "27  0                          3.53                 0.32                      \n",
       "28  0                          3.45                 0.53                      \n",
       "29  0                          3.35                 1.16                      \n",
       "30  0                          2.56                 1.01                      \n",
       "⋮   ⋮                          ⋮                    ⋮                         \n",
       "911 0                           3.55                0.38                      \n",
       "912 0                          10.55                0.59                      \n",
       "913 0                           0.05                0.05                      \n",
       "914 0                          13.24                1.21                      \n",
       "915 0                           0.00                0.07                      \n",
       "916 0                           2.44                0.27                      \n",
       "917 0                          12.15                0.18                      \n",
       "918 0                          11.02                0.69                      \n",
       "919 0                          12.29                0.42                      \n",
       "920 0                          10.23                0.03                      \n",
       "921 0                           0.00                0.00                      \n",
       "922 0                          11.01                0.01                      \n",
       "923 0                           2.37                0.07                      \n",
       "924 0                           1.76                0.13                      \n",
       "925 0                          13.07                0.44                      \n",
       "926 0                           4.93                0.38                      \n",
       "927 0                           1.38                0.17                      \n",
       "928 0                          21.66                0.08                      \n",
       "929 0                           3.13                0.57                      \n",
       "930 0                           0.00                0.00                      \n",
       "931 0                           1.39                0.10                      \n",
       "932 0                          10.42                0.31                      \n",
       "933 0                           5.46                0.82                      \n",
       "934 0                          12.79                0.29                      \n",
       "935 0                           0.08                0.96                      \n",
       "936 0                           1.08                0.20                      \n",
       "937 0                          11.10                0.80                      \n",
       "938 0                           1.35                0.46                      \n",
       "939 0                          13.22                0.41                      \n",
       "940 0                           1.82                0.04                      \n",
       "    light_active_distance sedentary_active_distance very_active_minutes\n",
       "1   6.06                  0                         25                 \n",
       "2   4.71                  0                         21                 \n",
       "3   3.91                  0                         30                 \n",
       "4   2.83                  0                         29                 \n",
       "5   5.04                  0                         36                 \n",
       "6   2.51                  0                         38                 \n",
       "7   4.71                  0                         42                 \n",
       "8   5.03                  0                         50                 \n",
       "9   4.24                  0                         28                 \n",
       "10  4.65                  0                         19                 \n",
       "11  2.24                  0                         66                 \n",
       "12  5.36                  0                         41                 \n",
       "13  3.28                  0                         39                 \n",
       "14  3.94                  0                         73                 \n",
       "15  5.54                  0                         31                 \n",
       "16  5.41                  0                         78                 \n",
       "17  3.79                  0                         48                 \n",
       "18  5.58                  0                         16                 \n",
       "19  4.27                  0                         52                 \n",
       "20  2.92                  0                         33                 \n",
       "21  5.92                  0                         41                 \n",
       "22  4.88                  0                         50                 \n",
       "23  3.82                  0                         36                 \n",
       "24  4.88                  0                         45                 \n",
       "25  5.81                  0                         24                 \n",
       "26  3.13                  0                         37                 \n",
       "27  2.73                  0                         44                 \n",
       "28  3.74                  0                         46                 \n",
       "29  3.26                  0                         46                 \n",
       "30  4.55                  0                         36                 \n",
       "⋮   ⋮                     ⋮                         ⋮                  \n",
       "911  5.64                 0.00                      108                \n",
       "912  7.75                 0.02                       68                \n",
       "913  7.01                 0.01                      106                \n",
       "914 10.71                 0.00                       94                \n",
       "915  8.79                 0.00                       58                \n",
       "916  5.94                 0.00                       29                \n",
       "917  5.03                 0.00                       82                \n",
       "918  6.34                 0.00                       73                \n",
       "919  4.89                 0.00                       82                \n",
       "920  5.97                 0.05                       61                \n",
       "921  7.40                 0.01                      102                \n",
       "922  4.69                 0.00                       64                \n",
       "923  6.27                 0.01                      113                \n",
       "924  6.50                 0.00                       22                \n",
       "925  7.10                 0.00                       93                \n",
       "926  5.97                 0.00                       58                \n",
       "927  5.79                 0.00                       18                \n",
       "928  4.93                 0.00                      124                \n",
       "929  4.57                 0.00                       36                \n",
       "930  3.56                 0.00                        0                \n",
       "931  6.67                 0.01                       19                \n",
       "932  5.53                 0.00                       66                \n",
       "933  4.37                 0.00                       67                \n",
       "934  6.16                 0.00                       96                \n",
       "935  6.99                 0.00                      105                \n",
       "936  6.80                 0.00                       17                \n",
       "937  6.24                 0.05                       73                \n",
       "938  6.28                 0.00                       18                \n",
       "939  5.89                 0.00                       88                \n",
       "940  4.25                 0.00                       23                \n",
       "    fairly_active_minutes lightly_active_minutes sedentary_minutes calories\n",
       "1   13                    328                     728              1985    \n",
       "2   19                    217                     776              1797    \n",
       "3   11                    181                    1218              1776    \n",
       "4   34                    209                     726              1745    \n",
       "5   10                    221                     773              1863    \n",
       "6   20                    164                     539              1728    \n",
       "7   16                    233                    1149              1921    \n",
       "8   31                    264                     775              2035    \n",
       "9   12                    205                     818              1786    \n",
       "10   8                    211                     838              1775    \n",
       "11  27                    130                    1217              1827    \n",
       "12  21                    262                     732              1949    \n",
       "13   5                    238                     709              1788    \n",
       "14  14                    216                     814              2013    \n",
       "15  23                    279                     833              1970    \n",
       "16  11                    243                    1108              2159    \n",
       "17  28                    189                     782              1898    \n",
       "18  12                    243                     815              1837    \n",
       "19  34                    217                     712              1947    \n",
       "20  35                    246                     730              1820    \n",
       "21  15                    277                     798              2004    \n",
       "22  24                    254                     816              1990    \n",
       "23  22                    203                    1179              1819    \n",
       "24  24                    250                     857              1959    \n",
       "25   6                    289                     754              1896    \n",
       "26  46                    175                     833              1821    \n",
       "27   8                    203                     574              1740    \n",
       "28  11                    206                     835              1819    \n",
       "29  31                    214                     746              1859    \n",
       "30  23                    251                     669              1783    \n",
       "⋮   ⋮                     ⋮                      ⋮                 ⋮       \n",
       "911 18                    216                    1098              3566    \n",
       "912 13                    298                    1061              3793    \n",
       "913  1                    281                    1052              3934    \n",
       "914 29                    429                     888              4547    \n",
       "915 15                    307                    1060              3545    \n",
       "916  5                    191                    1215              2761    \n",
       "917 13                    214                    1131              3676    \n",
       "918 19                    225                    1123              3679    \n",
       "919 13                    226                    1119              3659    \n",
       "920  2                    236                    1141              3427    \n",
       "921  6                    300                    1032              3891    \n",
       "922  1                    227                    1148              3455    \n",
       "923  8                    218                    1101              3802    \n",
       "924  3                    258                    1157              2860    \n",
       "925  8                    235                    1104              3808    \n",
       "926  8                    231                    1143              3060    \n",
       "927  5                    210                    1207              2698    \n",
       "928  4                    223                    1089              4398    \n",
       "929 12                    166                    1226              2786    \n",
       "930  0                    105                    1335              2189    \n",
       "931  3                    229                    1189              2817    \n",
       "932  8                    212                    1154              3477    \n",
       "933 15                    188                    1170              3052    \n",
       "934 17                    232                    1095              4015    \n",
       "935 28                    271                    1036              4142    \n",
       "936  4                    245                    1174              2847    \n",
       "937 19                    217                    1131              3710    \n",
       "938 11                    224                    1187              2832    \n",
       "939 12                    213                    1127              3832    \n",
       "940  1                    137                     770              1849    "
      ]
     },
     "metadata": {},
     "output_type": "display_data"
    },
    {
     "data": {
      "text/html": [
       "<table class=\"dataframe\">\n",
       "<caption>A data.frame: 22099 × 4</caption>\n",
       "<thead>\n",
       "\t<tr><th scope=col>id</th><th scope=col>activity_hour</th><th scope=col>total_intensity</th><th scope=col>average_intensity</th></tr>\n",
       "\t<tr><th scope=col>&lt;dbl&gt;</th><th scope=col>&lt;chr&gt;</th><th scope=col>&lt;int&gt;</th><th scope=col>&lt;dbl&gt;</th></tr>\n",
       "</thead>\n",
       "<tbody>\n",
       "\t<tr><td>1503960366</td><td>4/12/2016 12:00:00 AM</td><td>20</td><td>0.333333</td></tr>\n",
       "\t<tr><td>1503960366</td><td>4/12/2016 1:00:00 AM </td><td> 8</td><td>0.133333</td></tr>\n",
       "\t<tr><td>1503960366</td><td>4/12/2016 2:00:00 AM </td><td> 7</td><td>0.116667</td></tr>\n",
       "\t<tr><td>1503960366</td><td>4/12/2016 3:00:00 AM </td><td> 0</td><td>0.000000</td></tr>\n",
       "\t<tr><td>1503960366</td><td>4/12/2016 4:00:00 AM </td><td> 0</td><td>0.000000</td></tr>\n",
       "\t<tr><td>1503960366</td><td>4/12/2016 5:00:00 AM </td><td> 0</td><td>0.000000</td></tr>\n",
       "\t<tr><td>1503960366</td><td>4/12/2016 6:00:00 AM </td><td> 0</td><td>0.000000</td></tr>\n",
       "\t<tr><td>1503960366</td><td>4/12/2016 7:00:00 AM </td><td> 0</td><td>0.000000</td></tr>\n",
       "\t<tr><td>1503960366</td><td>4/12/2016 8:00:00 AM </td><td>13</td><td>0.216667</td></tr>\n",
       "\t<tr><td>1503960366</td><td>4/12/2016 9:00:00 AM </td><td>30</td><td>0.500000</td></tr>\n",
       "\t<tr><td>1503960366</td><td>4/12/2016 10:00:00 AM</td><td>29</td><td>0.483333</td></tr>\n",
       "\t<tr><td>1503960366</td><td>4/12/2016 11:00:00 AM</td><td>12</td><td>0.200000</td></tr>\n",
       "\t<tr><td>1503960366</td><td>4/12/2016 12:00:00 PM</td><td>11</td><td>0.183333</td></tr>\n",
       "\t<tr><td>1503960366</td><td>4/12/2016 1:00:00 PM </td><td> 6</td><td>0.100000</td></tr>\n",
       "\t<tr><td>1503960366</td><td>4/12/2016 2:00:00 PM </td><td>36</td><td>0.600000</td></tr>\n",
       "\t<tr><td>1503960366</td><td>4/12/2016 3:00:00 PM </td><td>58</td><td>0.966667</td></tr>\n",
       "\t<tr><td>1503960366</td><td>4/12/2016 4:00:00 PM </td><td>13</td><td>0.216667</td></tr>\n",
       "\t<tr><td>1503960366</td><td>4/12/2016 5:00:00 PM </td><td>16</td><td>0.266667</td></tr>\n",
       "\t<tr><td>1503960366</td><td>4/12/2016 6:00:00 PM </td><td>29</td><td>0.483333</td></tr>\n",
       "\t<tr><td>1503960366</td><td>4/12/2016 7:00:00 PM </td><td>39</td><td>0.650000</td></tr>\n",
       "\t<tr><td>1503960366</td><td>4/12/2016 8:00:00 PM </td><td>41</td><td>0.683333</td></tr>\n",
       "\t<tr><td>1503960366</td><td>4/12/2016 9:00:00 PM </td><td>31</td><td>0.516667</td></tr>\n",
       "\t<tr><td>1503960366</td><td>4/12/2016 10:00:00 PM</td><td> 9</td><td>0.150000</td></tr>\n",
       "\t<tr><td>1503960366</td><td>4/12/2016 11:00:00 PM</td><td>21</td><td>0.350000</td></tr>\n",
       "\t<tr><td>1503960366</td><td>4/13/2016 12:00:00 AM</td><td>14</td><td>0.233333</td></tr>\n",
       "\t<tr><td>1503960366</td><td>4/13/2016 1:00:00 AM </td><td> 0</td><td>0.000000</td></tr>\n",
       "\t<tr><td>1503960366</td><td>4/13/2016 2:00:00 AM </td><td> 0</td><td>0.000000</td></tr>\n",
       "\t<tr><td>1503960366</td><td>4/13/2016 3:00:00 AM </td><td> 4</td><td>0.066667</td></tr>\n",
       "\t<tr><td>1503960366</td><td>4/13/2016 4:00:00 AM </td><td> 0</td><td>0.000000</td></tr>\n",
       "\t<tr><td>1503960366</td><td>4/13/2016 5:00:00 AM </td><td> 0</td><td>0.000000</td></tr>\n",
       "\t<tr><td>⋮</td><td>⋮</td><td>⋮</td><td>⋮</td></tr>\n",
       "\t<tr><td>8877689391</td><td>5/11/2016 9:00:00 AM </td><td> 11</td><td>0.183333</td></tr>\n",
       "\t<tr><td>8877689391</td><td>5/11/2016 10:00:00 AM</td><td> 11</td><td>0.183333</td></tr>\n",
       "\t<tr><td>8877689391</td><td>5/11/2016 11:00:00 AM</td><td> 23</td><td>0.383333</td></tr>\n",
       "\t<tr><td>8877689391</td><td>5/11/2016 12:00:00 PM</td><td> 96</td><td>1.600000</td></tr>\n",
       "\t<tr><td>8877689391</td><td>5/11/2016 1:00:00 PM </td><td> 12</td><td>0.200000</td></tr>\n",
       "\t<tr><td>8877689391</td><td>5/11/2016 2:00:00 PM </td><td>  3</td><td>0.050000</td></tr>\n",
       "\t<tr><td>8877689391</td><td>5/11/2016 3:00:00 PM </td><td>  8</td><td>0.133333</td></tr>\n",
       "\t<tr><td>8877689391</td><td>5/11/2016 4:00:00 PM </td><td> 58</td><td>0.966667</td></tr>\n",
       "\t<tr><td>8877689391</td><td>5/11/2016 5:00:00 PM </td><td>163</td><td>2.716667</td></tr>\n",
       "\t<tr><td>8877689391</td><td>5/11/2016 6:00:00 PM </td><td> 29</td><td>0.483333</td></tr>\n",
       "\t<tr><td>8877689391</td><td>5/11/2016 7:00:00 PM </td><td> 15</td><td>0.250000</td></tr>\n",
       "\t<tr><td>8877689391</td><td>5/11/2016 8:00:00 PM </td><td> 26</td><td>0.433333</td></tr>\n",
       "\t<tr><td>8877689391</td><td>5/11/2016 9:00:00 PM </td><td> 13</td><td>0.216667</td></tr>\n",
       "\t<tr><td>8877689391</td><td>5/11/2016 10:00:00 PM</td><td>  4</td><td>0.066667</td></tr>\n",
       "\t<tr><td>8877689391</td><td>5/11/2016 11:00:00 PM</td><td>  0</td><td>0.000000</td></tr>\n",
       "\t<tr><td>8877689391</td><td>5/12/2016 12:00:00 AM</td><td>  0</td><td>0.000000</td></tr>\n",
       "\t<tr><td>8877689391</td><td>5/12/2016 1:00:00 AM </td><td>  0</td><td>0.000000</td></tr>\n",
       "\t<tr><td>8877689391</td><td>5/12/2016 2:00:00 AM </td><td>  0</td><td>0.000000</td></tr>\n",
       "\t<tr><td>8877689391</td><td>5/12/2016 3:00:00 AM </td><td>  0</td><td>0.000000</td></tr>\n",
       "\t<tr><td>8877689391</td><td>5/12/2016 4:00:00 AM </td><td>  0</td><td>0.000000</td></tr>\n",
       "\t<tr><td>8877689391</td><td>5/12/2016 5:00:00 AM </td><td>  0</td><td>0.000000</td></tr>\n",
       "\t<tr><td>8877689391</td><td>5/12/2016 6:00:00 AM </td><td>  9</td><td>0.150000</td></tr>\n",
       "\t<tr><td>8877689391</td><td>5/12/2016 7:00:00 AM </td><td> 19</td><td>0.316667</td></tr>\n",
       "\t<tr><td>8877689391</td><td>5/12/2016 8:00:00 AM </td><td> 16</td><td>0.266667</td></tr>\n",
       "\t<tr><td>8877689391</td><td>5/12/2016 9:00:00 AM </td><td>  4</td><td>0.066667</td></tr>\n",
       "\t<tr><td>8877689391</td><td>5/12/2016 10:00:00 AM</td><td> 12</td><td>0.200000</td></tr>\n",
       "\t<tr><td>8877689391</td><td>5/12/2016 11:00:00 AM</td><td> 29</td><td>0.483333</td></tr>\n",
       "\t<tr><td>8877689391</td><td>5/12/2016 12:00:00 PM</td><td> 93</td><td>1.550000</td></tr>\n",
       "\t<tr><td>8877689391</td><td>5/12/2016 1:00:00 PM </td><td>  6</td><td>0.100000</td></tr>\n",
       "\t<tr><td>8877689391</td><td>5/12/2016 2:00:00 PM </td><td>  9</td><td>0.150000</td></tr>\n",
       "</tbody>\n",
       "</table>\n"
      ],
      "text/latex": [
       "A data.frame: 22099 × 4\n",
       "\\begin{tabular}{llll}\n",
       " id & activity\\_hour & total\\_intensity & average\\_intensity\\\\\n",
       " <dbl> & <chr> & <int> & <dbl>\\\\\n",
       "\\hline\n",
       "\t 1503960366 & 4/12/2016 12:00:00 AM & 20 & 0.333333\\\\\n",
       "\t 1503960366 & 4/12/2016 1:00:00 AM  &  8 & 0.133333\\\\\n",
       "\t 1503960366 & 4/12/2016 2:00:00 AM  &  7 & 0.116667\\\\\n",
       "\t 1503960366 & 4/12/2016 3:00:00 AM  &  0 & 0.000000\\\\\n",
       "\t 1503960366 & 4/12/2016 4:00:00 AM  &  0 & 0.000000\\\\\n",
       "\t 1503960366 & 4/12/2016 5:00:00 AM  &  0 & 0.000000\\\\\n",
       "\t 1503960366 & 4/12/2016 6:00:00 AM  &  0 & 0.000000\\\\\n",
       "\t 1503960366 & 4/12/2016 7:00:00 AM  &  0 & 0.000000\\\\\n",
       "\t 1503960366 & 4/12/2016 8:00:00 AM  & 13 & 0.216667\\\\\n",
       "\t 1503960366 & 4/12/2016 9:00:00 AM  & 30 & 0.500000\\\\\n",
       "\t 1503960366 & 4/12/2016 10:00:00 AM & 29 & 0.483333\\\\\n",
       "\t 1503960366 & 4/12/2016 11:00:00 AM & 12 & 0.200000\\\\\n",
       "\t 1503960366 & 4/12/2016 12:00:00 PM & 11 & 0.183333\\\\\n",
       "\t 1503960366 & 4/12/2016 1:00:00 PM  &  6 & 0.100000\\\\\n",
       "\t 1503960366 & 4/12/2016 2:00:00 PM  & 36 & 0.600000\\\\\n",
       "\t 1503960366 & 4/12/2016 3:00:00 PM  & 58 & 0.966667\\\\\n",
       "\t 1503960366 & 4/12/2016 4:00:00 PM  & 13 & 0.216667\\\\\n",
       "\t 1503960366 & 4/12/2016 5:00:00 PM  & 16 & 0.266667\\\\\n",
       "\t 1503960366 & 4/12/2016 6:00:00 PM  & 29 & 0.483333\\\\\n",
       "\t 1503960366 & 4/12/2016 7:00:00 PM  & 39 & 0.650000\\\\\n",
       "\t 1503960366 & 4/12/2016 8:00:00 PM  & 41 & 0.683333\\\\\n",
       "\t 1503960366 & 4/12/2016 9:00:00 PM  & 31 & 0.516667\\\\\n",
       "\t 1503960366 & 4/12/2016 10:00:00 PM &  9 & 0.150000\\\\\n",
       "\t 1503960366 & 4/12/2016 11:00:00 PM & 21 & 0.350000\\\\\n",
       "\t 1503960366 & 4/13/2016 12:00:00 AM & 14 & 0.233333\\\\\n",
       "\t 1503960366 & 4/13/2016 1:00:00 AM  &  0 & 0.000000\\\\\n",
       "\t 1503960366 & 4/13/2016 2:00:00 AM  &  0 & 0.000000\\\\\n",
       "\t 1503960366 & 4/13/2016 3:00:00 AM  &  4 & 0.066667\\\\\n",
       "\t 1503960366 & 4/13/2016 4:00:00 AM  &  0 & 0.000000\\\\\n",
       "\t 1503960366 & 4/13/2016 5:00:00 AM  &  0 & 0.000000\\\\\n",
       "\t ⋮ & ⋮ & ⋮ & ⋮\\\\\n",
       "\t 8877689391 & 5/11/2016 9:00:00 AM  &  11 & 0.183333\\\\\n",
       "\t 8877689391 & 5/11/2016 10:00:00 AM &  11 & 0.183333\\\\\n",
       "\t 8877689391 & 5/11/2016 11:00:00 AM &  23 & 0.383333\\\\\n",
       "\t 8877689391 & 5/11/2016 12:00:00 PM &  96 & 1.600000\\\\\n",
       "\t 8877689391 & 5/11/2016 1:00:00 PM  &  12 & 0.200000\\\\\n",
       "\t 8877689391 & 5/11/2016 2:00:00 PM  &   3 & 0.050000\\\\\n",
       "\t 8877689391 & 5/11/2016 3:00:00 PM  &   8 & 0.133333\\\\\n",
       "\t 8877689391 & 5/11/2016 4:00:00 PM  &  58 & 0.966667\\\\\n",
       "\t 8877689391 & 5/11/2016 5:00:00 PM  & 163 & 2.716667\\\\\n",
       "\t 8877689391 & 5/11/2016 6:00:00 PM  &  29 & 0.483333\\\\\n",
       "\t 8877689391 & 5/11/2016 7:00:00 PM  &  15 & 0.250000\\\\\n",
       "\t 8877689391 & 5/11/2016 8:00:00 PM  &  26 & 0.433333\\\\\n",
       "\t 8877689391 & 5/11/2016 9:00:00 PM  &  13 & 0.216667\\\\\n",
       "\t 8877689391 & 5/11/2016 10:00:00 PM &   4 & 0.066667\\\\\n",
       "\t 8877689391 & 5/11/2016 11:00:00 PM &   0 & 0.000000\\\\\n",
       "\t 8877689391 & 5/12/2016 12:00:00 AM &   0 & 0.000000\\\\\n",
       "\t 8877689391 & 5/12/2016 1:00:00 AM  &   0 & 0.000000\\\\\n",
       "\t 8877689391 & 5/12/2016 2:00:00 AM  &   0 & 0.000000\\\\\n",
       "\t 8877689391 & 5/12/2016 3:00:00 AM  &   0 & 0.000000\\\\\n",
       "\t 8877689391 & 5/12/2016 4:00:00 AM  &   0 & 0.000000\\\\\n",
       "\t 8877689391 & 5/12/2016 5:00:00 AM  &   0 & 0.000000\\\\\n",
       "\t 8877689391 & 5/12/2016 6:00:00 AM  &   9 & 0.150000\\\\\n",
       "\t 8877689391 & 5/12/2016 7:00:00 AM  &  19 & 0.316667\\\\\n",
       "\t 8877689391 & 5/12/2016 8:00:00 AM  &  16 & 0.266667\\\\\n",
       "\t 8877689391 & 5/12/2016 9:00:00 AM  &   4 & 0.066667\\\\\n",
       "\t 8877689391 & 5/12/2016 10:00:00 AM &  12 & 0.200000\\\\\n",
       "\t 8877689391 & 5/12/2016 11:00:00 AM &  29 & 0.483333\\\\\n",
       "\t 8877689391 & 5/12/2016 12:00:00 PM &  93 & 1.550000\\\\\n",
       "\t 8877689391 & 5/12/2016 1:00:00 PM  &   6 & 0.100000\\\\\n",
       "\t 8877689391 & 5/12/2016 2:00:00 PM  &   9 & 0.150000\\\\\n",
       "\\end{tabular}\n"
      ],
      "text/markdown": [
       "\n",
       "A data.frame: 22099 × 4\n",
       "\n",
       "| id &lt;dbl&gt; | activity_hour &lt;chr&gt; | total_intensity &lt;int&gt; | average_intensity &lt;dbl&gt; |\n",
       "|---|---|---|---|\n",
       "| 1503960366 | 4/12/2016 12:00:00 AM | 20 | 0.333333 |\n",
       "| 1503960366 | 4/12/2016 1:00:00 AM  |  8 | 0.133333 |\n",
       "| 1503960366 | 4/12/2016 2:00:00 AM  |  7 | 0.116667 |\n",
       "| 1503960366 | 4/12/2016 3:00:00 AM  |  0 | 0.000000 |\n",
       "| 1503960366 | 4/12/2016 4:00:00 AM  |  0 | 0.000000 |\n",
       "| 1503960366 | 4/12/2016 5:00:00 AM  |  0 | 0.000000 |\n",
       "| 1503960366 | 4/12/2016 6:00:00 AM  |  0 | 0.000000 |\n",
       "| 1503960366 | 4/12/2016 7:00:00 AM  |  0 | 0.000000 |\n",
       "| 1503960366 | 4/12/2016 8:00:00 AM  | 13 | 0.216667 |\n",
       "| 1503960366 | 4/12/2016 9:00:00 AM  | 30 | 0.500000 |\n",
       "| 1503960366 | 4/12/2016 10:00:00 AM | 29 | 0.483333 |\n",
       "| 1503960366 | 4/12/2016 11:00:00 AM | 12 | 0.200000 |\n",
       "| 1503960366 | 4/12/2016 12:00:00 PM | 11 | 0.183333 |\n",
       "| 1503960366 | 4/12/2016 1:00:00 PM  |  6 | 0.100000 |\n",
       "| 1503960366 | 4/12/2016 2:00:00 PM  | 36 | 0.600000 |\n",
       "| 1503960366 | 4/12/2016 3:00:00 PM  | 58 | 0.966667 |\n",
       "| 1503960366 | 4/12/2016 4:00:00 PM  | 13 | 0.216667 |\n",
       "| 1503960366 | 4/12/2016 5:00:00 PM  | 16 | 0.266667 |\n",
       "| 1503960366 | 4/12/2016 6:00:00 PM  | 29 | 0.483333 |\n",
       "| 1503960366 | 4/12/2016 7:00:00 PM  | 39 | 0.650000 |\n",
       "| 1503960366 | 4/12/2016 8:00:00 PM  | 41 | 0.683333 |\n",
       "| 1503960366 | 4/12/2016 9:00:00 PM  | 31 | 0.516667 |\n",
       "| 1503960366 | 4/12/2016 10:00:00 PM |  9 | 0.150000 |\n",
       "| 1503960366 | 4/12/2016 11:00:00 PM | 21 | 0.350000 |\n",
       "| 1503960366 | 4/13/2016 12:00:00 AM | 14 | 0.233333 |\n",
       "| 1503960366 | 4/13/2016 1:00:00 AM  |  0 | 0.000000 |\n",
       "| 1503960366 | 4/13/2016 2:00:00 AM  |  0 | 0.000000 |\n",
       "| 1503960366 | 4/13/2016 3:00:00 AM  |  4 | 0.066667 |\n",
       "| 1503960366 | 4/13/2016 4:00:00 AM  |  0 | 0.000000 |\n",
       "| 1503960366 | 4/13/2016 5:00:00 AM  |  0 | 0.000000 |\n",
       "| ⋮ | ⋮ | ⋮ | ⋮ |\n",
       "| 8877689391 | 5/11/2016 9:00:00 AM  |  11 | 0.183333 |\n",
       "| 8877689391 | 5/11/2016 10:00:00 AM |  11 | 0.183333 |\n",
       "| 8877689391 | 5/11/2016 11:00:00 AM |  23 | 0.383333 |\n",
       "| 8877689391 | 5/11/2016 12:00:00 PM |  96 | 1.600000 |\n",
       "| 8877689391 | 5/11/2016 1:00:00 PM  |  12 | 0.200000 |\n",
       "| 8877689391 | 5/11/2016 2:00:00 PM  |   3 | 0.050000 |\n",
       "| 8877689391 | 5/11/2016 3:00:00 PM  |   8 | 0.133333 |\n",
       "| 8877689391 | 5/11/2016 4:00:00 PM  |  58 | 0.966667 |\n",
       "| 8877689391 | 5/11/2016 5:00:00 PM  | 163 | 2.716667 |\n",
       "| 8877689391 | 5/11/2016 6:00:00 PM  |  29 | 0.483333 |\n",
       "| 8877689391 | 5/11/2016 7:00:00 PM  |  15 | 0.250000 |\n",
       "| 8877689391 | 5/11/2016 8:00:00 PM  |  26 | 0.433333 |\n",
       "| 8877689391 | 5/11/2016 9:00:00 PM  |  13 | 0.216667 |\n",
       "| 8877689391 | 5/11/2016 10:00:00 PM |   4 | 0.066667 |\n",
       "| 8877689391 | 5/11/2016 11:00:00 PM |   0 | 0.000000 |\n",
       "| 8877689391 | 5/12/2016 12:00:00 AM |   0 | 0.000000 |\n",
       "| 8877689391 | 5/12/2016 1:00:00 AM  |   0 | 0.000000 |\n",
       "| 8877689391 | 5/12/2016 2:00:00 AM  |   0 | 0.000000 |\n",
       "| 8877689391 | 5/12/2016 3:00:00 AM  |   0 | 0.000000 |\n",
       "| 8877689391 | 5/12/2016 4:00:00 AM  |   0 | 0.000000 |\n",
       "| 8877689391 | 5/12/2016 5:00:00 AM  |   0 | 0.000000 |\n",
       "| 8877689391 | 5/12/2016 6:00:00 AM  |   9 | 0.150000 |\n",
       "| 8877689391 | 5/12/2016 7:00:00 AM  |  19 | 0.316667 |\n",
       "| 8877689391 | 5/12/2016 8:00:00 AM  |  16 | 0.266667 |\n",
       "| 8877689391 | 5/12/2016 9:00:00 AM  |   4 | 0.066667 |\n",
       "| 8877689391 | 5/12/2016 10:00:00 AM |  12 | 0.200000 |\n",
       "| 8877689391 | 5/12/2016 11:00:00 AM |  29 | 0.483333 |\n",
       "| 8877689391 | 5/12/2016 12:00:00 PM |  93 | 1.550000 |\n",
       "| 8877689391 | 5/12/2016 1:00:00 PM  |   6 | 0.100000 |\n",
       "| 8877689391 | 5/12/2016 2:00:00 PM  |   9 | 0.150000 |\n",
       "\n"
      ],
      "text/plain": [
       "      id         activity_hour         total_intensity average_intensity\n",
       "1     1503960366 4/12/2016 12:00:00 AM 20              0.333333         \n",
       "2     1503960366 4/12/2016 1:00:00 AM   8              0.133333         \n",
       "3     1503960366 4/12/2016 2:00:00 AM   7              0.116667         \n",
       "4     1503960366 4/12/2016 3:00:00 AM   0              0.000000         \n",
       "5     1503960366 4/12/2016 4:00:00 AM   0              0.000000         \n",
       "6     1503960366 4/12/2016 5:00:00 AM   0              0.000000         \n",
       "7     1503960366 4/12/2016 6:00:00 AM   0              0.000000         \n",
       "8     1503960366 4/12/2016 7:00:00 AM   0              0.000000         \n",
       "9     1503960366 4/12/2016 8:00:00 AM  13              0.216667         \n",
       "10    1503960366 4/12/2016 9:00:00 AM  30              0.500000         \n",
       "11    1503960366 4/12/2016 10:00:00 AM 29              0.483333         \n",
       "12    1503960366 4/12/2016 11:00:00 AM 12              0.200000         \n",
       "13    1503960366 4/12/2016 12:00:00 PM 11              0.183333         \n",
       "14    1503960366 4/12/2016 1:00:00 PM   6              0.100000         \n",
       "15    1503960366 4/12/2016 2:00:00 PM  36              0.600000         \n",
       "16    1503960366 4/12/2016 3:00:00 PM  58              0.966667         \n",
       "17    1503960366 4/12/2016 4:00:00 PM  13              0.216667         \n",
       "18    1503960366 4/12/2016 5:00:00 PM  16              0.266667         \n",
       "19    1503960366 4/12/2016 6:00:00 PM  29              0.483333         \n",
       "20    1503960366 4/12/2016 7:00:00 PM  39              0.650000         \n",
       "21    1503960366 4/12/2016 8:00:00 PM  41              0.683333         \n",
       "22    1503960366 4/12/2016 9:00:00 PM  31              0.516667         \n",
       "23    1503960366 4/12/2016 10:00:00 PM  9              0.150000         \n",
       "24    1503960366 4/12/2016 11:00:00 PM 21              0.350000         \n",
       "25    1503960366 4/13/2016 12:00:00 AM 14              0.233333         \n",
       "26    1503960366 4/13/2016 1:00:00 AM   0              0.000000         \n",
       "27    1503960366 4/13/2016 2:00:00 AM   0              0.000000         \n",
       "28    1503960366 4/13/2016 3:00:00 AM   4              0.066667         \n",
       "29    1503960366 4/13/2016 4:00:00 AM   0              0.000000         \n",
       "30    1503960366 4/13/2016 5:00:00 AM   0              0.000000         \n",
       "⋮     ⋮          ⋮                     ⋮               ⋮                \n",
       "22070 8877689391 5/11/2016 9:00:00 AM   11             0.183333         \n",
       "22071 8877689391 5/11/2016 10:00:00 AM  11             0.183333         \n",
       "22072 8877689391 5/11/2016 11:00:00 AM  23             0.383333         \n",
       "22073 8877689391 5/11/2016 12:00:00 PM  96             1.600000         \n",
       "22074 8877689391 5/11/2016 1:00:00 PM   12             0.200000         \n",
       "22075 8877689391 5/11/2016 2:00:00 PM    3             0.050000         \n",
       "22076 8877689391 5/11/2016 3:00:00 PM    8             0.133333         \n",
       "22077 8877689391 5/11/2016 4:00:00 PM   58             0.966667         \n",
       "22078 8877689391 5/11/2016 5:00:00 PM  163             2.716667         \n",
       "22079 8877689391 5/11/2016 6:00:00 PM   29             0.483333         \n",
       "22080 8877689391 5/11/2016 7:00:00 PM   15             0.250000         \n",
       "22081 8877689391 5/11/2016 8:00:00 PM   26             0.433333         \n",
       "22082 8877689391 5/11/2016 9:00:00 PM   13             0.216667         \n",
       "22083 8877689391 5/11/2016 10:00:00 PM   4             0.066667         \n",
       "22084 8877689391 5/11/2016 11:00:00 PM   0             0.000000         \n",
       "22085 8877689391 5/12/2016 12:00:00 AM   0             0.000000         \n",
       "22086 8877689391 5/12/2016 1:00:00 AM    0             0.000000         \n",
       "22087 8877689391 5/12/2016 2:00:00 AM    0             0.000000         \n",
       "22088 8877689391 5/12/2016 3:00:00 AM    0             0.000000         \n",
       "22089 8877689391 5/12/2016 4:00:00 AM    0             0.000000         \n",
       "22090 8877689391 5/12/2016 5:00:00 AM    0             0.000000         \n",
       "22091 8877689391 5/12/2016 6:00:00 AM    9             0.150000         \n",
       "22092 8877689391 5/12/2016 7:00:00 AM   19             0.316667         \n",
       "22093 8877689391 5/12/2016 8:00:00 AM   16             0.266667         \n",
       "22094 8877689391 5/12/2016 9:00:00 AM    4             0.066667         \n",
       "22095 8877689391 5/12/2016 10:00:00 AM  12             0.200000         \n",
       "22096 8877689391 5/12/2016 11:00:00 AM  29             0.483333         \n",
       "22097 8877689391 5/12/2016 12:00:00 PM  93             1.550000         \n",
       "22098 8877689391 5/12/2016 1:00:00 PM    6             0.100000         \n",
       "22099 8877689391 5/12/2016 2:00:00 PM    9             0.150000         "
      ]
     },
     "metadata": {},
     "output_type": "display_data"
    },
    {
     "data": {
      "text/html": [
       "<table class=\"dataframe\">\n",
       "<caption>A data.frame: 22099 × 3</caption>\n",
       "<thead>\n",
       "\t<tr><th scope=col>id</th><th scope=col>activity_hour</th><th scope=col>calories</th></tr>\n",
       "\t<tr><th scope=col>&lt;dbl&gt;</th><th scope=col>&lt;chr&gt;</th><th scope=col>&lt;int&gt;</th></tr>\n",
       "</thead>\n",
       "<tbody>\n",
       "\t<tr><td>1503960366</td><td>4/12/2016 12:00:00 AM</td><td> 81</td></tr>\n",
       "\t<tr><td>1503960366</td><td>4/12/2016 1:00:00 AM </td><td> 61</td></tr>\n",
       "\t<tr><td>1503960366</td><td>4/12/2016 2:00:00 AM </td><td> 59</td></tr>\n",
       "\t<tr><td>1503960366</td><td>4/12/2016 3:00:00 AM </td><td> 47</td></tr>\n",
       "\t<tr><td>1503960366</td><td>4/12/2016 4:00:00 AM </td><td> 48</td></tr>\n",
       "\t<tr><td>1503960366</td><td>4/12/2016 5:00:00 AM </td><td> 48</td></tr>\n",
       "\t<tr><td>1503960366</td><td>4/12/2016 6:00:00 AM </td><td> 48</td></tr>\n",
       "\t<tr><td>1503960366</td><td>4/12/2016 7:00:00 AM </td><td> 47</td></tr>\n",
       "\t<tr><td>1503960366</td><td>4/12/2016 8:00:00 AM </td><td> 68</td></tr>\n",
       "\t<tr><td>1503960366</td><td>4/12/2016 9:00:00 AM </td><td>141</td></tr>\n",
       "\t<tr><td>1503960366</td><td>4/12/2016 10:00:00 AM</td><td> 99</td></tr>\n",
       "\t<tr><td>1503960366</td><td>4/12/2016 11:00:00 AM</td><td> 76</td></tr>\n",
       "\t<tr><td>1503960366</td><td>4/12/2016 12:00:00 PM</td><td> 73</td></tr>\n",
       "\t<tr><td>1503960366</td><td>4/12/2016 1:00:00 PM </td><td> 66</td></tr>\n",
       "\t<tr><td>1503960366</td><td>4/12/2016 2:00:00 PM </td><td>110</td></tr>\n",
       "\t<tr><td>1503960366</td><td>4/12/2016 3:00:00 PM </td><td>151</td></tr>\n",
       "\t<tr><td>1503960366</td><td>4/12/2016 4:00:00 PM </td><td> 76</td></tr>\n",
       "\t<tr><td>1503960366</td><td>4/12/2016 5:00:00 PM </td><td> 83</td></tr>\n",
       "\t<tr><td>1503960366</td><td>4/12/2016 6:00:00 PM </td><td>124</td></tr>\n",
       "\t<tr><td>1503960366</td><td>4/12/2016 7:00:00 PM </td><td>104</td></tr>\n",
       "\t<tr><td>1503960366</td><td>4/12/2016 8:00:00 PM </td><td>132</td></tr>\n",
       "\t<tr><td>1503960366</td><td>4/12/2016 9:00:00 PM </td><td>100</td></tr>\n",
       "\t<tr><td>1503960366</td><td>4/12/2016 10:00:00 PM</td><td> 65</td></tr>\n",
       "\t<tr><td>1503960366</td><td>4/12/2016 11:00:00 PM</td><td> 81</td></tr>\n",
       "\t<tr><td>1503960366</td><td>4/13/2016 12:00:00 AM</td><td> 69</td></tr>\n",
       "\t<tr><td>1503960366</td><td>4/13/2016 1:00:00 AM </td><td> 48</td></tr>\n",
       "\t<tr><td>1503960366</td><td>4/13/2016 2:00:00 AM </td><td> 47</td></tr>\n",
       "\t<tr><td>1503960366</td><td>4/13/2016 3:00:00 AM </td><td> 53</td></tr>\n",
       "\t<tr><td>1503960366</td><td>4/13/2016 4:00:00 AM </td><td> 47</td></tr>\n",
       "\t<tr><td>1503960366</td><td>4/13/2016 5:00:00 AM </td><td> 47</td></tr>\n",
       "\t<tr><td>⋮</td><td>⋮</td><td>⋮</td></tr>\n",
       "\t<tr><td>8877689391</td><td>5/11/2016 9:00:00 AM </td><td>113</td></tr>\n",
       "\t<tr><td>8877689391</td><td>5/11/2016 10:00:00 AM</td><td>107</td></tr>\n",
       "\t<tr><td>8877689391</td><td>5/11/2016 11:00:00 AM</td><td>168</td></tr>\n",
       "\t<tr><td>8877689391</td><td>5/11/2016 12:00:00 PM</td><td>402</td></tr>\n",
       "\t<tr><td>8877689391</td><td>5/11/2016 1:00:00 PM </td><td>120</td></tr>\n",
       "\t<tr><td>8877689391</td><td>5/11/2016 2:00:00 PM </td><td> 82</td></tr>\n",
       "\t<tr><td>8877689391</td><td>5/11/2016 3:00:00 PM </td><td>108</td></tr>\n",
       "\t<tr><td>8877689391</td><td>5/11/2016 4:00:00 PM </td><td>310</td></tr>\n",
       "\t<tr><td>8877689391</td><td>5/11/2016 5:00:00 PM </td><td>835</td></tr>\n",
       "\t<tr><td>8877689391</td><td>5/11/2016 6:00:00 PM </td><td>197</td></tr>\n",
       "\t<tr><td>8877689391</td><td>5/11/2016 7:00:00 PM </td><td>144</td></tr>\n",
       "\t<tr><td>8877689391</td><td>5/11/2016 8:00:00 PM </td><td>174</td></tr>\n",
       "\t<tr><td>8877689391</td><td>5/11/2016 9:00:00 PM </td><td>123</td></tr>\n",
       "\t<tr><td>8877689391</td><td>5/11/2016 10:00:00 PM</td><td> 93</td></tr>\n",
       "\t<tr><td>8877689391</td><td>5/11/2016 11:00:00 PM</td><td> 73</td></tr>\n",
       "\t<tr><td>8877689391</td><td>5/12/2016 12:00:00 AM</td><td> 73</td></tr>\n",
       "\t<tr><td>8877689391</td><td>5/12/2016 1:00:00 AM </td><td> 73</td></tr>\n",
       "\t<tr><td>8877689391</td><td>5/12/2016 2:00:00 AM </td><td> 73</td></tr>\n",
       "\t<tr><td>8877689391</td><td>5/12/2016 3:00:00 AM </td><td> 73</td></tr>\n",
       "\t<tr><td>8877689391</td><td>5/12/2016 4:00:00 AM </td><td> 73</td></tr>\n",
       "\t<tr><td>8877689391</td><td>5/12/2016 5:00:00 AM </td><td> 73</td></tr>\n",
       "\t<tr><td>8877689391</td><td>5/12/2016 6:00:00 AM </td><td>107</td></tr>\n",
       "\t<tr><td>8877689391</td><td>5/12/2016 7:00:00 AM </td><td>148</td></tr>\n",
       "\t<tr><td>8877689391</td><td>5/12/2016 8:00:00 AM </td><td>137</td></tr>\n",
       "\t<tr><td>8877689391</td><td>5/12/2016 9:00:00 AM </td><td> 88</td></tr>\n",
       "\t<tr><td>8877689391</td><td>5/12/2016 10:00:00 AM</td><td>126</td></tr>\n",
       "\t<tr><td>8877689391</td><td>5/12/2016 11:00:00 AM</td><td>192</td></tr>\n",
       "\t<tr><td>8877689391</td><td>5/12/2016 12:00:00 PM</td><td>321</td></tr>\n",
       "\t<tr><td>8877689391</td><td>5/12/2016 1:00:00 PM </td><td>101</td></tr>\n",
       "\t<tr><td>8877689391</td><td>5/12/2016 2:00:00 PM </td><td>113</td></tr>\n",
       "</tbody>\n",
       "</table>\n"
      ],
      "text/latex": [
       "A data.frame: 22099 × 3\n",
       "\\begin{tabular}{lll}\n",
       " id & activity\\_hour & calories\\\\\n",
       " <dbl> & <chr> & <int>\\\\\n",
       "\\hline\n",
       "\t 1503960366 & 4/12/2016 12:00:00 AM &  81\\\\\n",
       "\t 1503960366 & 4/12/2016 1:00:00 AM  &  61\\\\\n",
       "\t 1503960366 & 4/12/2016 2:00:00 AM  &  59\\\\\n",
       "\t 1503960366 & 4/12/2016 3:00:00 AM  &  47\\\\\n",
       "\t 1503960366 & 4/12/2016 4:00:00 AM  &  48\\\\\n",
       "\t 1503960366 & 4/12/2016 5:00:00 AM  &  48\\\\\n",
       "\t 1503960366 & 4/12/2016 6:00:00 AM  &  48\\\\\n",
       "\t 1503960366 & 4/12/2016 7:00:00 AM  &  47\\\\\n",
       "\t 1503960366 & 4/12/2016 8:00:00 AM  &  68\\\\\n",
       "\t 1503960366 & 4/12/2016 9:00:00 AM  & 141\\\\\n",
       "\t 1503960366 & 4/12/2016 10:00:00 AM &  99\\\\\n",
       "\t 1503960366 & 4/12/2016 11:00:00 AM &  76\\\\\n",
       "\t 1503960366 & 4/12/2016 12:00:00 PM &  73\\\\\n",
       "\t 1503960366 & 4/12/2016 1:00:00 PM  &  66\\\\\n",
       "\t 1503960366 & 4/12/2016 2:00:00 PM  & 110\\\\\n",
       "\t 1503960366 & 4/12/2016 3:00:00 PM  & 151\\\\\n",
       "\t 1503960366 & 4/12/2016 4:00:00 PM  &  76\\\\\n",
       "\t 1503960366 & 4/12/2016 5:00:00 PM  &  83\\\\\n",
       "\t 1503960366 & 4/12/2016 6:00:00 PM  & 124\\\\\n",
       "\t 1503960366 & 4/12/2016 7:00:00 PM  & 104\\\\\n",
       "\t 1503960366 & 4/12/2016 8:00:00 PM  & 132\\\\\n",
       "\t 1503960366 & 4/12/2016 9:00:00 PM  & 100\\\\\n",
       "\t 1503960366 & 4/12/2016 10:00:00 PM &  65\\\\\n",
       "\t 1503960366 & 4/12/2016 11:00:00 PM &  81\\\\\n",
       "\t 1503960366 & 4/13/2016 12:00:00 AM &  69\\\\\n",
       "\t 1503960366 & 4/13/2016 1:00:00 AM  &  48\\\\\n",
       "\t 1503960366 & 4/13/2016 2:00:00 AM  &  47\\\\\n",
       "\t 1503960366 & 4/13/2016 3:00:00 AM  &  53\\\\\n",
       "\t 1503960366 & 4/13/2016 4:00:00 AM  &  47\\\\\n",
       "\t 1503960366 & 4/13/2016 5:00:00 AM  &  47\\\\\n",
       "\t ⋮ & ⋮ & ⋮\\\\\n",
       "\t 8877689391 & 5/11/2016 9:00:00 AM  & 113\\\\\n",
       "\t 8877689391 & 5/11/2016 10:00:00 AM & 107\\\\\n",
       "\t 8877689391 & 5/11/2016 11:00:00 AM & 168\\\\\n",
       "\t 8877689391 & 5/11/2016 12:00:00 PM & 402\\\\\n",
       "\t 8877689391 & 5/11/2016 1:00:00 PM  & 120\\\\\n",
       "\t 8877689391 & 5/11/2016 2:00:00 PM  &  82\\\\\n",
       "\t 8877689391 & 5/11/2016 3:00:00 PM  & 108\\\\\n",
       "\t 8877689391 & 5/11/2016 4:00:00 PM  & 310\\\\\n",
       "\t 8877689391 & 5/11/2016 5:00:00 PM  & 835\\\\\n",
       "\t 8877689391 & 5/11/2016 6:00:00 PM  & 197\\\\\n",
       "\t 8877689391 & 5/11/2016 7:00:00 PM  & 144\\\\\n",
       "\t 8877689391 & 5/11/2016 8:00:00 PM  & 174\\\\\n",
       "\t 8877689391 & 5/11/2016 9:00:00 PM  & 123\\\\\n",
       "\t 8877689391 & 5/11/2016 10:00:00 PM &  93\\\\\n",
       "\t 8877689391 & 5/11/2016 11:00:00 PM &  73\\\\\n",
       "\t 8877689391 & 5/12/2016 12:00:00 AM &  73\\\\\n",
       "\t 8877689391 & 5/12/2016 1:00:00 AM  &  73\\\\\n",
       "\t 8877689391 & 5/12/2016 2:00:00 AM  &  73\\\\\n",
       "\t 8877689391 & 5/12/2016 3:00:00 AM  &  73\\\\\n",
       "\t 8877689391 & 5/12/2016 4:00:00 AM  &  73\\\\\n",
       "\t 8877689391 & 5/12/2016 5:00:00 AM  &  73\\\\\n",
       "\t 8877689391 & 5/12/2016 6:00:00 AM  & 107\\\\\n",
       "\t 8877689391 & 5/12/2016 7:00:00 AM  & 148\\\\\n",
       "\t 8877689391 & 5/12/2016 8:00:00 AM  & 137\\\\\n",
       "\t 8877689391 & 5/12/2016 9:00:00 AM  &  88\\\\\n",
       "\t 8877689391 & 5/12/2016 10:00:00 AM & 126\\\\\n",
       "\t 8877689391 & 5/12/2016 11:00:00 AM & 192\\\\\n",
       "\t 8877689391 & 5/12/2016 12:00:00 PM & 321\\\\\n",
       "\t 8877689391 & 5/12/2016 1:00:00 PM  & 101\\\\\n",
       "\t 8877689391 & 5/12/2016 2:00:00 PM  & 113\\\\\n",
       "\\end{tabular}\n"
      ],
      "text/markdown": [
       "\n",
       "A data.frame: 22099 × 3\n",
       "\n",
       "| id &lt;dbl&gt; | activity_hour &lt;chr&gt; | calories &lt;int&gt; |\n",
       "|---|---|---|\n",
       "| 1503960366 | 4/12/2016 12:00:00 AM |  81 |\n",
       "| 1503960366 | 4/12/2016 1:00:00 AM  |  61 |\n",
       "| 1503960366 | 4/12/2016 2:00:00 AM  |  59 |\n",
       "| 1503960366 | 4/12/2016 3:00:00 AM  |  47 |\n",
       "| 1503960366 | 4/12/2016 4:00:00 AM  |  48 |\n",
       "| 1503960366 | 4/12/2016 5:00:00 AM  |  48 |\n",
       "| 1503960366 | 4/12/2016 6:00:00 AM  |  48 |\n",
       "| 1503960366 | 4/12/2016 7:00:00 AM  |  47 |\n",
       "| 1503960366 | 4/12/2016 8:00:00 AM  |  68 |\n",
       "| 1503960366 | 4/12/2016 9:00:00 AM  | 141 |\n",
       "| 1503960366 | 4/12/2016 10:00:00 AM |  99 |\n",
       "| 1503960366 | 4/12/2016 11:00:00 AM |  76 |\n",
       "| 1503960366 | 4/12/2016 12:00:00 PM |  73 |\n",
       "| 1503960366 | 4/12/2016 1:00:00 PM  |  66 |\n",
       "| 1503960366 | 4/12/2016 2:00:00 PM  | 110 |\n",
       "| 1503960366 | 4/12/2016 3:00:00 PM  | 151 |\n",
       "| 1503960366 | 4/12/2016 4:00:00 PM  |  76 |\n",
       "| 1503960366 | 4/12/2016 5:00:00 PM  |  83 |\n",
       "| 1503960366 | 4/12/2016 6:00:00 PM  | 124 |\n",
       "| 1503960366 | 4/12/2016 7:00:00 PM  | 104 |\n",
       "| 1503960366 | 4/12/2016 8:00:00 PM  | 132 |\n",
       "| 1503960366 | 4/12/2016 9:00:00 PM  | 100 |\n",
       "| 1503960366 | 4/12/2016 10:00:00 PM |  65 |\n",
       "| 1503960366 | 4/12/2016 11:00:00 PM |  81 |\n",
       "| 1503960366 | 4/13/2016 12:00:00 AM |  69 |\n",
       "| 1503960366 | 4/13/2016 1:00:00 AM  |  48 |\n",
       "| 1503960366 | 4/13/2016 2:00:00 AM  |  47 |\n",
       "| 1503960366 | 4/13/2016 3:00:00 AM  |  53 |\n",
       "| 1503960366 | 4/13/2016 4:00:00 AM  |  47 |\n",
       "| 1503960366 | 4/13/2016 5:00:00 AM  |  47 |\n",
       "| ⋮ | ⋮ | ⋮ |\n",
       "| 8877689391 | 5/11/2016 9:00:00 AM  | 113 |\n",
       "| 8877689391 | 5/11/2016 10:00:00 AM | 107 |\n",
       "| 8877689391 | 5/11/2016 11:00:00 AM | 168 |\n",
       "| 8877689391 | 5/11/2016 12:00:00 PM | 402 |\n",
       "| 8877689391 | 5/11/2016 1:00:00 PM  | 120 |\n",
       "| 8877689391 | 5/11/2016 2:00:00 PM  |  82 |\n",
       "| 8877689391 | 5/11/2016 3:00:00 PM  | 108 |\n",
       "| 8877689391 | 5/11/2016 4:00:00 PM  | 310 |\n",
       "| 8877689391 | 5/11/2016 5:00:00 PM  | 835 |\n",
       "| 8877689391 | 5/11/2016 6:00:00 PM  | 197 |\n",
       "| 8877689391 | 5/11/2016 7:00:00 PM  | 144 |\n",
       "| 8877689391 | 5/11/2016 8:00:00 PM  | 174 |\n",
       "| 8877689391 | 5/11/2016 9:00:00 PM  | 123 |\n",
       "| 8877689391 | 5/11/2016 10:00:00 PM |  93 |\n",
       "| 8877689391 | 5/11/2016 11:00:00 PM |  73 |\n",
       "| 8877689391 | 5/12/2016 12:00:00 AM |  73 |\n",
       "| 8877689391 | 5/12/2016 1:00:00 AM  |  73 |\n",
       "| 8877689391 | 5/12/2016 2:00:00 AM  |  73 |\n",
       "| 8877689391 | 5/12/2016 3:00:00 AM  |  73 |\n",
       "| 8877689391 | 5/12/2016 4:00:00 AM  |  73 |\n",
       "| 8877689391 | 5/12/2016 5:00:00 AM  |  73 |\n",
       "| 8877689391 | 5/12/2016 6:00:00 AM  | 107 |\n",
       "| 8877689391 | 5/12/2016 7:00:00 AM  | 148 |\n",
       "| 8877689391 | 5/12/2016 8:00:00 AM  | 137 |\n",
       "| 8877689391 | 5/12/2016 9:00:00 AM  |  88 |\n",
       "| 8877689391 | 5/12/2016 10:00:00 AM | 126 |\n",
       "| 8877689391 | 5/12/2016 11:00:00 AM | 192 |\n",
       "| 8877689391 | 5/12/2016 12:00:00 PM | 321 |\n",
       "| 8877689391 | 5/12/2016 1:00:00 PM  | 101 |\n",
       "| 8877689391 | 5/12/2016 2:00:00 PM  | 113 |\n",
       "\n"
      ],
      "text/plain": [
       "      id         activity_hour         calories\n",
       "1     1503960366 4/12/2016 12:00:00 AM  81     \n",
       "2     1503960366 4/12/2016 1:00:00 AM   61     \n",
       "3     1503960366 4/12/2016 2:00:00 AM   59     \n",
       "4     1503960366 4/12/2016 3:00:00 AM   47     \n",
       "5     1503960366 4/12/2016 4:00:00 AM   48     \n",
       "6     1503960366 4/12/2016 5:00:00 AM   48     \n",
       "7     1503960366 4/12/2016 6:00:00 AM   48     \n",
       "8     1503960366 4/12/2016 7:00:00 AM   47     \n",
       "9     1503960366 4/12/2016 8:00:00 AM   68     \n",
       "10    1503960366 4/12/2016 9:00:00 AM  141     \n",
       "11    1503960366 4/12/2016 10:00:00 AM  99     \n",
       "12    1503960366 4/12/2016 11:00:00 AM  76     \n",
       "13    1503960366 4/12/2016 12:00:00 PM  73     \n",
       "14    1503960366 4/12/2016 1:00:00 PM   66     \n",
       "15    1503960366 4/12/2016 2:00:00 PM  110     \n",
       "16    1503960366 4/12/2016 3:00:00 PM  151     \n",
       "17    1503960366 4/12/2016 4:00:00 PM   76     \n",
       "18    1503960366 4/12/2016 5:00:00 PM   83     \n",
       "19    1503960366 4/12/2016 6:00:00 PM  124     \n",
       "20    1503960366 4/12/2016 7:00:00 PM  104     \n",
       "21    1503960366 4/12/2016 8:00:00 PM  132     \n",
       "22    1503960366 4/12/2016 9:00:00 PM  100     \n",
       "23    1503960366 4/12/2016 10:00:00 PM  65     \n",
       "24    1503960366 4/12/2016 11:00:00 PM  81     \n",
       "25    1503960366 4/13/2016 12:00:00 AM  69     \n",
       "26    1503960366 4/13/2016 1:00:00 AM   48     \n",
       "27    1503960366 4/13/2016 2:00:00 AM   47     \n",
       "28    1503960366 4/13/2016 3:00:00 AM   53     \n",
       "29    1503960366 4/13/2016 4:00:00 AM   47     \n",
       "30    1503960366 4/13/2016 5:00:00 AM   47     \n",
       "⋮     ⋮          ⋮                     ⋮       \n",
       "22070 8877689391 5/11/2016 9:00:00 AM  113     \n",
       "22071 8877689391 5/11/2016 10:00:00 AM 107     \n",
       "22072 8877689391 5/11/2016 11:00:00 AM 168     \n",
       "22073 8877689391 5/11/2016 12:00:00 PM 402     \n",
       "22074 8877689391 5/11/2016 1:00:00 PM  120     \n",
       "22075 8877689391 5/11/2016 2:00:00 PM   82     \n",
       "22076 8877689391 5/11/2016 3:00:00 PM  108     \n",
       "22077 8877689391 5/11/2016 4:00:00 PM  310     \n",
       "22078 8877689391 5/11/2016 5:00:00 PM  835     \n",
       "22079 8877689391 5/11/2016 6:00:00 PM  197     \n",
       "22080 8877689391 5/11/2016 7:00:00 PM  144     \n",
       "22081 8877689391 5/11/2016 8:00:00 PM  174     \n",
       "22082 8877689391 5/11/2016 9:00:00 PM  123     \n",
       "22083 8877689391 5/11/2016 10:00:00 PM  93     \n",
       "22084 8877689391 5/11/2016 11:00:00 PM  73     \n",
       "22085 8877689391 5/12/2016 12:00:00 AM  73     \n",
       "22086 8877689391 5/12/2016 1:00:00 AM   73     \n",
       "22087 8877689391 5/12/2016 2:00:00 AM   73     \n",
       "22088 8877689391 5/12/2016 3:00:00 AM   73     \n",
       "22089 8877689391 5/12/2016 4:00:00 AM   73     \n",
       "22090 8877689391 5/12/2016 5:00:00 AM   73     \n",
       "22091 8877689391 5/12/2016 6:00:00 AM  107     \n",
       "22092 8877689391 5/12/2016 7:00:00 AM  148     \n",
       "22093 8877689391 5/12/2016 8:00:00 AM  137     \n",
       "22094 8877689391 5/12/2016 9:00:00 AM   88     \n",
       "22095 8877689391 5/12/2016 10:00:00 AM 126     \n",
       "22096 8877689391 5/12/2016 11:00:00 AM 192     \n",
       "22097 8877689391 5/12/2016 12:00:00 PM 321     \n",
       "22098 8877689391 5/12/2016 1:00:00 PM  101     \n",
       "22099 8877689391 5/12/2016 2:00:00 PM  113     "
      ]
     },
     "metadata": {},
     "output_type": "display_data"
    },
    {
     "data": {
      "text/html": [
       "<table class=\"dataframe\">\n",
       "<caption>A data.frame: 410 × 5</caption>\n",
       "<thead>\n",
       "\t<tr><th scope=col>id</th><th scope=col>sleep_day</th><th scope=col>total_sleep_records</th><th scope=col>total_minutes_asleep</th><th scope=col>total_time_in_bed</th></tr>\n",
       "\t<tr><th scope=col>&lt;dbl&gt;</th><th scope=col>&lt;chr&gt;</th><th scope=col>&lt;int&gt;</th><th scope=col>&lt;int&gt;</th><th scope=col>&lt;int&gt;</th></tr>\n",
       "</thead>\n",
       "<tbody>\n",
       "\t<tr><td>1503960366</td><td>4/12/2016 12:00:00 AM</td><td>1</td><td>327</td><td>346</td></tr>\n",
       "\t<tr><td>1503960366</td><td>4/13/2016 12:00:00 AM</td><td>2</td><td>384</td><td>407</td></tr>\n",
       "\t<tr><td>1503960366</td><td>4/15/2016 12:00:00 AM</td><td>1</td><td>412</td><td>442</td></tr>\n",
       "\t<tr><td>1503960366</td><td>4/16/2016 12:00:00 AM</td><td>2</td><td>340</td><td>367</td></tr>\n",
       "\t<tr><td>1503960366</td><td>4/17/2016 12:00:00 AM</td><td>1</td><td>700</td><td>712</td></tr>\n",
       "\t<tr><td>1503960366</td><td>4/19/2016 12:00:00 AM</td><td>1</td><td>304</td><td>320</td></tr>\n",
       "\t<tr><td>1503960366</td><td>4/20/2016 12:00:00 AM</td><td>1</td><td>360</td><td>377</td></tr>\n",
       "\t<tr><td>1503960366</td><td>4/21/2016 12:00:00 AM</td><td>1</td><td>325</td><td>364</td></tr>\n",
       "\t<tr><td>1503960366</td><td>4/23/2016 12:00:00 AM</td><td>1</td><td>361</td><td>384</td></tr>\n",
       "\t<tr><td>1503960366</td><td>4/24/2016 12:00:00 AM</td><td>1</td><td>430</td><td>449</td></tr>\n",
       "\t<tr><td>1503960366</td><td>4/25/2016 12:00:00 AM</td><td>1</td><td>277</td><td>323</td></tr>\n",
       "\t<tr><td>1503960366</td><td>4/26/2016 12:00:00 AM</td><td>1</td><td>245</td><td>274</td></tr>\n",
       "\t<tr><td>1503960366</td><td>4/28/2016 12:00:00 AM</td><td>1</td><td>366</td><td>393</td></tr>\n",
       "\t<tr><td>1503960366</td><td>4/29/2016 12:00:00 AM</td><td>1</td><td>341</td><td>354</td></tr>\n",
       "\t<tr><td>1503960366</td><td>4/30/2016 12:00:00 AM</td><td>1</td><td>404</td><td>425</td></tr>\n",
       "\t<tr><td>1503960366</td><td>5/1/2016 12:00:00 AM </td><td>1</td><td>369</td><td>396</td></tr>\n",
       "\t<tr><td>1503960366</td><td>5/2/2016 12:00:00 AM </td><td>1</td><td>277</td><td>309</td></tr>\n",
       "\t<tr><td>1503960366</td><td>5/3/2016 12:00:00 AM </td><td>1</td><td>273</td><td>296</td></tr>\n",
       "\t<tr><td>1503960366</td><td>5/5/2016 12:00:00 AM </td><td>1</td><td>247</td><td>264</td></tr>\n",
       "\t<tr><td>1503960366</td><td>5/6/2016 12:00:00 AM </td><td>1</td><td>334</td><td>367</td></tr>\n",
       "\t<tr><td>1503960366</td><td>5/7/2016 12:00:00 AM </td><td>1</td><td>331</td><td>349</td></tr>\n",
       "\t<tr><td>1503960366</td><td>5/8/2016 12:00:00 AM </td><td>1</td><td>594</td><td>611</td></tr>\n",
       "\t<tr><td>1503960366</td><td>5/9/2016 12:00:00 AM </td><td>1</td><td>338</td><td>342</td></tr>\n",
       "\t<tr><td>1503960366</td><td>5/10/2016 12:00:00 AM</td><td>1</td><td>383</td><td>403</td></tr>\n",
       "\t<tr><td>1503960366</td><td>5/11/2016 12:00:00 AM</td><td>1</td><td>285</td><td>306</td></tr>\n",
       "\t<tr><td>1644430081</td><td>4/29/2016 12:00:00 AM</td><td>1</td><td>119</td><td>127</td></tr>\n",
       "\t<tr><td>1644430081</td><td>4/30/2016 12:00:00 AM</td><td>1</td><td>124</td><td>142</td></tr>\n",
       "\t<tr><td>1644430081</td><td>5/2/2016 12:00:00 AM </td><td>1</td><td>796</td><td>961</td></tr>\n",
       "\t<tr><td>1644430081</td><td>5/8/2016 12:00:00 AM </td><td>1</td><td>137</td><td>154</td></tr>\n",
       "\t<tr><td>1844505072</td><td>4/15/2016 12:00:00 AM</td><td>1</td><td>644</td><td>961</td></tr>\n",
       "\t<tr><td>⋮</td><td>⋮</td><td>⋮</td><td>⋮</td><td>⋮</td></tr>\n",
       "\t<tr><td>8378563200</td><td>4/28/2016 12:00:00 AM</td><td>1</td><td>506</td><td>556</td></tr>\n",
       "\t<tr><td>8378563200</td><td>4/29/2016 12:00:00 AM</td><td>1</td><td>527</td><td>562</td></tr>\n",
       "\t<tr><td>8378563200</td><td>4/30/2016 12:00:00 AM</td><td>1</td><td>468</td><td>555</td></tr>\n",
       "\t<tr><td>8378563200</td><td>5/1/2016 12:00:00 AM </td><td>1</td><td>475</td><td>539</td></tr>\n",
       "\t<tr><td>8378563200</td><td>5/2/2016 12:00:00 AM </td><td>1</td><td>351</td><td>385</td></tr>\n",
       "\t<tr><td>8378563200</td><td>5/3/2016 12:00:00 AM </td><td>1</td><td>405</td><td>429</td></tr>\n",
       "\t<tr><td>8378563200</td><td>5/4/2016 12:00:00 AM </td><td>1</td><td>441</td><td>477</td></tr>\n",
       "\t<tr><td>8378563200</td><td>5/5/2016 12:00:00 AM </td><td>1</td><td>381</td><td>417</td></tr>\n",
       "\t<tr><td>8378563200</td><td>5/6/2016 12:00:00 AM </td><td>1</td><td>323</td><td>355</td></tr>\n",
       "\t<tr><td>8378563200</td><td>5/7/2016 12:00:00 AM </td><td>2</td><td>459</td><td>513</td></tr>\n",
       "\t<tr><td>8378563200</td><td>5/8/2016 12:00:00 AM </td><td>1</td><td>545</td><td>606</td></tr>\n",
       "\t<tr><td>8378563200</td><td>5/9/2016 12:00:00 AM </td><td>1</td><td>359</td><td>399</td></tr>\n",
       "\t<tr><td>8378563200</td><td>5/10/2016 12:00:00 AM</td><td>1</td><td>342</td><td>391</td></tr>\n",
       "\t<tr><td>8378563200</td><td>5/11/2016 12:00:00 AM</td><td>1</td><td>368</td><td>387</td></tr>\n",
       "\t<tr><td>8378563200</td><td>5/12/2016 12:00:00 AM</td><td>1</td><td>496</td><td>546</td></tr>\n",
       "\t<tr><td>8792009665</td><td>4/12/2016 12:00:00 AM</td><td>1</td><td>458</td><td>493</td></tr>\n",
       "\t<tr><td>8792009665</td><td>4/13/2016 12:00:00 AM</td><td>1</td><td>531</td><td>552</td></tr>\n",
       "\t<tr><td>8792009665</td><td>4/14/2016 12:00:00 AM</td><td>1</td><td>486</td><td>503</td></tr>\n",
       "\t<tr><td>8792009665</td><td>4/15/2016 12:00:00 AM</td><td>1</td><td>363</td><td>377</td></tr>\n",
       "\t<tr><td>8792009665</td><td>4/20/2016 12:00:00 AM</td><td>1</td><td>528</td><td>547</td></tr>\n",
       "\t<tr><td>8792009665</td><td>4/22/2016 12:00:00 AM</td><td>1</td><td>391</td><td>407</td></tr>\n",
       "\t<tr><td>8792009665</td><td>4/23/2016 12:00:00 AM</td><td>1</td><td>339</td><td>360</td></tr>\n",
       "\t<tr><td>8792009665</td><td>4/27/2016 12:00:00 AM</td><td>1</td><td>423</td><td>428</td></tr>\n",
       "\t<tr><td>8792009665</td><td>4/28/2016 12:00:00 AM</td><td>1</td><td>402</td><td>416</td></tr>\n",
       "\t<tr><td>8792009665</td><td>4/29/2016 12:00:00 AM</td><td>1</td><td>398</td><td>406</td></tr>\n",
       "\t<tr><td>8792009665</td><td>4/30/2016 12:00:00 AM</td><td>1</td><td>343</td><td>360</td></tr>\n",
       "\t<tr><td>8792009665</td><td>5/1/2016 12:00:00 AM </td><td>1</td><td>503</td><td>527</td></tr>\n",
       "\t<tr><td>8792009665</td><td>5/2/2016 12:00:00 AM </td><td>1</td><td>415</td><td>423</td></tr>\n",
       "\t<tr><td>8792009665</td><td>5/3/2016 12:00:00 AM </td><td>1</td><td>516</td><td>545</td></tr>\n",
       "\t<tr><td>8792009665</td><td>5/4/2016 12:00:00 AM </td><td>1</td><td>439</td><td>463</td></tr>\n",
       "</tbody>\n",
       "</table>\n"
      ],
      "text/latex": [
       "A data.frame: 410 × 5\n",
       "\\begin{tabular}{lllll}\n",
       " id & sleep\\_day & total\\_sleep\\_records & total\\_minutes\\_asleep & total\\_time\\_in\\_bed\\\\\n",
       " <dbl> & <chr> & <int> & <int> & <int>\\\\\n",
       "\\hline\n",
       "\t 1503960366 & 4/12/2016 12:00:00 AM & 1 & 327 & 346\\\\\n",
       "\t 1503960366 & 4/13/2016 12:00:00 AM & 2 & 384 & 407\\\\\n",
       "\t 1503960366 & 4/15/2016 12:00:00 AM & 1 & 412 & 442\\\\\n",
       "\t 1503960366 & 4/16/2016 12:00:00 AM & 2 & 340 & 367\\\\\n",
       "\t 1503960366 & 4/17/2016 12:00:00 AM & 1 & 700 & 712\\\\\n",
       "\t 1503960366 & 4/19/2016 12:00:00 AM & 1 & 304 & 320\\\\\n",
       "\t 1503960366 & 4/20/2016 12:00:00 AM & 1 & 360 & 377\\\\\n",
       "\t 1503960366 & 4/21/2016 12:00:00 AM & 1 & 325 & 364\\\\\n",
       "\t 1503960366 & 4/23/2016 12:00:00 AM & 1 & 361 & 384\\\\\n",
       "\t 1503960366 & 4/24/2016 12:00:00 AM & 1 & 430 & 449\\\\\n",
       "\t 1503960366 & 4/25/2016 12:00:00 AM & 1 & 277 & 323\\\\\n",
       "\t 1503960366 & 4/26/2016 12:00:00 AM & 1 & 245 & 274\\\\\n",
       "\t 1503960366 & 4/28/2016 12:00:00 AM & 1 & 366 & 393\\\\\n",
       "\t 1503960366 & 4/29/2016 12:00:00 AM & 1 & 341 & 354\\\\\n",
       "\t 1503960366 & 4/30/2016 12:00:00 AM & 1 & 404 & 425\\\\\n",
       "\t 1503960366 & 5/1/2016 12:00:00 AM  & 1 & 369 & 396\\\\\n",
       "\t 1503960366 & 5/2/2016 12:00:00 AM  & 1 & 277 & 309\\\\\n",
       "\t 1503960366 & 5/3/2016 12:00:00 AM  & 1 & 273 & 296\\\\\n",
       "\t 1503960366 & 5/5/2016 12:00:00 AM  & 1 & 247 & 264\\\\\n",
       "\t 1503960366 & 5/6/2016 12:00:00 AM  & 1 & 334 & 367\\\\\n",
       "\t 1503960366 & 5/7/2016 12:00:00 AM  & 1 & 331 & 349\\\\\n",
       "\t 1503960366 & 5/8/2016 12:00:00 AM  & 1 & 594 & 611\\\\\n",
       "\t 1503960366 & 5/9/2016 12:00:00 AM  & 1 & 338 & 342\\\\\n",
       "\t 1503960366 & 5/10/2016 12:00:00 AM & 1 & 383 & 403\\\\\n",
       "\t 1503960366 & 5/11/2016 12:00:00 AM & 1 & 285 & 306\\\\\n",
       "\t 1644430081 & 4/29/2016 12:00:00 AM & 1 & 119 & 127\\\\\n",
       "\t 1644430081 & 4/30/2016 12:00:00 AM & 1 & 124 & 142\\\\\n",
       "\t 1644430081 & 5/2/2016 12:00:00 AM  & 1 & 796 & 961\\\\\n",
       "\t 1644430081 & 5/8/2016 12:00:00 AM  & 1 & 137 & 154\\\\\n",
       "\t 1844505072 & 4/15/2016 12:00:00 AM & 1 & 644 & 961\\\\\n",
       "\t ⋮ & ⋮ & ⋮ & ⋮ & ⋮\\\\\n",
       "\t 8378563200 & 4/28/2016 12:00:00 AM & 1 & 506 & 556\\\\\n",
       "\t 8378563200 & 4/29/2016 12:00:00 AM & 1 & 527 & 562\\\\\n",
       "\t 8378563200 & 4/30/2016 12:00:00 AM & 1 & 468 & 555\\\\\n",
       "\t 8378563200 & 5/1/2016 12:00:00 AM  & 1 & 475 & 539\\\\\n",
       "\t 8378563200 & 5/2/2016 12:00:00 AM  & 1 & 351 & 385\\\\\n",
       "\t 8378563200 & 5/3/2016 12:00:00 AM  & 1 & 405 & 429\\\\\n",
       "\t 8378563200 & 5/4/2016 12:00:00 AM  & 1 & 441 & 477\\\\\n",
       "\t 8378563200 & 5/5/2016 12:00:00 AM  & 1 & 381 & 417\\\\\n",
       "\t 8378563200 & 5/6/2016 12:00:00 AM  & 1 & 323 & 355\\\\\n",
       "\t 8378563200 & 5/7/2016 12:00:00 AM  & 2 & 459 & 513\\\\\n",
       "\t 8378563200 & 5/8/2016 12:00:00 AM  & 1 & 545 & 606\\\\\n",
       "\t 8378563200 & 5/9/2016 12:00:00 AM  & 1 & 359 & 399\\\\\n",
       "\t 8378563200 & 5/10/2016 12:00:00 AM & 1 & 342 & 391\\\\\n",
       "\t 8378563200 & 5/11/2016 12:00:00 AM & 1 & 368 & 387\\\\\n",
       "\t 8378563200 & 5/12/2016 12:00:00 AM & 1 & 496 & 546\\\\\n",
       "\t 8792009665 & 4/12/2016 12:00:00 AM & 1 & 458 & 493\\\\\n",
       "\t 8792009665 & 4/13/2016 12:00:00 AM & 1 & 531 & 552\\\\\n",
       "\t 8792009665 & 4/14/2016 12:00:00 AM & 1 & 486 & 503\\\\\n",
       "\t 8792009665 & 4/15/2016 12:00:00 AM & 1 & 363 & 377\\\\\n",
       "\t 8792009665 & 4/20/2016 12:00:00 AM & 1 & 528 & 547\\\\\n",
       "\t 8792009665 & 4/22/2016 12:00:00 AM & 1 & 391 & 407\\\\\n",
       "\t 8792009665 & 4/23/2016 12:00:00 AM & 1 & 339 & 360\\\\\n",
       "\t 8792009665 & 4/27/2016 12:00:00 AM & 1 & 423 & 428\\\\\n",
       "\t 8792009665 & 4/28/2016 12:00:00 AM & 1 & 402 & 416\\\\\n",
       "\t 8792009665 & 4/29/2016 12:00:00 AM & 1 & 398 & 406\\\\\n",
       "\t 8792009665 & 4/30/2016 12:00:00 AM & 1 & 343 & 360\\\\\n",
       "\t 8792009665 & 5/1/2016 12:00:00 AM  & 1 & 503 & 527\\\\\n",
       "\t 8792009665 & 5/2/2016 12:00:00 AM  & 1 & 415 & 423\\\\\n",
       "\t 8792009665 & 5/3/2016 12:00:00 AM  & 1 & 516 & 545\\\\\n",
       "\t 8792009665 & 5/4/2016 12:00:00 AM  & 1 & 439 & 463\\\\\n",
       "\\end{tabular}\n"
      ],
      "text/markdown": [
       "\n",
       "A data.frame: 410 × 5\n",
       "\n",
       "| id &lt;dbl&gt; | sleep_day &lt;chr&gt; | total_sleep_records &lt;int&gt; | total_minutes_asleep &lt;int&gt; | total_time_in_bed &lt;int&gt; |\n",
       "|---|---|---|---|---|\n",
       "| 1503960366 | 4/12/2016 12:00:00 AM | 1 | 327 | 346 |\n",
       "| 1503960366 | 4/13/2016 12:00:00 AM | 2 | 384 | 407 |\n",
       "| 1503960366 | 4/15/2016 12:00:00 AM | 1 | 412 | 442 |\n",
       "| 1503960366 | 4/16/2016 12:00:00 AM | 2 | 340 | 367 |\n",
       "| 1503960366 | 4/17/2016 12:00:00 AM | 1 | 700 | 712 |\n",
       "| 1503960366 | 4/19/2016 12:00:00 AM | 1 | 304 | 320 |\n",
       "| 1503960366 | 4/20/2016 12:00:00 AM | 1 | 360 | 377 |\n",
       "| 1503960366 | 4/21/2016 12:00:00 AM | 1 | 325 | 364 |\n",
       "| 1503960366 | 4/23/2016 12:00:00 AM | 1 | 361 | 384 |\n",
       "| 1503960366 | 4/24/2016 12:00:00 AM | 1 | 430 | 449 |\n",
       "| 1503960366 | 4/25/2016 12:00:00 AM | 1 | 277 | 323 |\n",
       "| 1503960366 | 4/26/2016 12:00:00 AM | 1 | 245 | 274 |\n",
       "| 1503960366 | 4/28/2016 12:00:00 AM | 1 | 366 | 393 |\n",
       "| 1503960366 | 4/29/2016 12:00:00 AM | 1 | 341 | 354 |\n",
       "| 1503960366 | 4/30/2016 12:00:00 AM | 1 | 404 | 425 |\n",
       "| 1503960366 | 5/1/2016 12:00:00 AM  | 1 | 369 | 396 |\n",
       "| 1503960366 | 5/2/2016 12:00:00 AM  | 1 | 277 | 309 |\n",
       "| 1503960366 | 5/3/2016 12:00:00 AM  | 1 | 273 | 296 |\n",
       "| 1503960366 | 5/5/2016 12:00:00 AM  | 1 | 247 | 264 |\n",
       "| 1503960366 | 5/6/2016 12:00:00 AM  | 1 | 334 | 367 |\n",
       "| 1503960366 | 5/7/2016 12:00:00 AM  | 1 | 331 | 349 |\n",
       "| 1503960366 | 5/8/2016 12:00:00 AM  | 1 | 594 | 611 |\n",
       "| 1503960366 | 5/9/2016 12:00:00 AM  | 1 | 338 | 342 |\n",
       "| 1503960366 | 5/10/2016 12:00:00 AM | 1 | 383 | 403 |\n",
       "| 1503960366 | 5/11/2016 12:00:00 AM | 1 | 285 | 306 |\n",
       "| 1644430081 | 4/29/2016 12:00:00 AM | 1 | 119 | 127 |\n",
       "| 1644430081 | 4/30/2016 12:00:00 AM | 1 | 124 | 142 |\n",
       "| 1644430081 | 5/2/2016 12:00:00 AM  | 1 | 796 | 961 |\n",
       "| 1644430081 | 5/8/2016 12:00:00 AM  | 1 | 137 | 154 |\n",
       "| 1844505072 | 4/15/2016 12:00:00 AM | 1 | 644 | 961 |\n",
       "| ⋮ | ⋮ | ⋮ | ⋮ | ⋮ |\n",
       "| 8378563200 | 4/28/2016 12:00:00 AM | 1 | 506 | 556 |\n",
       "| 8378563200 | 4/29/2016 12:00:00 AM | 1 | 527 | 562 |\n",
       "| 8378563200 | 4/30/2016 12:00:00 AM | 1 | 468 | 555 |\n",
       "| 8378563200 | 5/1/2016 12:00:00 AM  | 1 | 475 | 539 |\n",
       "| 8378563200 | 5/2/2016 12:00:00 AM  | 1 | 351 | 385 |\n",
       "| 8378563200 | 5/3/2016 12:00:00 AM  | 1 | 405 | 429 |\n",
       "| 8378563200 | 5/4/2016 12:00:00 AM  | 1 | 441 | 477 |\n",
       "| 8378563200 | 5/5/2016 12:00:00 AM  | 1 | 381 | 417 |\n",
       "| 8378563200 | 5/6/2016 12:00:00 AM  | 1 | 323 | 355 |\n",
       "| 8378563200 | 5/7/2016 12:00:00 AM  | 2 | 459 | 513 |\n",
       "| 8378563200 | 5/8/2016 12:00:00 AM  | 1 | 545 | 606 |\n",
       "| 8378563200 | 5/9/2016 12:00:00 AM  | 1 | 359 | 399 |\n",
       "| 8378563200 | 5/10/2016 12:00:00 AM | 1 | 342 | 391 |\n",
       "| 8378563200 | 5/11/2016 12:00:00 AM | 1 | 368 | 387 |\n",
       "| 8378563200 | 5/12/2016 12:00:00 AM | 1 | 496 | 546 |\n",
       "| 8792009665 | 4/12/2016 12:00:00 AM | 1 | 458 | 493 |\n",
       "| 8792009665 | 4/13/2016 12:00:00 AM | 1 | 531 | 552 |\n",
       "| 8792009665 | 4/14/2016 12:00:00 AM | 1 | 486 | 503 |\n",
       "| 8792009665 | 4/15/2016 12:00:00 AM | 1 | 363 | 377 |\n",
       "| 8792009665 | 4/20/2016 12:00:00 AM | 1 | 528 | 547 |\n",
       "| 8792009665 | 4/22/2016 12:00:00 AM | 1 | 391 | 407 |\n",
       "| 8792009665 | 4/23/2016 12:00:00 AM | 1 | 339 | 360 |\n",
       "| 8792009665 | 4/27/2016 12:00:00 AM | 1 | 423 | 428 |\n",
       "| 8792009665 | 4/28/2016 12:00:00 AM | 1 | 402 | 416 |\n",
       "| 8792009665 | 4/29/2016 12:00:00 AM | 1 | 398 | 406 |\n",
       "| 8792009665 | 4/30/2016 12:00:00 AM | 1 | 343 | 360 |\n",
       "| 8792009665 | 5/1/2016 12:00:00 AM  | 1 | 503 | 527 |\n",
       "| 8792009665 | 5/2/2016 12:00:00 AM  | 1 | 415 | 423 |\n",
       "| 8792009665 | 5/3/2016 12:00:00 AM  | 1 | 516 | 545 |\n",
       "| 8792009665 | 5/4/2016 12:00:00 AM  | 1 | 439 | 463 |\n",
       "\n"
      ],
      "text/plain": [
       "    id         sleep_day             total_sleep_records total_minutes_asleep\n",
       "1   1503960366 4/12/2016 12:00:00 AM 1                   327                 \n",
       "2   1503960366 4/13/2016 12:00:00 AM 2                   384                 \n",
       "3   1503960366 4/15/2016 12:00:00 AM 1                   412                 \n",
       "4   1503960366 4/16/2016 12:00:00 AM 2                   340                 \n",
       "5   1503960366 4/17/2016 12:00:00 AM 1                   700                 \n",
       "6   1503960366 4/19/2016 12:00:00 AM 1                   304                 \n",
       "7   1503960366 4/20/2016 12:00:00 AM 1                   360                 \n",
       "8   1503960366 4/21/2016 12:00:00 AM 1                   325                 \n",
       "9   1503960366 4/23/2016 12:00:00 AM 1                   361                 \n",
       "10  1503960366 4/24/2016 12:00:00 AM 1                   430                 \n",
       "11  1503960366 4/25/2016 12:00:00 AM 1                   277                 \n",
       "12  1503960366 4/26/2016 12:00:00 AM 1                   245                 \n",
       "13  1503960366 4/28/2016 12:00:00 AM 1                   366                 \n",
       "14  1503960366 4/29/2016 12:00:00 AM 1                   341                 \n",
       "15  1503960366 4/30/2016 12:00:00 AM 1                   404                 \n",
       "16  1503960366 5/1/2016 12:00:00 AM  1                   369                 \n",
       "17  1503960366 5/2/2016 12:00:00 AM  1                   277                 \n",
       "18  1503960366 5/3/2016 12:00:00 AM  1                   273                 \n",
       "19  1503960366 5/5/2016 12:00:00 AM  1                   247                 \n",
       "20  1503960366 5/6/2016 12:00:00 AM  1                   334                 \n",
       "21  1503960366 5/7/2016 12:00:00 AM  1                   331                 \n",
       "22  1503960366 5/8/2016 12:00:00 AM  1                   594                 \n",
       "23  1503960366 5/9/2016 12:00:00 AM  1                   338                 \n",
       "24  1503960366 5/10/2016 12:00:00 AM 1                   383                 \n",
       "25  1503960366 5/11/2016 12:00:00 AM 1                   285                 \n",
       "26  1644430081 4/29/2016 12:00:00 AM 1                   119                 \n",
       "27  1644430081 4/30/2016 12:00:00 AM 1                   124                 \n",
       "28  1644430081 5/2/2016 12:00:00 AM  1                   796                 \n",
       "29  1644430081 5/8/2016 12:00:00 AM  1                   137                 \n",
       "30  1844505072 4/15/2016 12:00:00 AM 1                   644                 \n",
       "⋮   ⋮          ⋮                     ⋮                   ⋮                   \n",
       "381 8378563200 4/28/2016 12:00:00 AM 1                   506                 \n",
       "382 8378563200 4/29/2016 12:00:00 AM 1                   527                 \n",
       "383 8378563200 4/30/2016 12:00:00 AM 1                   468                 \n",
       "384 8378563200 5/1/2016 12:00:00 AM  1                   475                 \n",
       "385 8378563200 5/2/2016 12:00:00 AM  1                   351                 \n",
       "386 8378563200 5/3/2016 12:00:00 AM  1                   405                 \n",
       "387 8378563200 5/4/2016 12:00:00 AM  1                   441                 \n",
       "388 8378563200 5/5/2016 12:00:00 AM  1                   381                 \n",
       "389 8378563200 5/6/2016 12:00:00 AM  1                   323                 \n",
       "390 8378563200 5/7/2016 12:00:00 AM  2                   459                 \n",
       "391 8378563200 5/8/2016 12:00:00 AM  1                   545                 \n",
       "392 8378563200 5/9/2016 12:00:00 AM  1                   359                 \n",
       "393 8378563200 5/10/2016 12:00:00 AM 1                   342                 \n",
       "394 8378563200 5/11/2016 12:00:00 AM 1                   368                 \n",
       "395 8378563200 5/12/2016 12:00:00 AM 1                   496                 \n",
       "396 8792009665 4/12/2016 12:00:00 AM 1                   458                 \n",
       "397 8792009665 4/13/2016 12:00:00 AM 1                   531                 \n",
       "398 8792009665 4/14/2016 12:00:00 AM 1                   486                 \n",
       "399 8792009665 4/15/2016 12:00:00 AM 1                   363                 \n",
       "400 8792009665 4/20/2016 12:00:00 AM 1                   528                 \n",
       "401 8792009665 4/22/2016 12:00:00 AM 1                   391                 \n",
       "402 8792009665 4/23/2016 12:00:00 AM 1                   339                 \n",
       "403 8792009665 4/27/2016 12:00:00 AM 1                   423                 \n",
       "404 8792009665 4/28/2016 12:00:00 AM 1                   402                 \n",
       "405 8792009665 4/29/2016 12:00:00 AM 1                   398                 \n",
       "406 8792009665 4/30/2016 12:00:00 AM 1                   343                 \n",
       "407 8792009665 5/1/2016 12:00:00 AM  1                   503                 \n",
       "408 8792009665 5/2/2016 12:00:00 AM  1                   415                 \n",
       "409 8792009665 5/3/2016 12:00:00 AM  1                   516                 \n",
       "410 8792009665 5/4/2016 12:00:00 AM  1                   439                 \n",
       "    total_time_in_bed\n",
       "1   346              \n",
       "2   407              \n",
       "3   442              \n",
       "4   367              \n",
       "5   712              \n",
       "6   320              \n",
       "7   377              \n",
       "8   364              \n",
       "9   384              \n",
       "10  449              \n",
       "11  323              \n",
       "12  274              \n",
       "13  393              \n",
       "14  354              \n",
       "15  425              \n",
       "16  396              \n",
       "17  309              \n",
       "18  296              \n",
       "19  264              \n",
       "20  367              \n",
       "21  349              \n",
       "22  611              \n",
       "23  342              \n",
       "24  403              \n",
       "25  306              \n",
       "26  127              \n",
       "27  142              \n",
       "28  961              \n",
       "29  154              \n",
       "30  961              \n",
       "⋮   ⋮                \n",
       "381 556              \n",
       "382 562              \n",
       "383 555              \n",
       "384 539              \n",
       "385 385              \n",
       "386 429              \n",
       "387 477              \n",
       "388 417              \n",
       "389 355              \n",
       "390 513              \n",
       "391 606              \n",
       "392 399              \n",
       "393 391              \n",
       "394 387              \n",
       "395 546              \n",
       "396 493              \n",
       "397 552              \n",
       "398 503              \n",
       "399 377              \n",
       "400 547              \n",
       "401 407              \n",
       "402 360              \n",
       "403 428              \n",
       "404 416              \n",
       "405 406              \n",
       "406 360              \n",
       "407 527              \n",
       "408 423              \n",
       "409 545              \n",
       "410 463              "
      ]
     },
     "metadata": {},
     "output_type": "display_data"
    }
   ],
   "source": [
    "clean_names(activity)\n",
    "clean_names(intensity)\n",
    "clean_names(calories)\n",
    "clean_names(sleep)"
   ]
  },
  {
   "cell_type": "markdown",
   "id": "1d9b304a-b98d-4bf1-9f23-b2acb0bdc458",
   "metadata": {},
   "source": [
    "I also cleaned the date-time formatting within the data frames."
   ]
  },
  {
   "cell_type": "code",
   "execution_count": 65,
   "id": "5b4362a7-44ad-4aed-a9e6-aca8b19b9991",
   "metadata": {},
   "outputs": [],
   "source": [
    "activity$ActivityDate=as.POSIXct(activity$ActivityDate, format=\"%m/%d/%Y\", tz=Sys.timezone())\n",
    "activity$date <- format(activity$ActivityDate, format = \"%m/%d/%y\")"
   ]
  },
  {
   "cell_type": "code",
   "execution_count": 66,
   "id": "d69f4c1b-ad3c-426d-85a9-910d330bf04c",
   "metadata": {},
   "outputs": [
    {
     "data": {
      "text/html": [
       "<table class=\"dataframe\">\n",
       "<caption>A data.frame: 6 × 16</caption>\n",
       "<thead>\n",
       "\t<tr><th></th><th scope=col>Id</th><th scope=col>ActivityDate</th><th scope=col>TotalSteps</th><th scope=col>TotalDistance</th><th scope=col>TrackerDistance</th><th scope=col>LoggedActivitiesDistance</th><th scope=col>VeryActiveDistance</th><th scope=col>ModeratelyActiveDistance</th><th scope=col>LightActiveDistance</th><th scope=col>SedentaryActiveDistance</th><th scope=col>VeryActiveMinutes</th><th scope=col>FairlyActiveMinutes</th><th scope=col>LightlyActiveMinutes</th><th scope=col>SedentaryMinutes</th><th scope=col>Calories</th><th scope=col>date</th></tr>\n",
       "\t<tr><th></th><th scope=col>&lt;dbl&gt;</th><th scope=col>&lt;dttm&gt;</th><th scope=col>&lt;int&gt;</th><th scope=col>&lt;dbl&gt;</th><th scope=col>&lt;dbl&gt;</th><th scope=col>&lt;dbl&gt;</th><th scope=col>&lt;dbl&gt;</th><th scope=col>&lt;dbl&gt;</th><th scope=col>&lt;dbl&gt;</th><th scope=col>&lt;dbl&gt;</th><th scope=col>&lt;int&gt;</th><th scope=col>&lt;int&gt;</th><th scope=col>&lt;int&gt;</th><th scope=col>&lt;int&gt;</th><th scope=col>&lt;int&gt;</th><th scope=col>&lt;chr&gt;</th></tr>\n",
       "</thead>\n",
       "<tbody>\n",
       "\t<tr><th scope=row>1</th><td>1503960366</td><td>2016-04-12</td><td>13162</td><td>8.50</td><td>8.50</td><td>0</td><td>1.88</td><td>0.55</td><td>6.06</td><td>0</td><td>25</td><td>13</td><td>328</td><td> 728</td><td>1985</td><td>04/12/16</td></tr>\n",
       "\t<tr><th scope=row>2</th><td>1503960366</td><td>2016-04-13</td><td>10735</td><td>6.97</td><td>6.97</td><td>0</td><td>1.57</td><td>0.69</td><td>4.71</td><td>0</td><td>21</td><td>19</td><td>217</td><td> 776</td><td>1797</td><td>04/13/16</td></tr>\n",
       "\t<tr><th scope=row>3</th><td>1503960366</td><td>2016-04-14</td><td>10460</td><td>6.74</td><td>6.74</td><td>0</td><td>2.44</td><td>0.40</td><td>3.91</td><td>0</td><td>30</td><td>11</td><td>181</td><td>1218</td><td>1776</td><td>04/14/16</td></tr>\n",
       "\t<tr><th scope=row>4</th><td>1503960366</td><td>2016-04-15</td><td> 9762</td><td>6.28</td><td>6.28</td><td>0</td><td>2.14</td><td>1.26</td><td>2.83</td><td>0</td><td>29</td><td>34</td><td>209</td><td> 726</td><td>1745</td><td>04/15/16</td></tr>\n",
       "\t<tr><th scope=row>5</th><td>1503960366</td><td>2016-04-16</td><td>12669</td><td>8.16</td><td>8.16</td><td>0</td><td>2.71</td><td>0.41</td><td>5.04</td><td>0</td><td>36</td><td>10</td><td>221</td><td> 773</td><td>1863</td><td>04/16/16</td></tr>\n",
       "\t<tr><th scope=row>6</th><td>1503960366</td><td>2016-04-17</td><td> 9705</td><td>6.48</td><td>6.48</td><td>0</td><td>3.19</td><td>0.78</td><td>2.51</td><td>0</td><td>38</td><td>20</td><td>164</td><td> 539</td><td>1728</td><td>04/17/16</td></tr>\n",
       "</tbody>\n",
       "</table>\n"
      ],
      "text/latex": [
       "A data.frame: 6 × 16\n",
       "\\begin{tabular}{r|llllllllllllllll}\n",
       "  & Id & ActivityDate & TotalSteps & TotalDistance & TrackerDistance & LoggedActivitiesDistance & VeryActiveDistance & ModeratelyActiveDistance & LightActiveDistance & SedentaryActiveDistance & VeryActiveMinutes & FairlyActiveMinutes & LightlyActiveMinutes & SedentaryMinutes & Calories & date\\\\\n",
       "  & <dbl> & <dttm> & <int> & <dbl> & <dbl> & <dbl> & <dbl> & <dbl> & <dbl> & <dbl> & <int> & <int> & <int> & <int> & <int> & <chr>\\\\\n",
       "\\hline\n",
       "\t1 & 1503960366 & 2016-04-12 & 13162 & 8.50 & 8.50 & 0 & 1.88 & 0.55 & 6.06 & 0 & 25 & 13 & 328 &  728 & 1985 & 04/12/16\\\\\n",
       "\t2 & 1503960366 & 2016-04-13 & 10735 & 6.97 & 6.97 & 0 & 1.57 & 0.69 & 4.71 & 0 & 21 & 19 & 217 &  776 & 1797 & 04/13/16\\\\\n",
       "\t3 & 1503960366 & 2016-04-14 & 10460 & 6.74 & 6.74 & 0 & 2.44 & 0.40 & 3.91 & 0 & 30 & 11 & 181 & 1218 & 1776 & 04/14/16\\\\\n",
       "\t4 & 1503960366 & 2016-04-15 &  9762 & 6.28 & 6.28 & 0 & 2.14 & 1.26 & 2.83 & 0 & 29 & 34 & 209 &  726 & 1745 & 04/15/16\\\\\n",
       "\t5 & 1503960366 & 2016-04-16 & 12669 & 8.16 & 8.16 & 0 & 2.71 & 0.41 & 5.04 & 0 & 36 & 10 & 221 &  773 & 1863 & 04/16/16\\\\\n",
       "\t6 & 1503960366 & 2016-04-17 &  9705 & 6.48 & 6.48 & 0 & 3.19 & 0.78 & 2.51 & 0 & 38 & 20 & 164 &  539 & 1728 & 04/17/16\\\\\n",
       "\\end{tabular}\n"
      ],
      "text/markdown": [
       "\n",
       "A data.frame: 6 × 16\n",
       "\n",
       "| <!--/--> | Id &lt;dbl&gt; | ActivityDate &lt;dttm&gt; | TotalSteps &lt;int&gt; | TotalDistance &lt;dbl&gt; | TrackerDistance &lt;dbl&gt; | LoggedActivitiesDistance &lt;dbl&gt; | VeryActiveDistance &lt;dbl&gt; | ModeratelyActiveDistance &lt;dbl&gt; | LightActiveDistance &lt;dbl&gt; | SedentaryActiveDistance &lt;dbl&gt; | VeryActiveMinutes &lt;int&gt; | FairlyActiveMinutes &lt;int&gt; | LightlyActiveMinutes &lt;int&gt; | SedentaryMinutes &lt;int&gt; | Calories &lt;int&gt; | date &lt;chr&gt; |\n",
       "|---|---|---|---|---|---|---|---|---|---|---|---|---|---|---|---|---|\n",
       "| 1 | 1503960366 | 2016-04-12 | 13162 | 8.50 | 8.50 | 0 | 1.88 | 0.55 | 6.06 | 0 | 25 | 13 | 328 |  728 | 1985 | 04/12/16 |\n",
       "| 2 | 1503960366 | 2016-04-13 | 10735 | 6.97 | 6.97 | 0 | 1.57 | 0.69 | 4.71 | 0 | 21 | 19 | 217 |  776 | 1797 | 04/13/16 |\n",
       "| 3 | 1503960366 | 2016-04-14 | 10460 | 6.74 | 6.74 | 0 | 2.44 | 0.40 | 3.91 | 0 | 30 | 11 | 181 | 1218 | 1776 | 04/14/16 |\n",
       "| 4 | 1503960366 | 2016-04-15 |  9762 | 6.28 | 6.28 | 0 | 2.14 | 1.26 | 2.83 | 0 | 29 | 34 | 209 |  726 | 1745 | 04/15/16 |\n",
       "| 5 | 1503960366 | 2016-04-16 | 12669 | 8.16 | 8.16 | 0 | 2.71 | 0.41 | 5.04 | 0 | 36 | 10 | 221 |  773 | 1863 | 04/16/16 |\n",
       "| 6 | 1503960366 | 2016-04-17 |  9705 | 6.48 | 6.48 | 0 | 3.19 | 0.78 | 2.51 | 0 | 38 | 20 | 164 |  539 | 1728 | 04/17/16 |\n",
       "\n"
      ],
      "text/plain": [
       "  Id         ActivityDate TotalSteps TotalDistance TrackerDistance\n",
       "1 1503960366 2016-04-12   13162      8.50          8.50           \n",
       "2 1503960366 2016-04-13   10735      6.97          6.97           \n",
       "3 1503960366 2016-04-14   10460      6.74          6.74           \n",
       "4 1503960366 2016-04-15    9762      6.28          6.28           \n",
       "5 1503960366 2016-04-16   12669      8.16          8.16           \n",
       "6 1503960366 2016-04-17    9705      6.48          6.48           \n",
       "  LoggedActivitiesDistance VeryActiveDistance ModeratelyActiveDistance\n",
       "1 0                        1.88               0.55                    \n",
       "2 0                        1.57               0.69                    \n",
       "3 0                        2.44               0.40                    \n",
       "4 0                        2.14               1.26                    \n",
       "5 0                        2.71               0.41                    \n",
       "6 0                        3.19               0.78                    \n",
       "  LightActiveDistance SedentaryActiveDistance VeryActiveMinutes\n",
       "1 6.06                0                       25               \n",
       "2 4.71                0                       21               \n",
       "3 3.91                0                       30               \n",
       "4 2.83                0                       29               \n",
       "5 5.04                0                       36               \n",
       "6 2.51                0                       38               \n",
       "  FairlyActiveMinutes LightlyActiveMinutes SedentaryMinutes Calories date    \n",
       "1 13                  328                   728             1985     04/12/16\n",
       "2 19                  217                   776             1797     04/13/16\n",
       "3 11                  181                  1218             1776     04/14/16\n",
       "4 34                  209                   726             1745     04/15/16\n",
       "5 10                  221                   773             1863     04/16/16\n",
       "6 20                  164                   539             1728     04/17/16"
      ]
     },
     "metadata": {},
     "output_type": "display_data"
    }
   ],
   "source": [
    "head(activity)"
   ]
  },
  {
   "cell_type": "code",
   "execution_count": 67,
   "id": "a552fadf-0e38-43f3-b885-66a6bf5cb603",
   "metadata": {},
   "outputs": [],
   "source": [
    "sleep$SleepDay=as.POSIXct(sleep$SleepDay, format=\"%m/%d/%Y %I:%M:%S %p\", tz=Sys.timezone())\n",
    "sleep$date <- format(sleep$SleepDay, format = \"%m/%d/%y\")"
   ]
  },
  {
   "cell_type": "code",
   "execution_count": 68,
   "id": "473e9bef-a14c-468b-a30d-1e7f9c3e2e50",
   "metadata": {},
   "outputs": [
    {
     "data": {
      "text/html": [
       "<table class=\"dataframe\">\n",
       "<caption>A data.frame: 6 × 6</caption>\n",
       "<thead>\n",
       "\t<tr><th></th><th scope=col>Id</th><th scope=col>SleepDay</th><th scope=col>TotalSleepRecords</th><th scope=col>TotalMinutesAsleep</th><th scope=col>TotalTimeInBed</th><th scope=col>date</th></tr>\n",
       "\t<tr><th></th><th scope=col>&lt;dbl&gt;</th><th scope=col>&lt;dttm&gt;</th><th scope=col>&lt;int&gt;</th><th scope=col>&lt;int&gt;</th><th scope=col>&lt;int&gt;</th><th scope=col>&lt;chr&gt;</th></tr>\n",
       "</thead>\n",
       "<tbody>\n",
       "\t<tr><th scope=row>1</th><td>1503960366</td><td>2016-04-12</td><td>1</td><td>327</td><td>346</td><td>04/12/16</td></tr>\n",
       "\t<tr><th scope=row>2</th><td>1503960366</td><td>2016-04-13</td><td>2</td><td>384</td><td>407</td><td>04/13/16</td></tr>\n",
       "\t<tr><th scope=row>3</th><td>1503960366</td><td>2016-04-15</td><td>1</td><td>412</td><td>442</td><td>04/15/16</td></tr>\n",
       "\t<tr><th scope=row>4</th><td>1503960366</td><td>2016-04-16</td><td>2</td><td>340</td><td>367</td><td>04/16/16</td></tr>\n",
       "\t<tr><th scope=row>5</th><td>1503960366</td><td>2016-04-17</td><td>1</td><td>700</td><td>712</td><td>04/17/16</td></tr>\n",
       "\t<tr><th scope=row>6</th><td>1503960366</td><td>2016-04-19</td><td>1</td><td>304</td><td>320</td><td>04/19/16</td></tr>\n",
       "</tbody>\n",
       "</table>\n"
      ],
      "text/latex": [
       "A data.frame: 6 × 6\n",
       "\\begin{tabular}{r|llllll}\n",
       "  & Id & SleepDay & TotalSleepRecords & TotalMinutesAsleep & TotalTimeInBed & date\\\\\n",
       "  & <dbl> & <dttm> & <int> & <int> & <int> & <chr>\\\\\n",
       "\\hline\n",
       "\t1 & 1503960366 & 2016-04-12 & 1 & 327 & 346 & 04/12/16\\\\\n",
       "\t2 & 1503960366 & 2016-04-13 & 2 & 384 & 407 & 04/13/16\\\\\n",
       "\t3 & 1503960366 & 2016-04-15 & 1 & 412 & 442 & 04/15/16\\\\\n",
       "\t4 & 1503960366 & 2016-04-16 & 2 & 340 & 367 & 04/16/16\\\\\n",
       "\t5 & 1503960366 & 2016-04-17 & 1 & 700 & 712 & 04/17/16\\\\\n",
       "\t6 & 1503960366 & 2016-04-19 & 1 & 304 & 320 & 04/19/16\\\\\n",
       "\\end{tabular}\n"
      ],
      "text/markdown": [
       "\n",
       "A data.frame: 6 × 6\n",
       "\n",
       "| <!--/--> | Id &lt;dbl&gt; | SleepDay &lt;dttm&gt; | TotalSleepRecords &lt;int&gt; | TotalMinutesAsleep &lt;int&gt; | TotalTimeInBed &lt;int&gt; | date &lt;chr&gt; |\n",
       "|---|---|---|---|---|---|---|\n",
       "| 1 | 1503960366 | 2016-04-12 | 1 | 327 | 346 | 04/12/16 |\n",
       "| 2 | 1503960366 | 2016-04-13 | 2 | 384 | 407 | 04/13/16 |\n",
       "| 3 | 1503960366 | 2016-04-15 | 1 | 412 | 442 | 04/15/16 |\n",
       "| 4 | 1503960366 | 2016-04-16 | 2 | 340 | 367 | 04/16/16 |\n",
       "| 5 | 1503960366 | 2016-04-17 | 1 | 700 | 712 | 04/17/16 |\n",
       "| 6 | 1503960366 | 2016-04-19 | 1 | 304 | 320 | 04/19/16 |\n",
       "\n"
      ],
      "text/plain": [
       "  Id         SleepDay   TotalSleepRecords TotalMinutesAsleep TotalTimeInBed\n",
       "1 1503960366 2016-04-12 1                 327                346           \n",
       "2 1503960366 2016-04-13 2                 384                407           \n",
       "3 1503960366 2016-04-15 1                 412                442           \n",
       "4 1503960366 2016-04-16 2                 340                367           \n",
       "5 1503960366 2016-04-17 1                 700                712           \n",
       "6 1503960366 2016-04-19 1                 304                320           \n",
       "  date    \n",
       "1 04/12/16\n",
       "2 04/13/16\n",
       "3 04/15/16\n",
       "4 04/16/16\n",
       "5 04/17/16\n",
       "6 04/19/16"
      ]
     },
     "metadata": {},
     "output_type": "display_data"
    }
   ],
   "source": [
    "head(sleep)"
   ]
  },
  {
   "cell_type": "code",
   "execution_count": 69,
   "id": "45b3b0bf-6252-4a91-becf-e28ac591f48e",
   "metadata": {},
   "outputs": [
    {
     "data": {
      "text/html": [
       "<table class=\"dataframe\">\n",
       "<caption>A data.frame: 6 × 6</caption>\n",
       "<thead>\n",
       "\t<tr><th></th><th scope=col>Id</th><th scope=col>ActivityHour</th><th scope=col>TotalIntensity</th><th scope=col>AverageIntensity</th><th scope=col>time</th><th scope=col>date</th></tr>\n",
       "\t<tr><th></th><th scope=col>&lt;dbl&gt;</th><th scope=col>&lt;dttm&gt;</th><th scope=col>&lt;int&gt;</th><th scope=col>&lt;dbl&gt;</th><th scope=col>&lt;chr&gt;</th><th scope=col>&lt;chr&gt;</th></tr>\n",
       "</thead>\n",
       "<tbody>\n",
       "\t<tr><th scope=row>1</th><td>1503960366</td><td>2016-04-12 00:00:00</td><td>20</td><td>0.333333</td><td>00:00:00</td><td>04/12/16</td></tr>\n",
       "\t<tr><th scope=row>2</th><td>1503960366</td><td>2016-04-12 01:00:00</td><td> 8</td><td>0.133333</td><td>01:00:00</td><td>04/12/16</td></tr>\n",
       "\t<tr><th scope=row>3</th><td>1503960366</td><td>2016-04-12 02:00:00</td><td> 7</td><td>0.116667</td><td>02:00:00</td><td>04/12/16</td></tr>\n",
       "\t<tr><th scope=row>4</th><td>1503960366</td><td>2016-04-12 03:00:00</td><td> 0</td><td>0.000000</td><td>03:00:00</td><td>04/12/16</td></tr>\n",
       "\t<tr><th scope=row>5</th><td>1503960366</td><td>2016-04-12 04:00:00</td><td> 0</td><td>0.000000</td><td>04:00:00</td><td>04/12/16</td></tr>\n",
       "\t<tr><th scope=row>6</th><td>1503960366</td><td>2016-04-12 05:00:00</td><td> 0</td><td>0.000000</td><td>05:00:00</td><td>04/12/16</td></tr>\n",
       "</tbody>\n",
       "</table>\n"
      ],
      "text/latex": [
       "A data.frame: 6 × 6\n",
       "\\begin{tabular}{r|llllll}\n",
       "  & Id & ActivityHour & TotalIntensity & AverageIntensity & time & date\\\\\n",
       "  & <dbl> & <dttm> & <int> & <dbl> & <chr> & <chr>\\\\\n",
       "\\hline\n",
       "\t1 & 1503960366 & 2016-04-12 00:00:00 & 20 & 0.333333 & 00:00:00 & 04/12/16\\\\\n",
       "\t2 & 1503960366 & 2016-04-12 01:00:00 &  8 & 0.133333 & 01:00:00 & 04/12/16\\\\\n",
       "\t3 & 1503960366 & 2016-04-12 02:00:00 &  7 & 0.116667 & 02:00:00 & 04/12/16\\\\\n",
       "\t4 & 1503960366 & 2016-04-12 03:00:00 &  0 & 0.000000 & 03:00:00 & 04/12/16\\\\\n",
       "\t5 & 1503960366 & 2016-04-12 04:00:00 &  0 & 0.000000 & 04:00:00 & 04/12/16\\\\\n",
       "\t6 & 1503960366 & 2016-04-12 05:00:00 &  0 & 0.000000 & 05:00:00 & 04/12/16\\\\\n",
       "\\end{tabular}\n"
      ],
      "text/markdown": [
       "\n",
       "A data.frame: 6 × 6\n",
       "\n",
       "| <!--/--> | Id &lt;dbl&gt; | ActivityHour &lt;dttm&gt; | TotalIntensity &lt;int&gt; | AverageIntensity &lt;dbl&gt; | time &lt;chr&gt; | date &lt;chr&gt; |\n",
       "|---|---|---|---|---|---|---|\n",
       "| 1 | 1503960366 | 2016-04-12 00:00:00 | 20 | 0.333333 | 00:00:00 | 04/12/16 |\n",
       "| 2 | 1503960366 | 2016-04-12 01:00:00 |  8 | 0.133333 | 01:00:00 | 04/12/16 |\n",
       "| 3 | 1503960366 | 2016-04-12 02:00:00 |  7 | 0.116667 | 02:00:00 | 04/12/16 |\n",
       "| 4 | 1503960366 | 2016-04-12 03:00:00 |  0 | 0.000000 | 03:00:00 | 04/12/16 |\n",
       "| 5 | 1503960366 | 2016-04-12 04:00:00 |  0 | 0.000000 | 04:00:00 | 04/12/16 |\n",
       "| 6 | 1503960366 | 2016-04-12 05:00:00 |  0 | 0.000000 | 05:00:00 | 04/12/16 |\n",
       "\n"
      ],
      "text/plain": [
       "  Id         ActivityHour        TotalIntensity AverageIntensity time    \n",
       "1 1503960366 2016-04-12 00:00:00 20             0.333333         00:00:00\n",
       "2 1503960366 2016-04-12 01:00:00  8             0.133333         01:00:00\n",
       "3 1503960366 2016-04-12 02:00:00  7             0.116667         02:00:00\n",
       "4 1503960366 2016-04-12 03:00:00  0             0.000000         03:00:00\n",
       "5 1503960366 2016-04-12 04:00:00  0             0.000000         04:00:00\n",
       "6 1503960366 2016-04-12 05:00:00  0             0.000000         05:00:00\n",
       "  date    \n",
       "1 04/12/16\n",
       "2 04/12/16\n",
       "3 04/12/16\n",
       "4 04/12/16\n",
       "5 04/12/16\n",
       "6 04/12/16"
      ]
     },
     "metadata": {},
     "output_type": "display_data"
    }
   ],
   "source": [
    "intensity$ActivityHour=as.POSIXct(intensity$ActivityHour, format=\"%m/%d/%Y %I:%M:%S %p\", tz=Sys.timezone())\n",
    "intensity$time <- format(intensity$ActivityHour, format = \"%H:%M:%S\")\n",
    "intensity$date <- format(intensity$ActivityHour, format = \"%m/%d/%y\")\n",
    "head(intensity)"
   ]
  },
  {
   "cell_type": "code",
   "execution_count": 70,
   "id": "5aa238f4-270c-46d5-93f9-5855d2a7c7bd",
   "metadata": {},
   "outputs": [
    {
     "data": {
      "text/html": [
       "<table class=\"dataframe\">\n",
       "<caption>A data.frame: 6 × 5</caption>\n",
       "<thead>\n",
       "\t<tr><th></th><th scope=col>Id</th><th scope=col>ActivityHour</th><th scope=col>Calories</th><th scope=col>time</th><th scope=col>date</th></tr>\n",
       "\t<tr><th></th><th scope=col>&lt;dbl&gt;</th><th scope=col>&lt;dttm&gt;</th><th scope=col>&lt;int&gt;</th><th scope=col>&lt;chr&gt;</th><th scope=col>&lt;chr&gt;</th></tr>\n",
       "</thead>\n",
       "<tbody>\n",
       "\t<tr><th scope=row>1</th><td>1503960366</td><td>2016-04-12 00:00:00</td><td>81</td><td>00:00:00</td><td>04/12/16</td></tr>\n",
       "\t<tr><th scope=row>2</th><td>1503960366</td><td>2016-04-12 01:00:00</td><td>61</td><td>01:00:00</td><td>04/12/16</td></tr>\n",
       "\t<tr><th scope=row>3</th><td>1503960366</td><td>2016-04-12 02:00:00</td><td>59</td><td>02:00:00</td><td>04/12/16</td></tr>\n",
       "\t<tr><th scope=row>4</th><td>1503960366</td><td>2016-04-12 03:00:00</td><td>47</td><td>03:00:00</td><td>04/12/16</td></tr>\n",
       "\t<tr><th scope=row>5</th><td>1503960366</td><td>2016-04-12 04:00:00</td><td>48</td><td>04:00:00</td><td>04/12/16</td></tr>\n",
       "\t<tr><th scope=row>6</th><td>1503960366</td><td>2016-04-12 05:00:00</td><td>48</td><td>05:00:00</td><td>04/12/16</td></tr>\n",
       "</tbody>\n",
       "</table>\n"
      ],
      "text/latex": [
       "A data.frame: 6 × 5\n",
       "\\begin{tabular}{r|lllll}\n",
       "  & Id & ActivityHour & Calories & time & date\\\\\n",
       "  & <dbl> & <dttm> & <int> & <chr> & <chr>\\\\\n",
       "\\hline\n",
       "\t1 & 1503960366 & 2016-04-12 00:00:00 & 81 & 00:00:00 & 04/12/16\\\\\n",
       "\t2 & 1503960366 & 2016-04-12 01:00:00 & 61 & 01:00:00 & 04/12/16\\\\\n",
       "\t3 & 1503960366 & 2016-04-12 02:00:00 & 59 & 02:00:00 & 04/12/16\\\\\n",
       "\t4 & 1503960366 & 2016-04-12 03:00:00 & 47 & 03:00:00 & 04/12/16\\\\\n",
       "\t5 & 1503960366 & 2016-04-12 04:00:00 & 48 & 04:00:00 & 04/12/16\\\\\n",
       "\t6 & 1503960366 & 2016-04-12 05:00:00 & 48 & 05:00:00 & 04/12/16\\\\\n",
       "\\end{tabular}\n"
      ],
      "text/markdown": [
       "\n",
       "A data.frame: 6 × 5\n",
       "\n",
       "| <!--/--> | Id &lt;dbl&gt; | ActivityHour &lt;dttm&gt; | Calories &lt;int&gt; | time &lt;chr&gt; | date &lt;chr&gt; |\n",
       "|---|---|---|---|---|---|\n",
       "| 1 | 1503960366 | 2016-04-12 00:00:00 | 81 | 00:00:00 | 04/12/16 |\n",
       "| 2 | 1503960366 | 2016-04-12 01:00:00 | 61 | 01:00:00 | 04/12/16 |\n",
       "| 3 | 1503960366 | 2016-04-12 02:00:00 | 59 | 02:00:00 | 04/12/16 |\n",
       "| 4 | 1503960366 | 2016-04-12 03:00:00 | 47 | 03:00:00 | 04/12/16 |\n",
       "| 5 | 1503960366 | 2016-04-12 04:00:00 | 48 | 04:00:00 | 04/12/16 |\n",
       "| 6 | 1503960366 | 2016-04-12 05:00:00 | 48 | 05:00:00 | 04/12/16 |\n",
       "\n"
      ],
      "text/plain": [
       "  Id         ActivityHour        Calories time     date    \n",
       "1 1503960366 2016-04-12 00:00:00 81       00:00:00 04/12/16\n",
       "2 1503960366 2016-04-12 01:00:00 61       01:00:00 04/12/16\n",
       "3 1503960366 2016-04-12 02:00:00 59       02:00:00 04/12/16\n",
       "4 1503960366 2016-04-12 03:00:00 47       03:00:00 04/12/16\n",
       "5 1503960366 2016-04-12 04:00:00 48       04:00:00 04/12/16\n",
       "6 1503960366 2016-04-12 05:00:00 48       05:00:00 04/12/16"
      ]
     },
     "metadata": {},
     "output_type": "display_data"
    }
   ],
   "source": [
    "calories$ActivityHour=as.POSIXct(calories$ActivityHour, format=\"%m/%d/%Y %I:%M:%S %p\", tz=Sys.timezone())\n",
    "calories$time <- format(calories$ActivityHour, format = \"%H:%M:%S\")\n",
    "calories$date <- format(calories$ActivityHour, format = \"%m/%d/%y\")\n",
    "head(calories)"
   ]
  },
  {
   "cell_type": "markdown",
   "id": "3df5ef3c-ff48-4003-9d58-e0aef8fcb9af",
   "metadata": {},
   "source": [
    "# 4. Exploratory Data Analysis and Visualization"
   ]
  },
  {
   "cell_type": "markdown",
   "id": "e2c7685c-9135-4bd0-a875-86fef90cb481",
   "metadata": {},
   "source": [
    "### Key Objectives:\n",
    "* Identifying trends and relationships\n",
    "* Performing calculations\n",
    "* Creating compelling visuals "
   ]
  },
  {
   "cell_type": "markdown",
   "id": "93989735-aa3e-447b-95a3-377297216be0",
   "metadata": {},
   "source": [
    "After I finished cleaning the data, I analyzed the data frames through the select and summary functions to identify trends."
   ]
  },
  {
   "cell_type": "code",
   "execution_count": 71,
   "id": "cda092a6-af36-4f52-9ab0-89eab2d1f950",
   "metadata": {},
   "outputs": [
    {
     "data": {
      "text/plain": [
       "   TotalSteps    TotalDistance       Calories   \n",
       " Min.   :    0   Min.   : 0.000   Min.   :   0  \n",
       " 1st Qu.: 3790   1st Qu.: 2.620   1st Qu.:1828  \n",
       " Median : 7406   Median : 5.245   Median :2134  \n",
       " Mean   : 7638   Mean   : 5.490   Mean   :2304  \n",
       " 3rd Qu.:10727   3rd Qu.: 7.713   3rd Qu.:2793  \n",
       " Max.   :36019   Max.   :28.030   Max.   :4900  "
      ]
     },
     "metadata": {},
     "output_type": "display_data"
    }
   ],
   "source": [
    "activity %>% \n",
    "  select(TotalSteps, TotalDistance, Calories) %>% \n",
    "  summary()"
   ]
  },
  {
   "cell_type": "markdown",
   "id": "fa1fd798-7a69-4b6b-b82b-bcc7724cef45",
   "metadata": {},
   "source": [
    "Observations from this summary:\n",
    "\n",
    "- The average amount of steps per day was 7,638 steps. According to the CDC, adults should aim to take between 8,000-12,000 steps a day. The CDC found that taking 8,000 steps per day was associated with a 51% lower risk for death from all causes compared to 4,000 steps. Taking 12,000 steps compared to 4,000 per day was associated with a 65% lower risk. "
   ]
  },
  {
   "cell_type": "code",
   "execution_count": 72,
   "id": "04d6281b-939a-4086-b6fb-3e9259e80195",
   "metadata": {},
   "outputs": [
    {
     "data": {
      "text/plain": [
       " VeryActiveMinutes FairlyActiveMinutes SedentaryMinutes\n",
       " Min.   :  0.00    Min.   :  0.00      Min.   :   0.0  \n",
       " 1st Qu.:  0.00    1st Qu.:  0.00      1st Qu.: 729.8  \n",
       " Median :  4.00    Median :  6.00      Median :1057.5  \n",
       " Mean   : 21.16    Mean   : 13.56      Mean   : 991.2  \n",
       " 3rd Qu.: 32.00    3rd Qu.: 19.00      3rd Qu.:1229.5  \n",
       " Max.   :210.00    Max.   :143.00      Max.   :1440.0  "
      ]
     },
     "metadata": {},
     "output_type": "display_data"
    }
   ],
   "source": [
    "activity %>% \n",
    "  select(VeryActiveMinutes,FairlyActiveMinutes,SedentaryMinutes) %>% \n",
    "  summary()"
   ]
  },
  {
   "cell_type": "markdown",
   "id": "44a7dba1-8541-4dd7-a904-e527813c926b",
   "metadata": {},
   "source": [
    "Observations from this summary:\n",
    "\n",
    "- The average amount of sedentary minutes a day was 991.2 minutes (17 hours). The average amount of very active and fairly active minutes a day are both under the CDC guidelines of 60 minutes of activity a day."
   ]
  },
  {
   "cell_type": "code",
   "execution_count": 73,
   "id": "31581a19-184a-499a-8ab8-d237bd8b2483",
   "metadata": {},
   "outputs": [
    {
     "data": {
      "text/plain": [
       " TotalSleepRecords TotalMinutesAsleep TotalTimeInBed \n",
       " Min.   :1.00      Min.   : 58.0      Min.   : 61.0  \n",
       " 1st Qu.:1.00      1st Qu.:361.0      1st Qu.:403.8  \n",
       " Median :1.00      Median :432.5      Median :463.0  \n",
       " Mean   :1.12      Mean   :419.2      Mean   :458.5  \n",
       " 3rd Qu.:1.00      3rd Qu.:490.0      3rd Qu.:526.0  \n",
       " Max.   :3.00      Max.   :796.0      Max.   :961.0  "
      ]
     },
     "metadata": {},
     "output_type": "display_data"
    }
   ],
   "source": [
    "sleep %>%\n",
    "  select(TotalSleepRecords, TotalMinutesAsleep, TotalTimeInBed) %>%\n",
    "  summary()"
   ]
  },
  {
   "cell_type": "markdown",
   "id": "364cbb0c-31cc-4751-a34c-1c32ea61cb79",
   "metadata": {},
   "source": [
    "Observations from this summary:\n",
    "\n",
    "- The average total time asleep is 419.2 minutes (7 hours). Most users are getting the recommended amount of sleep of 7 hours or more per the CDC guidelines."
   ]
  },
  {
   "cell_type": "markdown",
   "id": "1ecf7c80-534e-4341-95c3-de9d9470c3de",
   "metadata": {},
   "source": [
    "I merged the \"sleep\" data into my \"activity\" data frame. "
   ]
  },
  {
   "cell_type": "code",
   "execution_count": 74,
   "id": "2d198cc0-039b-4244-9d09-43af0b1e17ee",
   "metadata": {},
   "outputs": [
    {
     "data": {
      "text/html": [
       "<table class=\"dataframe\">\n",
       "<caption>A data.frame: 6 × 20</caption>\n",
       "<thead>\n",
       "\t<tr><th></th><th scope=col>Id</th><th scope=col>date</th><th scope=col>SleepDay</th><th scope=col>TotalSleepRecords</th><th scope=col>TotalMinutesAsleep</th><th scope=col>TotalTimeInBed</th><th scope=col>ActivityDate</th><th scope=col>TotalSteps</th><th scope=col>TotalDistance</th><th scope=col>TrackerDistance</th><th scope=col>LoggedActivitiesDistance</th><th scope=col>VeryActiveDistance</th><th scope=col>ModeratelyActiveDistance</th><th scope=col>LightActiveDistance</th><th scope=col>SedentaryActiveDistance</th><th scope=col>VeryActiveMinutes</th><th scope=col>FairlyActiveMinutes</th><th scope=col>LightlyActiveMinutes</th><th scope=col>SedentaryMinutes</th><th scope=col>Calories</th></tr>\n",
       "\t<tr><th></th><th scope=col>&lt;dbl&gt;</th><th scope=col>&lt;chr&gt;</th><th scope=col>&lt;dttm&gt;</th><th scope=col>&lt;int&gt;</th><th scope=col>&lt;int&gt;</th><th scope=col>&lt;int&gt;</th><th scope=col>&lt;dttm&gt;</th><th scope=col>&lt;int&gt;</th><th scope=col>&lt;dbl&gt;</th><th scope=col>&lt;dbl&gt;</th><th scope=col>&lt;dbl&gt;</th><th scope=col>&lt;dbl&gt;</th><th scope=col>&lt;dbl&gt;</th><th scope=col>&lt;dbl&gt;</th><th scope=col>&lt;dbl&gt;</th><th scope=col>&lt;int&gt;</th><th scope=col>&lt;int&gt;</th><th scope=col>&lt;int&gt;</th><th scope=col>&lt;int&gt;</th><th scope=col>&lt;int&gt;</th></tr>\n",
       "</thead>\n",
       "<tbody>\n",
       "\t<tr><th scope=row>1</th><td>1503960366</td><td>04/12/16</td><td>2016-04-12</td><td>1</td><td>327</td><td>346</td><td>2016-04-12</td><td>13162</td><td>8.50</td><td>8.50</td><td>0</td><td>1.88</td><td>0.55</td><td>6.06</td><td>0</td><td>25</td><td>13</td><td>328</td><td>728</td><td>1985</td></tr>\n",
       "\t<tr><th scope=row>2</th><td>1503960366</td><td>04/13/16</td><td>2016-04-13</td><td>2</td><td>384</td><td>407</td><td>2016-04-13</td><td>10735</td><td>6.97</td><td>6.97</td><td>0</td><td>1.57</td><td>0.69</td><td>4.71</td><td>0</td><td>21</td><td>19</td><td>217</td><td>776</td><td>1797</td></tr>\n",
       "\t<tr><th scope=row>3</th><td>1503960366</td><td>04/15/16</td><td>2016-04-15</td><td>1</td><td>412</td><td>442</td><td>2016-04-15</td><td> 9762</td><td>6.28</td><td>6.28</td><td>0</td><td>2.14</td><td>1.26</td><td>2.83</td><td>0</td><td>29</td><td>34</td><td>209</td><td>726</td><td>1745</td></tr>\n",
       "\t<tr><th scope=row>4</th><td>1503960366</td><td>04/16/16</td><td>2016-04-16</td><td>2</td><td>340</td><td>367</td><td>2016-04-16</td><td>12669</td><td>8.16</td><td>8.16</td><td>0</td><td>2.71</td><td>0.41</td><td>5.04</td><td>0</td><td>36</td><td>10</td><td>221</td><td>773</td><td>1863</td></tr>\n",
       "\t<tr><th scope=row>5</th><td>1503960366</td><td>04/17/16</td><td>2016-04-17</td><td>1</td><td>700</td><td>712</td><td>2016-04-17</td><td> 9705</td><td>6.48</td><td>6.48</td><td>0</td><td>3.19</td><td>0.78</td><td>2.51</td><td>0</td><td>38</td><td>20</td><td>164</td><td>539</td><td>1728</td></tr>\n",
       "\t<tr><th scope=row>6</th><td>1503960366</td><td>04/19/16</td><td>2016-04-19</td><td>1</td><td>304</td><td>320</td><td>2016-04-19</td><td>15506</td><td>9.88</td><td>9.88</td><td>0</td><td>3.53</td><td>1.32</td><td>5.03</td><td>0</td><td>50</td><td>31</td><td>264</td><td>775</td><td>2035</td></tr>\n",
       "</tbody>\n",
       "</table>\n"
      ],
      "text/latex": [
       "A data.frame: 6 × 20\n",
       "\\begin{tabular}{r|llllllllllllllllllll}\n",
       "  & Id & date & SleepDay & TotalSleepRecords & TotalMinutesAsleep & TotalTimeInBed & ActivityDate & TotalSteps & TotalDistance & TrackerDistance & LoggedActivitiesDistance & VeryActiveDistance & ModeratelyActiveDistance & LightActiveDistance & SedentaryActiveDistance & VeryActiveMinutes & FairlyActiveMinutes & LightlyActiveMinutes & SedentaryMinutes & Calories\\\\\n",
       "  & <dbl> & <chr> & <dttm> & <int> & <int> & <int> & <dttm> & <int> & <dbl> & <dbl> & <dbl> & <dbl> & <dbl> & <dbl> & <dbl> & <int> & <int> & <int> & <int> & <int>\\\\\n",
       "\\hline\n",
       "\t1 & 1503960366 & 04/12/16 & 2016-04-12 & 1 & 327 & 346 & 2016-04-12 & 13162 & 8.50 & 8.50 & 0 & 1.88 & 0.55 & 6.06 & 0 & 25 & 13 & 328 & 728 & 1985\\\\\n",
       "\t2 & 1503960366 & 04/13/16 & 2016-04-13 & 2 & 384 & 407 & 2016-04-13 & 10735 & 6.97 & 6.97 & 0 & 1.57 & 0.69 & 4.71 & 0 & 21 & 19 & 217 & 776 & 1797\\\\\n",
       "\t3 & 1503960366 & 04/15/16 & 2016-04-15 & 1 & 412 & 442 & 2016-04-15 &  9762 & 6.28 & 6.28 & 0 & 2.14 & 1.26 & 2.83 & 0 & 29 & 34 & 209 & 726 & 1745\\\\\n",
       "\t4 & 1503960366 & 04/16/16 & 2016-04-16 & 2 & 340 & 367 & 2016-04-16 & 12669 & 8.16 & 8.16 & 0 & 2.71 & 0.41 & 5.04 & 0 & 36 & 10 & 221 & 773 & 1863\\\\\n",
       "\t5 & 1503960366 & 04/17/16 & 2016-04-17 & 1 & 700 & 712 & 2016-04-17 &  9705 & 6.48 & 6.48 & 0 & 3.19 & 0.78 & 2.51 & 0 & 38 & 20 & 164 & 539 & 1728\\\\\n",
       "\t6 & 1503960366 & 04/19/16 & 2016-04-19 & 1 & 304 & 320 & 2016-04-19 & 15506 & 9.88 & 9.88 & 0 & 3.53 & 1.32 & 5.03 & 0 & 50 & 31 & 264 & 775 & 2035\\\\\n",
       "\\end{tabular}\n"
      ],
      "text/markdown": [
       "\n",
       "A data.frame: 6 × 20\n",
       "\n",
       "| <!--/--> | Id &lt;dbl&gt; | date &lt;chr&gt; | SleepDay &lt;dttm&gt; | TotalSleepRecords &lt;int&gt; | TotalMinutesAsleep &lt;int&gt; | TotalTimeInBed &lt;int&gt; | ActivityDate &lt;dttm&gt; | TotalSteps &lt;int&gt; | TotalDistance &lt;dbl&gt; | TrackerDistance &lt;dbl&gt; | LoggedActivitiesDistance &lt;dbl&gt; | VeryActiveDistance &lt;dbl&gt; | ModeratelyActiveDistance &lt;dbl&gt; | LightActiveDistance &lt;dbl&gt; | SedentaryActiveDistance &lt;dbl&gt; | VeryActiveMinutes &lt;int&gt; | FairlyActiveMinutes &lt;int&gt; | LightlyActiveMinutes &lt;int&gt; | SedentaryMinutes &lt;int&gt; | Calories &lt;int&gt; |\n",
       "|---|---|---|---|---|---|---|---|---|---|---|---|---|---|---|---|---|---|---|---|---|\n",
       "| 1 | 1503960366 | 04/12/16 | 2016-04-12 | 1 | 327 | 346 | 2016-04-12 | 13162 | 8.50 | 8.50 | 0 | 1.88 | 0.55 | 6.06 | 0 | 25 | 13 | 328 | 728 | 1985 |\n",
       "| 2 | 1503960366 | 04/13/16 | 2016-04-13 | 2 | 384 | 407 | 2016-04-13 | 10735 | 6.97 | 6.97 | 0 | 1.57 | 0.69 | 4.71 | 0 | 21 | 19 | 217 | 776 | 1797 |\n",
       "| 3 | 1503960366 | 04/15/16 | 2016-04-15 | 1 | 412 | 442 | 2016-04-15 |  9762 | 6.28 | 6.28 | 0 | 2.14 | 1.26 | 2.83 | 0 | 29 | 34 | 209 | 726 | 1745 |\n",
       "| 4 | 1503960366 | 04/16/16 | 2016-04-16 | 2 | 340 | 367 | 2016-04-16 | 12669 | 8.16 | 8.16 | 0 | 2.71 | 0.41 | 5.04 | 0 | 36 | 10 | 221 | 773 | 1863 |\n",
       "| 5 | 1503960366 | 04/17/16 | 2016-04-17 | 1 | 700 | 712 | 2016-04-17 |  9705 | 6.48 | 6.48 | 0 | 3.19 | 0.78 | 2.51 | 0 | 38 | 20 | 164 | 539 | 1728 |\n",
       "| 6 | 1503960366 | 04/19/16 | 2016-04-19 | 1 | 304 | 320 | 2016-04-19 | 15506 | 9.88 | 9.88 | 0 | 3.53 | 1.32 | 5.03 | 0 | 50 | 31 | 264 | 775 | 2035 |\n",
       "\n"
      ],
      "text/plain": [
       "  Id         date     SleepDay   TotalSleepRecords TotalMinutesAsleep\n",
       "1 1503960366 04/12/16 2016-04-12 1                 327               \n",
       "2 1503960366 04/13/16 2016-04-13 2                 384               \n",
       "3 1503960366 04/15/16 2016-04-15 1                 412               \n",
       "4 1503960366 04/16/16 2016-04-16 2                 340               \n",
       "5 1503960366 04/17/16 2016-04-17 1                 700               \n",
       "6 1503960366 04/19/16 2016-04-19 1                 304               \n",
       "  TotalTimeInBed ActivityDate TotalSteps TotalDistance TrackerDistance\n",
       "1 346            2016-04-12   13162      8.50          8.50           \n",
       "2 407            2016-04-13   10735      6.97          6.97           \n",
       "3 442            2016-04-15    9762      6.28          6.28           \n",
       "4 367            2016-04-16   12669      8.16          8.16           \n",
       "5 712            2016-04-17    9705      6.48          6.48           \n",
       "6 320            2016-04-19   15506      9.88          9.88           \n",
       "  LoggedActivitiesDistance VeryActiveDistance ModeratelyActiveDistance\n",
       "1 0                        1.88               0.55                    \n",
       "2 0                        1.57               0.69                    \n",
       "3 0                        2.14               1.26                    \n",
       "4 0                        2.71               0.41                    \n",
       "5 0                        3.19               0.78                    \n",
       "6 0                        3.53               1.32                    \n",
       "  LightActiveDistance SedentaryActiveDistance VeryActiveMinutes\n",
       "1 6.06                0                       25               \n",
       "2 4.71                0                       21               \n",
       "3 2.83                0                       29               \n",
       "4 5.04                0                       36               \n",
       "5 2.51                0                       38               \n",
       "6 5.03                0                       50               \n",
       "  FairlyActiveMinutes LightlyActiveMinutes SedentaryMinutes Calories\n",
       "1 13                  328                  728              1985    \n",
       "2 19                  217                  776              1797    \n",
       "3 34                  209                  726              1745    \n",
       "4 10                  221                  773              1863    \n",
       "5 20                  164                  539              1728    \n",
       "6 31                  264                  775              2035    "
      ]
     },
     "metadata": {},
     "output_type": "display_data"
    }
   ],
   "source": [
    "merged_data <- merge(sleep, activity, by=c('Id', 'date'))\n",
    "head(merged_data)"
   ]
  },
  {
   "cell_type": "markdown",
   "id": "a05076ae-f49b-4f9c-8910-66f16fd76b20",
   "metadata": {},
   "source": []
  },
  {
   "cell_type": "markdown",
   "id": "a65c9c14-a993-4fa5-83d3-811f9e2e4e57",
   "metadata": {},
   "source": [
    "Next I began the visualization process. "
   ]
  },
  {
   "cell_type": "code",
   "execution_count": 75,
   "id": "15ec4f74-5cac-4801-98ed-6b9607756453",
   "metadata": {},
   "outputs": [
    {
     "name": "stderr",
     "output_type": "stream",
     "text": [
      "`geom_smooth()` using method = 'loess' and formula 'y ~ x'\n",
      "\n"
     ]
    },
    {
     "data": {
      "image/png": "[encoded data removed]",
      "text/plain": [
       "plot without title"
      ]
     },
     "metadata": {
      "image/png": {
       "height": 420,
       "width": 420
      }
     },
     "output_type": "display_data"
    }
   ],
   "source": [
    "ggplot(data=activity, aes(x=TotalSteps, y=Calories)) + \n",
    "  geom_point() + geom_smooth() + labs(title=\"Total Steps vs. Calories\")"
   ]
  },
  {
   "cell_type": "markdown",
   "id": "7faa064a-4619-48c8-849e-2093fdc416d7",
   "metadata": {},
   "source": [
    "The visual above shows a positive correlation between number of steps and calories burned as expected. The more steps users took, the more calories they burned.  "
   ]
  },
  {
   "cell_type": "code",
   "execution_count": 76,
   "id": "4db2b0f0-1b73-49c1-9284-7c4b3618eddd",
   "metadata": {},
   "outputs": [
    {
     "name": "stderr",
     "output_type": "stream",
     "text": [
      "`geom_smooth()` using method = 'loess' and formula 'y ~ x'\n",
      "\n"
     ]
    },
    {
     "data": {
      "image/png": "[encoded data removed]",
      "text/plain": [
       "plot without title"
      ]
     },
     "metadata": {
      "image/png": {
       "height": 420,
       "width": 420
      }
     },
     "output_type": "display_data"
    }
   ],
   "source": [
    "ggplot(data=sleep, aes(x=TotalMinutesAsleep, y=TotalTimeInBed)) + geom_point(color='dark green') +geom_smooth() + labs(title=\"Total Minutes Asleep vs. Total Time in Bed\")"
   ]
  },
  {
   "cell_type": "markdown",
   "id": "a757951f-c0ea-4727-90e2-7d2e218ea4f3",
   "metadata": {},
   "source": [
    "This visual also shows a positive correlation between time spent in bed and total minutes asleep. FitBit users who spent more time in bed also spent more time asleep. "
   ]
  },
  {
   "cell_type": "code",
   "execution_count": 77,
   "id": "37de2543-e9d0-4019-bd67-bc8a763d2dd6",
   "metadata": {},
   "outputs": [
    {
     "name": "stderr",
     "output_type": "stream",
     "text": [
      "`geom_smooth()` using method = 'loess' and formula 'y ~ x'\n",
      "\n"
     ]
    },
    {
     "data": {
      "image/png": "[encoded data removed]",
      "text/plain": [
       "plot without title"
      ]
     },
     "metadata": {
      "image/png": {
       "height": 420,
       "width": 420
      }
     },
     "output_type": "display_data"
    }
   ],
   "source": [
    "ggplot(data=merged_data, aes(x=TotalMinutesAsleep, y=SedentaryMinutes)) + \n",
    "geom_point(color='darkblue') + geom_smooth() +\n",
    "  labs(title=\"Minutes Asleep vs. Sedentary Minutes\")"
   ]
  },
  {
   "cell_type": "markdown",
   "id": "ccb58658-33ff-480f-8bc0-be9ade909ec8",
   "metadata": {},
   "source": [
    "This visual shows a negative correlation between sedentary minutes and minutes asleep. Fitbit users had more sedentary minutes a day slept less at night. "
   ]
  },
  {
   "cell_type": "code",
   "execution_count": 78,
   "id": "8f65db7c-fbbc-4981-a724-d2cbb86d31d1",
   "metadata": {},
   "outputs": [],
   "source": [
    "int_new <- intensity %>%\n",
    "  dplyr::group_by(time) %>%\n",
    "  drop_na() %>%\n",
    "  dplyr::summarise(mean_total_int = mean(TotalIntensity))"
   ]
  },
  {
   "cell_type": "code",
   "execution_count": 79,
   "id": "873ca6df-3d92-4ca1-bd80-00658bcbf336",
   "metadata": {},
   "outputs": [
    {
     "name": "stderr",
     "output_type": "stream",
     "text": [
      "Warning message:\n",
      "\"Ignoring unknown parameters: binwidth, bins, pad\"\n"
     ]
    },
    {
     "data": {
      "image/png": "[encoded data removed]",
      "text/plain": [
       "plot without title"
      ]
     },
     "metadata": {
      "image/png": {
       "height": 420,
       "width": 420
      }
     },
     "output_type": "display_data"
    }
   ],
   "source": [
    "ggplot(data=int_new, aes(x=time, y=mean_total_int)) + geom_histogram(stat = \"identity\", fill='darkblue') +\n",
    "  theme(axis.text.x = element_text(angle = 90)) +\n",
    "  labs(title=\"Average Total Intensity vs. Time\")"
   ]
  },
  {
   "cell_type": "markdown",
   "id": "220bfa27-88ac-4ab8-a038-8ea67730801c",
   "metadata": {},
   "source": [
    "The visual above shows that FitBit users were most active between 5 and 7 pm. Based on this visual, we can assume that FitBit users are most likely exercising after they get off work."
   ]
  },
  {
   "cell_type": "markdown",
   "id": "869ec4d8-cac5-478d-ab85-246b60604911",
   "metadata": {},
   "source": [
    "# 5. Conclusion "
   ]
  },
  {
   "cell_type": "code",
   "execution_count": 80,
   "id": "614a3835-92c4-4b8a-99aa-f19fe986f361",
   "metadata": {},
   "outputs": [
    {
     "ename": "ERROR",
     "evalue": "Error in parse(text = x, srcfile = src): <text>:1:2: unexpected '['\n1: ![\n     ^\n",
     "output_type": "error",
     "traceback": [
      "Error in parse(text = x, srcfile = src): <text>:1:2: unexpected '['\n1: ![\n     ^\nTraceback:\n"
     ]
    }
   ],
   "source": [
    "![Run](run.jfif)"
   ]
  },
  {
   "cell_type": "markdown",
   "id": "65e2c419-c023-4e11-b080-7f4d45920752",
   "metadata": {},
   "source": [
    "## Key Objectives:\n",
    "\n",
    "* Final conclusion based on insights\n",
    "* Applying insights to marketing strategy "
   ]
  },
  {
   "cell_type": "markdown",
   "id": "3eb2d850-4f48-4d3a-8782-0b383a021390",
   "metadata": {},
   "source": [
    "### Recommendations for the Business\n",
    "\n",
    "After analyzing the FitBit Fitness Tracker Data, I found some insights that would help influence Bellabeat marketing strategy.\n",
    "\n",
    "Bellabeat's target audience should be women wanting to perfect their work/life balance to improve their health. Based on my analysis, most users are sedentary an average of 17 hours a day and exercise between 5 pm and 7 pm. This indicates the average user most likely has an office job. \n",
    "\n",
    "Ideas to improve the Bellabeat App:\n",
    "\n",
    "* Notifications to increase daily step count. Most users are not reaching the recommended step count of at least 8,000 steps a day. Reminders to increase daily step count can help users reach the daily recommmended goal. Adding in information on health benefits of reaching the daily step goal could also help motivate users to increase their step count as well.\n",
    "\n",
    "* Since most activities happen between 5 - 7 pm, notifications to remember to reach the recommended 60 minutes of exercise a day would be beneficial around this time to remind users to exercise once they get off work. \n",
    "\n",
    "* Notifications to go to sleep and set a bed time would also benefit Bellabeat users as increased time in bed correlated with increased time asleep. It could also be beneficial to offer techniques and tips to wind down in order to improve the user's quality of sleep. \n",
    "\n",
    "* A weekly summary of sleep quality, step count, activity level, and calories burned would also be beneficial to help users identify weekly habits in order to better reach their health goals. "
   ]
  },
  {
   "cell_type": "markdown",
   "id": "95ac8133-3087-4faa-b91e-c245066ba6b7",
   "metadata": {},
   "source": [
    "# Thank you for reading my notebook!!!\n",
    "\n",
    "### Regards,\n",
    "\n",
    "### Julia Farson"
   ]
  }
 ],
 "metadata": {
  "kernelspec": {
   "display_name": "R",
   "language": "R",
   "name": "ir"
  },
  "language_info": {
   "codemirror_mode": "r",
   "file_extension": ".r",
   "mimetype": "text/x-r-source",
   "name": "R",
   "pygments_lexer": "r",
   "version": "4.2.1"
  },
  "toc-autonumbering": false,
  "toc-showcode": true,
  "toc-showmarkdowntxt": false
 },
 "nbformat": 4,
 "nbformat_minor": 5
}
